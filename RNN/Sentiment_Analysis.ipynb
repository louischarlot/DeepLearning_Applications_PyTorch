{
  "cells": [
    {
      "cell_type": "markdown",
      "metadata": {
        "id": "5nvhJqpkqeQZ"
      },
      "source": [
        "# Sentiment Analysis of Yelp reviews: Word Embeddings and LSTM\n",
        "\n",
        "* **Project aim:**\n",
        "<br>In this notebook, we implement a **sentiment analysis** to predict whether the reviews of the [YelpReviewFull dataset](https://pytorch.org/text/stable/datasets.html#yelpreviewfull) are **\"good\"** (**4 or 5 stars**), **\"neutral\"** (**3 stars**) or **\"bad\"** (**1 or 2 stars**).\n",
        "\n",
        "\n",
        "* **Dataset details:**\n",
        "<br>The [YelpReviewFull dataset](https://pytorch.org/text/stable/datasets.html#yelpreviewfull) consists of reviews from Yelp, and is extracted from the Yelp Dataset Challenge 2015 data. \n",
        "A data point of this dataset comprises a review's text and the corresponding label (1 to 5 stars).\n",
        "\n",
        "* **Method used for the Sentiment Analysis:**\n",
        "<br>We build a neuronal network **composed of 2 layers**:\n",
        "\n",
        "    - First, an **Embedding layer** that permits to have a less heavy representation of the reviews than the **hundreds of thousands of one-hot encoded words**: it is useful to **improve** the training **efficiency**. We use for this the [PyTorch Embedding](https://pytorch.org/docs/stable/generated/torch.nn.Embedding.html) function.\n",
        "\n",
        "    - Second, an **LSTM layer** (Long Short-Term Memory). [LSTM](https://pubmed.ncbi.nlm.nih.gov/9377276/) permits to avoid the issue of **vanishing gradients** that occurs with basic RNNs. We use here the [PyTorch LSTM](https://pytorch.org/docs/stable/generated/torch.nn.LSTM.html?highlight=lstm#torch.nn.LSTM) function.\n",
        "\n",
        "\n",
        "* **Results:**\n",
        "<br> We **test** our model in **two different ways**:\n",
        "\n",
        "    - We first **test** our model **with the test dataset** , that has not been used during the model training: we get a **80% test accuracy** for our model!\n",
        "\n",
        "    - We then **test** our model **on two personal reviews** (one **positive** and one **negative**) that we write on our own:\n",
        "        - For the positive review we wrote, the model gives a probability of **99.9%** for the hypothesis that it is a positive review.\n",
        "        - For the negative review we wrote, the model gives a probability of **100.0%** for the hypothesis that it is a negative review.\n",
        "\n",
        "\n",
        "**Note:**\n",
        "<br>To build this notebook, several hints given by the [Udacity](https://github.com/udacity/deep-learning-v2-pytorch/blob/master/sentiment-rnn/Sentiment_RNN_Solution.ipynb) team have been very useful.\n"
      ]
    },
    {
      "cell_type": "markdown",
      "metadata": {
        "id": "XLecIfooygpU"
      },
      "source": [
        "To begin with, we install the libraries that are necessary to run the code on [Google Colab](https://colab.research.google.com/). \n",
        "<br/> (\"capture\" permits to hide the output cell)"
      ]
    },
    {
      "cell_type": "code",
      "execution_count": 1,
      "metadata": {
        "id": "9gMXCUoNygpU"
      },
      "outputs": [],
      "source": [
        "%%capture  \n",
        "%%bash\n",
        "pip install torch==1.11.0\n",
        "pip install folium==0.2.1\n",
        "pip install torchdata\n",
        "pip install datasets"
      ]
    },
    {
      "cell_type": "code",
      "execution_count": 2,
      "metadata": {
        "id": "9uM_lvsCqeQb"
      },
      "outputs": [],
      "source": [
        "import matplotlib.pyplot as plt\n",
        "import numpy as np\n",
        "import pandas as pd\n",
        "\n",
        "import torch\n",
        "from torch import optim\n",
        "import torchdata\n",
        "import torch.nn as nn\n",
        "import torch.nn.functional as F\n",
        "from torchtext import transforms, utils, models #, datasets "
      ]
    },
    {
      "cell_type": "markdown",
      "metadata": {
        "id": "y8tj6SPpygpX"
      },
      "source": [
        "# Data pre-processing:\n",
        "\n",
        "## Data loading and reduction:\n",
        "\n",
        "We download the data with the [Hugging Face](https://huggingface.co/) library **datasets**. \n",
        "\n",
        "(The direct downloading from torchtext.datsets is impossible for now, because of a bug that will be corrected in the next version of PyTorch.)"
      ]
    },
    {
      "cell_type": "code",
      "execution_count": 3,
      "metadata": {
        "colab": {
          "base_uri": "https://localhost:8080/",
          "height": 188,
          "referenced_widgets": [
            "73d93293c47d4dffb0bc6cba66027b0d",
            "1e1139a84320469591dcbc275ef82bbf",
            "205cb3048bcf483a9640e61cdd11fd47",
            "42739aaed7d7438887f1a73909ebeaf9",
            "76644a9e483147489a842b542116cb60",
            "a6a1179e78ce464791266216ffa199a9",
            "9242a246dcd6458bb29add365dfef49c",
            "235f55feb79f4ea6b68cdd8d6650aa8e",
            "2b930b13db8a411ea82a3a45264aa64a",
            "c06d640a380645cca8a7463c0786ef9b",
            "b4bcfc34c56a4f159616f7e421051c87",
            "19d056f50ab146889e34cb5d70c6f53b",
            "321aa7be1fb64de18f2b6cc30229f326",
            "fefd40227f6c4d6d9741754f785f0b17",
            "e2371f4cfb0949c89595dc24125c95c4",
            "cb44655a82bd4e218a0fb144c4e33ee3",
            "368108528d2a48d5910144b1e50dc059",
            "3a7acea30c784d4b8c3e098c0c3585e5",
            "fe876539607347548d89bc40d06cda55",
            "881bebb8a5864279861135143306f150",
            "5de00b596c0843a181fce29b240fd620",
            "b853f0ce254e4fcd8f522a75e07637ae",
            "93da31c3c2914a328177cd5779e9958e",
            "2a434591aa3c40ef98a422dd36e505bd",
            "b6be5cf2af874e18bbf1f5f203a37bf5",
            "40716f3ee3494d51a34b1ebad5745e76",
            "d794b1f3880f4b92b94f19d9685390bb",
            "cc5362151d8a43baa95dea8923b9f3eb",
            "0179e2d29eb8425da1754e62a8efc5ad",
            "1178f36b51904566b13aec120237f43e",
            "ee386eb07f98483288f1ef3e279d38bc",
            "e588651a8ea14f1382a6b264392b9eb7",
            "f7ef254f4ab84dbaa175aa5b6af8d785",
            "63640390c3b347da8f21ecd221f31735",
            "208274a680294a5bacf962f7d95970c2",
            "a0d493b922384781845cc8356d1db42f",
            "89b047df896b4648b8de54d92d78516d",
            "553df4a46d864c0b93786002f299bbab",
            "f07ee0a585e14df4a431a1f39fabc420",
            "a24ffade57f9412c90928a1c43759e11",
            "f816e78496ba4804afef1d492ba9a797",
            "571ee93cc8bf42e5bfacf8f47074a90a",
            "b81f25c1b7f144cd8cda896a456df9ce",
            "2a4c88deb0764a03bbe9075c56fda056",
            "9e02714ee711406292cf0b4d8111d1e1",
            "623d70435c7148729ec671084e664d82",
            "9abb47b4f167470687a1c51a1da7d76f",
            "b69dfca43f3e45b19348910c2154c8e0",
            "d85dd7ab2f1246ae8acaf9e12db5f5d8",
            "820c60fda2df451d9dbfbe346cb2af4e",
            "db0635e44f674227bcaf94402326b4ae",
            "17d609a4e40f4deeb619cde4c4571384",
            "5b421b4b7f9a4502b091513b04f02a70",
            "eaf31479c4a845cd80032ddf1047468b",
            "cab14358e2ba47809479797a9d35d00a"
          ]
        },
        "id": "YFxG0Bz5ygpX",
        "outputId": "b36b5b81-118f-4496-cd01-66528f731ca1"
      },
      "outputs": [
        {
          "data": {
            "application/vnd.jupyter.widget-view+json": {
              "model_id": "73d93293c47d4dffb0bc6cba66027b0d",
              "version_major": 2,
              "version_minor": 0
            },
            "text/plain": [
              "Downloading builder script:   0%|          | 0.00/1.80k [00:00<?, ?B/s]"
            ]
          },
          "metadata": {},
          "output_type": "display_data"
        },
        {
          "data": {
            "application/vnd.jupyter.widget-view+json": {
              "model_id": "19d056f50ab146889e34cb5d70c6f53b",
              "version_major": 2,
              "version_minor": 0
            },
            "text/plain": [
              "Downloading metadata:   0%|          | 0.00/979 [00:00<?, ?B/s]"
            ]
          },
          "metadata": {},
          "output_type": "display_data"
        },
        {
          "name": "stdout",
          "output_type": "stream",
          "text": [
            "Downloading and preparing dataset yelp_review_full/yelp_review_full (download: 187.06 MiB, generated: 496.94 MiB, post-processed: Unknown size, total: 684.00 MiB) to /root/.cache/huggingface/datasets/yelp_review_full/yelp_review_full/1.0.0/e8e18e19d7be9e75642fc66b198abadb116f73599ec89a69ba5dd8d1e57ba0bf...\n"
          ]
        },
        {
          "data": {
            "application/vnd.jupyter.widget-view+json": {
              "model_id": "93da31c3c2914a328177cd5779e9958e",
              "version_major": 2,
              "version_minor": 0
            },
            "text/plain": [
              "Downloading data:   0%|          | 0.00/196M [00:00<?, ?B/s]"
            ]
          },
          "metadata": {},
          "output_type": "display_data"
        },
        {
          "data": {
            "application/vnd.jupyter.widget-view+json": {
              "model_id": "63640390c3b347da8f21ecd221f31735",
              "version_major": 2,
              "version_minor": 0
            },
            "text/plain": [
              "Generating train split:   0%|          | 0/650000 [00:00<?, ? examples/s]"
            ]
          },
          "metadata": {},
          "output_type": "display_data"
        },
        {
          "data": {
            "application/vnd.jupyter.widget-view+json": {
              "model_id": "9e02714ee711406292cf0b4d8111d1e1",
              "version_major": 2,
              "version_minor": 0
            },
            "text/plain": [
              "Generating test split:   0%|          | 0/50000 [00:00<?, ? examples/s]"
            ]
          },
          "metadata": {},
          "output_type": "display_data"
        },
        {
          "name": "stdout",
          "output_type": "stream",
          "text": [
            "Dataset yelp_review_full downloaded and prepared to /root/.cache/huggingface/datasets/yelp_review_full/yelp_review_full/1.0.0/e8e18e19d7be9e75642fc66b198abadb116f73599ec89a69ba5dd8d1e57ba0bf. Subsequent calls will reuse this data.\n"
          ]
        },
        {
          "name": "stderr",
          "output_type": "stream",
          "text": [
            "Reusing dataset yelp_review_full (/root/.cache/huggingface/datasets/yelp_review_full/yelp_review_full/1.0.0/e8e18e19d7be9e75642fc66b198abadb116f73599ec89a69ba5dd8d1e57ba0bf)\n"
          ]
        }
      ],
      "source": [
        "from datasets import load_dataset\n",
        "train_data = load_dataset(\"yelp_review_full\", split=\"train\")\n",
        "test_data = load_dataset(\"yelp_review_full\", split=\"test\")\n",
        "\n",
        "reviews = train_data['text'] + test_data['text']\n",
        "stars = train_data['label'] + test_data['label']"
      ]
    },
    {
      "cell_type": "markdown",
      "metadata": {
        "id": "UvjQ_e7-ygpZ"
      },
      "source": [
        "We observe some data to see of all is OK."
      ]
    },
    {
      "cell_type": "code",
      "execution_count": 4,
      "metadata": {
        "colab": {
          "base_uri": "https://localhost:8080/"
        },
        "id": "o44VsEGwygpa",
        "outputId": "35cb8945-ebe4-475b-cf21-99ba34843770"
      },
      "outputs": [
        {
          "name": "stdout",
          "output_type": "stream",
          "text": [
            "A review example:   \"Been going to Dr. Goldberg for over 10 years. I think I was one of his 1st patients when he started at MHMG. He's been great over the years and is really all about the big picture. It is because of him, not my now former gyn Dr. Markoff, that I found out I have fibroids. He explores all options with you and is very patient and understanding. He doesn't judge and asks all the right questions. Very thorough and wants to be kept in the loop on every aspect of your medical health and your life.\"\n",
            "\n",
            "The related label (number of stars):  3 stars\n"
          ]
        }
      ],
      "source": [
        "print(f\"A review example:   \\\"{reviews[2]}\\\"\")\n",
        "print()\n",
        "print(f\"The related label (number of stars):  {stars[2]} stars\")"
      ]
    },
    {
      "cell_type": "markdown",
      "metadata": {
        "id": "jar-VPv2ygpb"
      },
      "source": [
        "The full dataset contains a very big number of reviews: 700,000."
      ]
    },
    {
      "cell_type": "code",
      "execution_count": 5,
      "metadata": {
        "colab": {
          "base_uri": "https://localhost:8080/"
        },
        "id": "tz0_12UVygpb",
        "outputId": "28d47352-ac99-4bec-850f-40a0b52d9ff6"
      },
      "outputs": [
        {
          "name": "stdout",
          "output_type": "stream",
          "text": [
            "Number of reviews of the full dataset:  700000\n"
          ]
        }
      ],
      "source": [
        "print(f\"Number of reviews of the full dataset:  {len(reviews)}\")"
      ]
    },
    {
      "cell_type": "markdown",
      "metadata": {
        "id": "iAuQ4twmygpc"
      },
      "source": [
        "Let us look at the full distribution of stars given to the reviews."
      ]
    },
    {
      "cell_type": "code",
      "execution_count": 6,
      "metadata": {
        "colab": {
          "base_uri": "https://localhost:8080/"
        },
        "id": "1bE1XT42ygpd",
        "outputId": "40ee7e2b-584a-43ff-9205-021eb636c8a5"
      },
      "outputs": [
        {
          "name": "stdout",
          "output_type": "stream",
          "text": [
            "Number of reviews with 1 STAR of the INITIAL dataset:  20.0 %\n",
            "Number of reviews with 2 STARS of the INITIAL dataset:  20.0 %\n",
            "Number of reviews with 3 STARS of the INITIAL dataset:  20.0 %\n",
            "Number of reviews with 4 STARS of the INITIAL dataset:  20.0 %\n",
            "Number of reviews with 5 STARS of the INITIAL dataset:  20.0 %\n"
          ]
        }
      ],
      "source": [
        "from collections import Counter\n",
        "\n",
        "print(f\"Number of reviews with 1 STAR of the INITIAL dataset:  {100*stars.count(0)/len(stars)} %\")\n",
        "print(f\"Number of reviews with 2 STARS of the INITIAL dataset:  {100*stars.count(1)/len(stars)} %\")\n",
        "print(f\"Number of reviews with 3 STARS of the INITIAL dataset:  {100*stars.count(2)/len(stars)} %\")\n",
        "print(f\"Number of reviews with 4 STARS of the INITIAL dataset:  {100*stars.count(3)/len(stars)} %\")\n",
        "print(f\"Number of reviews with 5 STARS of the INITIAL dataset:  {100*stars.count(4)/len(stars)} %\")\n"
      ]
    },
    {
      "cell_type": "markdown",
      "metadata": {
        "id": "2Gr6pbSaygpe"
      },
      "source": [
        "We decide to keep only **20%** of the original YelpReviewsFull dataset for our analysis (140,000 reviews!).\n",
        "We carry out the selection **by preserving the equal distribution of stars**."
      ]
    },
    {
      "cell_type": "code",
      "execution_count": 7,
      "metadata": {
        "colab": {
          "base_uri": "https://localhost:8080/"
        },
        "id": "Paj0Q6czygpe",
        "outputId": "01ff533d-086c-49e5-8fc4-365d2246a385"
      },
      "outputs": [
        {
          "name": "stdout",
          "output_type": "stream",
          "text": [
            "Number of reviews kept for our analysis:  140000\n"
          ]
        }
      ],
      "source": [
        "# We choose the indices that will be used\n",
        "indices_1_Star = [index for index in range(len(reviews)) if stars[index]==0]\n",
        "indices_2_Star = [index for index in range(len(reviews)) if stars[index]==1]\n",
        "indices_3_Star = [index for index in range(len(reviews)) if stars[index]==2]\n",
        "indices_4_Star = [index for index in range(len(reviews)) if stars[index]==3]\n",
        "indices_5_Star = [index for index in range(len(reviews)) if stars[index]==4]\n",
        "\n",
        "# We shuffle these indexes and delect randomly 20% of them\n",
        "np.random.seed(123)\n",
        "np.random.shuffle(indices_1_Star)\n",
        "np.random.shuffle(indices_2_Star)\n",
        "np.random.shuffle(indices_3_Star)\n",
        "np.random.shuffle(indices_4_Star)\n",
        "np.random.shuffle(indices_5_Star)\n",
        "selected_indices_1_Star = indices_1_Star[:len(indices_1_Star)//5]\n",
        "selected_indices_2_Star = indices_2_Star[:len(indices_2_Star)//5]\n",
        "selected_indices_3_Star = indices_3_Star[:len(indices_3_Star)//5]\n",
        "selected_indices_4_Star = indices_4_Star[:len(indices_4_Star)//5]\n",
        "selected_indices_5_Star = indices_5_Star[:len(indices_5_Star)//5]\n",
        "\n",
        "selected_indices = selected_indices_1_Star + selected_indices_2_Star + selected_indices_3_Star + selected_indices_4_Star + selected_indices_5_Star\n",
        "reviews = [reviews[index] for index in selected_indices]\n",
        "stars = [stars[index] for index in selected_indices]\n",
        "\n",
        "print(f\"Number of reviews kept for our analysis:  {len(reviews)}\")"
      ]
    },
    {
      "cell_type": "markdown",
      "metadata": {
        "id": "hYNKYqtnygpg"
      },
      "source": [
        "We check that the distribution of different stars is still the same."
      ]
    },
    {
      "cell_type": "code",
      "execution_count": 8,
      "metadata": {
        "colab": {
          "base_uri": "https://localhost:8080/"
        },
        "id": "vn2NQGPLygph",
        "outputId": "343fa443-8853-4e0f-ae18-daed9e62088c"
      },
      "outputs": [
        {
          "name": "stdout",
          "output_type": "stream",
          "text": [
            "Number of reviews with 1 STAR of the SELECTED dataset:  20.0 %\n",
            "Number of reviews with 2 STARS of the SELECTED dataset:  20.0 %\n",
            "Number of reviews with 3 STARS of the SELECTED dataset:  20.0 %\n",
            "Number of reviews with 4 STARS of the SELECTED dataset:  20.0 %\n",
            "Number of reviews with 5 STARS of the SELECTED dataset:  20.0 %\n"
          ]
        }
      ],
      "source": [
        "print(f\"Number of reviews with 1 STAR of the SELECTED dataset:  {100*stars.count(0)/len(stars)} %\")\n",
        "print(f\"Number of reviews with 2 STARS of the SELECTED dataset:  {100*stars.count(1)/len(stars)} %\")\n",
        "print(f\"Number of reviews with 3 STARS of the SELECTED dataset:  {100*stars.count(2)/len(stars)} %\")\n",
        "print(f\"Number of reviews with 4 STARS of the SELECTED dataset:  {100*stars.count(3)/len(stars)} %\")\n",
        "print(f\"Number of reviews with 5 STARS of the SELECTED dataset:  {100*stars.count(4)/len(stars)} %\")"
      ]
    },
    {
      "cell_type": "markdown",
      "metadata": {
        "id": "fIhrfcHfygph"
      },
      "source": [
        "## Data tokenization:\n",
        "\n",
        "We now **tokenize** the reviews in order to make them readable by our neuronal network. For this we carry out the following steps:\n",
        "\n",
        "- First, we **remove punctuation** and transform **upper cases into lower cases**.\n",
        "\n",
        "- Second, we **tokenize** the words, by assigning to each of them an **integer**.\n",
        "\n",
        "- Finally, we **translate** the reviews into tokenized reviews (by replacing each word by its corresponding integer)."
      ]
    },
    {
      "cell_type": "markdown",
      "metadata": {
        "id": "gWdAIuULygpi"
      },
      "source": [
        "Let us begin with punctuation and upper cases."
      ]
    },
    {
      "cell_type": "code",
      "execution_count": 9,
      "metadata": {
        "colab": {
          "base_uri": "https://localhost:8080/"
        },
        "id": "fTjCXhLsygpi",
        "outputId": "ecf2784c-71a5-471b-e531-1a15d3f666b9"
      },
      "outputs": [
        {
          "name": "stdout",
          "output_type": "stream",
          "text": [
            "food is good  service at the bar is excellent   franco dropping f bombs at the the bar is a total turn off  tell him to stay in the kitchennnwe came back 6 months later  and had the most bizarre experience  the owner chef came out of the kitchen and verbally attacked a table of patronsnhe said that he was not happy with their disappointment with one of their dinners  he challenged them to the parking lot where he was going to punch the fbomb out of them the customers told him to stand back and even asked if the police could be called  the food is still good yet over pricedngo only at your own risk\n"
          ]
        }
      ],
      "source": [
        "from string import punctuation\n",
        "\n",
        "# Remove punctuation and upper cases\n",
        "all_reviews = ' new_review_xyz '.join([review.translate(str.maketrans('', '', punctuation)) for review in reviews]) \n",
        "all_reviews = all_reviews.lower()\n",
        "\n",
        "# Split again the different reviews\n",
        "reviews_split = all_reviews.split(' new_review_xyz ')\n",
        "all_reviews = ' '.join(reviews_split)\n",
        "\n",
        "# Create a list containing all the words\n",
        "all_words = all_reviews.split()\n",
        "\n",
        "# We delete useless variables to increase available RAM\n",
        "del all_reviews\n",
        "\n",
        "# Check if all is OK with one review\n",
        "print(reviews_split[0])"
      ]
    },
    {
      "cell_type": "markdown",
      "metadata": {
        "id": "hSViouBmygpj"
      },
      "source": [
        "Now, let us **encode the words into integers**: we do this by building a **dictionary** that maps all the present words into integers. It will permit us to **convert the reviews into a list of integers**. We **keep the value 0 for the padding**, that will be carried out next to have reviews of same size."
      ]
    },
    {
      "cell_type": "code",
      "execution_count": 10,
      "metadata": {
        "id": "vT8bQk-wygpj"
      },
      "outputs": [],
      "source": [
        "# Count occurences of each word\n",
        "words_occurences = Counter(all_words) \n",
        "# Sort the words from the most to the least present\n",
        "words_sorted = sorted(words_occurences, key=words_occurences.get, reverse=True) \n",
        "# Build the dictionary that maps words to integers: we keep \"0\" for the padding\n",
        "word_to_integer = {word: integer for integer, word in enumerate(words_sorted, start=1)} \n",
        "\n",
        "\n",
        "## Tokenize each review in reviews_split and store the tokenized reviews in reviews_tokenized\n",
        "reviews_tokenized = []\n",
        "for review in reviews_split:\n",
        "    reviews_tokenized.append([word_to_integer[word] for word in review.split()])\n",
        "    "
      ]
    },
    {
      "cell_type": "code",
      "execution_count": 11,
      "metadata": {
        "colab": {
          "base_uri": "https://localhost:8080/"
        },
        "id": "AyUmIspKygpj",
        "outputId": "21fde3e7-61bb-4d49-cfff-cb6e094ded8e"
      },
      "outputs": [
        {
          "name": "stdout",
          "output_type": "stream",
          "text": [
            "Number of unique words:  279087\n",
            "\n",
            "Example of tokenized review: \n",
            " [4, 6, 10, 482, 133, 5, 3545, 58405, 3330, 296, 2, 4644, 206, 6, 44, 7, 1, 206, 3875, 75, 1, 296, 4, 76, 3, 120, 25, 32535, 10600, 3331, 312, 63, 23, 3, 52, 618, 14, 120, 9070, 134, 35816, 33, 19, 74, 144, 20, 1412, 6, 669, 16, 856, 1486, 1782, 6, 10, 537, 7, 625, 375, 7, 4548, 4420, 374, 44, 429, 3742, 16, 146, 1082, 24, 605, 32, 9, 1279, 388, 1840, 553, 255, 2, 62, 85374, 100, 59, 56, 32]\n",
            "\n",
            "The same review before tokenization: \n",
            " i was in las vegas to attend asd trade show and ti hotel was one of the hotel referred by the show  i got a room at 33rd flood facing strip  which had a great view but room smelt bad furnitures as you can see on picture was dirty with dark spots nobody was in charge of taking care of hallways leftover dishes  one ice bucket with few glasses were stayed there for 24 hours  towels looks old and some dirtynnever never go back there\n"
          ]
        }
      ],
      "source": [
        "# Number of unique words\n",
        "print('Number of unique words: ', len((word_to_integer))) \n",
        "print()\n",
        "\n",
        "print('Example of tokenized review: \\n', reviews_tokenized[1])\n",
        "print()\n",
        "\n",
        "print('The same review before tokenization: \\n', reviews_split[1])\n",
        "\n",
        "\n",
        "# We delete useless variables to increase available RAM\n",
        "del all_words\n",
        "del reviews_split\n",
        "del words_occurences\n",
        "del words_sorted"
      ]
    },
    {
      "cell_type": "markdown",
      "metadata": {
        "id": "U_2cO6U3ygpk"
      },
      "source": [
        "## Preparation of the features matrix (containing tokenized customized reviews)\n",
        "\n",
        "We prepare the review matrix, by **standardizing** the lenght of the reviews to **300** words, to make the neuronal network comutations reasonable:\n",
        "\n",
        "- We **remove** the reviews with no text.\n",
        "\n",
        "- We  **add zeros** to the reviews that are **too short**.\n",
        "\n",
        "- We **truncate** reviews that are **too long**.\n"
      ]
    },
    {
      "cell_type": "markdown",
      "metadata": {
        "id": "uNueHCnDygpk"
      },
      "source": [
        "Let us first **check** whether there are **reviews with no text**."
      ]
    },
    {
      "cell_type": "code",
      "execution_count": 12,
      "metadata": {
        "colab": {
          "base_uri": "https://localhost:8080/"
        },
        "id": "A0HBLtHMygpk",
        "outputId": "eda5364c-a4c0-4f93-cf94-5aad9d242fc6"
      },
      "outputs": [
        {
          "name": "stdout",
          "output_type": "stream",
          "text": [
            "Number of reviews with no words: 0\n"
          ]
        }
      ],
      "source": [
        "# Size of the reviews\n",
        "reviews_lenghts = [len(x) for x in reviews_tokenized]\n",
        "\n",
        "print(\"Number of reviews with no words: {}\".format(min(reviews_lenghts)))\n"
      ]
    },
    {
      "cell_type": "markdown",
      "metadata": {
        "id": "nKmHOthiygpl"
      },
      "source": [
        "There are **no reviews with no words**.\n",
        "\n",
        "Now, let us check the **maximal, median, and average number of words in a review**."
      ]
    },
    {
      "cell_type": "code",
      "execution_count": 13,
      "metadata": {
        "colab": {
          "base_uri": "https://localhost:8080/"
        },
        "id": "Kf3KIVYSygpl",
        "outputId": "ba593e03-9f16-4675-8af1-364d6a0aa5de"
      },
      "outputs": [
        {
          "name": "stdout",
          "output_type": "stream",
          "text": [
            "Maximal number of words in a review: 1025\n",
            "Median number of words in a review: 99.0\n",
            "Average number of words in a review: 133.38750714285715\n",
            "Average number of words in a review + 2 standard deviations: 374.6552661842528\n"
          ]
        }
      ],
      "source": [
        "print(\"Maximal number of words in a review: {}\".format(max(reviews_lenghts)))\n",
        "print(\"Median number of words in a review: {}\".format(np.median(reviews_lenghts)))\n",
        "print(\"Average number of words in a review: {}\".format(np.mean(reviews_lenghts)))\n",
        "print(\"Average number of words in a review + 2 standard deviations: {}\".format(np.mean(reviews_lenghts) + 2*np.std(reviews_lenghts)))"
      ]
    },
    {
      "cell_type": "markdown",
      "metadata": {
        "id": "84U7I1TQygpl"
      },
      "source": [
        "Based on these statistics, we decide to customize the length of our reviews at **300 words**.\n",
        "\n",
        "Thus, let us **trunctate** reviews that are too long, and **add zeros** to reviews that are too short, to create the **matrix of features** that will be used as **predictor** in our neuronal network."
      ]
    },
    {
      "cell_type": "code",
      "execution_count": 14,
      "metadata": {
        "colab": {
          "base_uri": "https://localhost:8080/"
        },
        "id": "KOQCHzbQygpm",
        "outputId": "4b23c0b9-90b4-43bf-bbfb-daab26fc671e"
      },
      "outputs": [
        {
          "name": "stdout",
          "output_type": "stream",
          "text": [
            "[[  28   11   30 ...    0    0    0]\n",
            " [   4    6   10 ...    0    0    0]\n",
            " [  17   31  633 ...   55   79   72]\n",
            " ...\n",
            " [ 109  259    7 ...    0    0    0]\n",
            " [ 766 2386 3189 ...    0    0    0]\n",
            " [   4  260    5 ...    1  394 3105]]\n"
          ]
        }
      ],
      "source": [
        "# Create the matrix of features, that will be entered in the neuronal network\n",
        "# Its size must be of (number_of_reviews * maximum_number_of_words_per_review)\n",
        "max_words_per_review = 300\n",
        "matrix_features = np.zeros((len(reviews_tokenized), max_words_per_review), dtype=int)\n",
        "\n",
        "# We put the tokenized words in the matrix, for each review (and truncate at the maximum review length)\n",
        "for review_number, words_in_review in enumerate(reviews_tokenized):\n",
        "    matrix_features[review_number, :len(words_in_review)] = np.array(words_in_review)[:max_words_per_review]\n",
        "    \n",
        "# We look at the last columns of the matrix of features (tokenized and standardized reviews), to check if all is OK\n",
        "print(matrix_features[:, :])\n",
        "    "
      ]
    },
    {
      "cell_type": "markdown",
      "metadata": {
        "id": "zThyT6Xcygpn"
      },
      "source": [
        "## Transforming stars into \"good\", \"neutral\", and \"bad\" reviews\n",
        "\n",
        "We decide to group **4 and 5 stars** reviews as **\"good\"**, **3 stars** as **\"neutral\"**, and **1 and 2 stars** as **\"bad\"**.\n",
        "\n",
        "In the following, we will try to **predict** if a review is good, neutral or bad."
      ]
    },
    {
      "cell_type": "code",
      "execution_count": 15,
      "metadata": {
        "id": "7h5QDdfCygpo"
      },
      "outputs": [],
      "source": [
        "# 5 or 4 stars => \"good\"\n",
        "good = [1 if (star == 4 or star ==3) else 0 for star in stars]\n",
        "# 3 stars => \"neutral\"\n",
        "neutral = [1 if (star == 2) else 0 for star in stars]\n",
        "# 2 or 1 star => \"bad\"\n",
        "bad = [1 if (star == 1 or star ==0) else 0 for star in stars]\n",
        "\n",
        "# 3 variables put together in a matrix\n",
        "goodness = np.array([good, neutral, bad], dtype=int)\n",
        "goodness = goodness.T"
      ]
    },
    {
      "cell_type": "markdown",
      "metadata": {
        "id": "2Vln_SA2ygpo"
      },
      "source": [
        "## Preparation of the training, test, and validation datasets\n",
        "\n",
        "We now divide our prepared data into the **training set** (**80% of the data**), the **test set** (**10% of the data**), and the **validation set** (**10% of the data**)."
      ]
    },
    {
      "cell_type": "code",
      "execution_count": 16,
      "metadata": {
        "colab": {
          "base_uri": "https://localhost:8080/"
        },
        "id": "VSv0SXpmygpo",
        "outputId": "174f4054-8610-4771-a86a-43ee6c4c7d6f"
      },
      "outputs": [
        {
          "name": "stdout",
          "output_type": "stream",
          "text": [
            "\t\t\tFeature Shapes:\n",
            "Train set: \t\t(112000, 300) \n",
            "Validation set: \t(14000, 300) \n",
            "Test set: \t\t(14000, 300)\n"
          ]
        }
      ],
      "source": [
        "train_prop = 0.8\n",
        "valid_prop = 0.1\n",
        "test_prop = 1 - (train_prop+valid_prop)\n",
        "\n",
        "train_len = int(len(reviews_tokenized)*train_prop)\n",
        "valid_len = int(len(reviews_tokenized)*valid_prop)\n",
        "\n",
        "train_reviews, valid_reviews, test_reviews = matrix_features[:train_len], matrix_features[train_len:train_len+valid_len], matrix_features[train_len+valid_len:]\n",
        "train_goodness, valid_goodness, test_goodness = goodness[:train_len], goodness[train_len:train_len+valid_len], goodness[train_len+valid_len:]\n",
        "\n",
        "## We check the number of reviews in each dataset\n",
        "print(\"\\t\\t\\tFeature Shapes:\")\n",
        "print(\"Train set: \\t\\t{}\".format(train_reviews.shape), \n",
        "      \"\\nValidation set: \\t{}\".format(valid_reviews.shape),\n",
        "      \"\\nTest set: \\t\\t{}\".format(test_reviews.shape))"
      ]
    },
    {
      "cell_type": "markdown",
      "metadata": {
        "id": "JH8PRLRpygpp"
      },
      "source": [
        "## Format the data for PyTorch\n",
        "\n",
        "We prepare the data to make it readable for our PyTorch Neuronal Network."
      ]
    },
    {
      "cell_type": "code",
      "execution_count": 48,
      "metadata": {
        "colab": {
          "base_uri": "https://localhost:8080/"
        },
        "id": "eGBbMLbBygpp",
        "outputId": "78085dc7-3c00-4834-f807-82067fea9ef8"
      },
      "outputs": [
        {
          "name": "stdout",
          "output_type": "stream",
          "text": [
            "Reviews batch size (number of reviews in batch, words per review):  torch.Size([100, 300])\n",
            "Example reviews batch: \n",
            " tensor([[   17,   289,    11,  ...,     0,     0,     0],\n",
            "        [    4,   405,    42,  ...,     0,     0,     0],\n",
            "        [   17,    31,    11,  ...,     0,     0,     0],\n",
            "        ...,\n",
            "        [    1,  5413,   470,  ...,     0,     0,     0],\n",
            "        [12658,    17,   194,  ...,     0,     0,     0],\n",
            "        [   17,     6,    13,  ...,     0,     0,     0]])\n",
            "\n",
            "Goodness batch size (number of goodness labels per batch):  torch.Size([100, 3])\n",
            "Example goodness batch: \n",
            " tensor([[0, 1, 0],\n",
            "        [0, 0, 1],\n",
            "        [0, 1, 0],\n",
            "        [1, 0, 0],\n",
            "        [1, 0, 0],\n",
            "        [0, 0, 1],\n",
            "        [0, 0, 1],\n",
            "        [0, 0, 1],\n",
            "        [0, 1, 0],\n",
            "        [1, 0, 0],\n",
            "        [1, 0, 0],\n",
            "        [0, 0, 1],\n",
            "        [0, 1, 0],\n",
            "        [0, 0, 1],\n",
            "        [0, 1, 0],\n",
            "        [0, 0, 1],\n",
            "        [0, 0, 1],\n",
            "        [0, 0, 1],\n",
            "        [0, 0, 1],\n",
            "        [0, 0, 1],\n",
            "        [0, 0, 1],\n",
            "        [0, 0, 1],\n",
            "        [0, 0, 1],\n",
            "        [0, 0, 1],\n",
            "        [0, 0, 1],\n",
            "        [1, 0, 0],\n",
            "        [0, 0, 1],\n",
            "        [0, 0, 1],\n",
            "        [0, 0, 1],\n",
            "        [1, 0, 0],\n",
            "        [0, 0, 1],\n",
            "        [1, 0, 0],\n",
            "        [1, 0, 0],\n",
            "        [1, 0, 0],\n",
            "        [0, 1, 0],\n",
            "        [1, 0, 0],\n",
            "        [0, 0, 1],\n",
            "        [1, 0, 0],\n",
            "        [0, 0, 1],\n",
            "        [1, 0, 0],\n",
            "        [0, 0, 1],\n",
            "        [0, 0, 1],\n",
            "        [0, 1, 0],\n",
            "        [0, 0, 1],\n",
            "        [0, 0, 1],\n",
            "        [1, 0, 0],\n",
            "        [0, 0, 1],\n",
            "        [1, 0, 0],\n",
            "        [0, 0, 1],\n",
            "        [1, 0, 0],\n",
            "        [1, 0, 0],\n",
            "        [0, 0, 1],\n",
            "        [0, 1, 0],\n",
            "        [0, 0, 1],\n",
            "        [0, 1, 0],\n",
            "        [0, 0, 1],\n",
            "        [0, 0, 1],\n",
            "        [0, 0, 1],\n",
            "        [0, 0, 1],\n",
            "        [0, 0, 1],\n",
            "        [0, 0, 1],\n",
            "        [1, 0, 0],\n",
            "        [0, 1, 0],\n",
            "        [1, 0, 0],\n",
            "        [0, 1, 0],\n",
            "        [1, 0, 0],\n",
            "        [1, 0, 0],\n",
            "        [1, 0, 0],\n",
            "        [1, 0, 0],\n",
            "        [0, 1, 0],\n",
            "        [1, 0, 0],\n",
            "        [0, 0, 1],\n",
            "        [0, 0, 1],\n",
            "        [0, 0, 1],\n",
            "        [1, 0, 0],\n",
            "        [0, 0, 1],\n",
            "        [1, 0, 0],\n",
            "        [0, 0, 1],\n",
            "        [0, 0, 1],\n",
            "        [1, 0, 0],\n",
            "        [0, 0, 1],\n",
            "        [0, 1, 0],\n",
            "        [0, 1, 0],\n",
            "        [0, 0, 1],\n",
            "        [1, 0, 0],\n",
            "        [0, 1, 0],\n",
            "        [0, 0, 1],\n",
            "        [0, 1, 0],\n",
            "        [0, 1, 0],\n",
            "        [0, 1, 0],\n",
            "        [0, 1, 0],\n",
            "        [1, 0, 0],\n",
            "        [0, 0, 1],\n",
            "        [0, 0, 1],\n",
            "        [0, 0, 1],\n",
            "        [1, 0, 0],\n",
            "        [1, 0, 0],\n",
            "        [0, 0, 1],\n",
            "        [0, 0, 1],\n",
            "        [0, 0, 1]])\n"
          ]
        }
      ],
      "source": [
        "from torch.utils.data import TensorDataset, DataLoader\n",
        "\n",
        "# Build Tensor datasets\n",
        "train_data = TensorDataset(torch.from_numpy(train_reviews), torch.from_numpy(train_goodness))\n",
        "valid_data = TensorDataset(torch.from_numpy(valid_reviews), torch.from_numpy(valid_goodness))\n",
        "test_data = TensorDataset(torch.from_numpy(test_reviews), torch.from_numpy(test_goodness))\n",
        "\n",
        "# Define batch size\n",
        "batch_size = 100\n",
        "\n",
        "# Build the batches: we use drop_last to avoid size issues with last batch\n",
        "train_loader = DataLoader(train_data, shuffle=True, batch_size=batch_size, drop_last=True)\n",
        "valid_loader = DataLoader(valid_data, shuffle=True, batch_size=batch_size, drop_last=True)\n",
        "test_loader = DataLoader(test_data, shuffle=True, batch_size=batch_size, drop_last=True)\n",
        "\n",
        "\n",
        "# Check one batch of the training set to see if all OK\n",
        "train_iter = iter(train_loader)\n",
        "example_reviews, example_goodness = train_iter.next()\n",
        "\n",
        "print('Reviews batch size (number of reviews in batch, words per review): ', example_reviews.size()) \n",
        "print('Example reviews batch: \\n', example_reviews)\n",
        "print()\n",
        "print('Goodness batch size (number of goodness labels per batch): ', example_goodness.size()) \n",
        "print('Example goodness batch: \\n', example_goodness)"
      ]
    },
    {
      "cell_type": "markdown",
      "metadata": {
        "id": "Rg8Tkp3kygpp"
      },
      "source": [
        "# Building the Neuronal Network: Embedding and LSTM\n",
        "\n",
        "We now build the neuronal network *per se*. Our network is **composed of 2 layers**:\n",
        "\n",
        "- First, an **Embedding layer** that permits to have a less heavy representation of the reviews than the **hundreds of thousands of one-hot encoded words**: it is useful to **improve** the training **efficiency**. We use for this the [PyTorch Embedding](https://pytorch.org/docs/stable/generated/torch.nn.Embedding.html) function.\n",
        "\n",
        "- Second, an **LSTM layer** (Long Short-Term Memory). [LSTM](https://pubmed.ncbi.nlm.nih.gov/9377276/) permits to avoid the issue of **vanishing gradients** that occurs with basic RNNs. We use here the [PyTorch LSTM](https://pytorch.org/docs/stable/generated/torch.nn.LSTM.html?highlight=lstm#torch.nn.LSTM) function.\n",
        "\n",
        "\n",
        "\n",
        "**Note for the LSTM:** There are two different ways to **initialize the hidden and cell state** when switching from one batch to another: in the **stateful mode**, the final states of the previous batch are set as the initial state in the next batch, while in **stateless mode**, the next batch states are initialized with zeros.\n",
        "<br/> $\\rightarrow$ **We want our RNN to be stateless**, so it can build its hidden and cell states independently in each batch.\n",
        "\n",
        "\n"
      ]
    },
    {
      "cell_type": "code",
      "execution_count": 49,
      "metadata": {
        "id": "_5wTb9Pmygpq"
      },
      "outputs": [],
      "source": [
        "# To check whether GPU is available\n",
        "train_on_gpu=torch.cuda.is_available()\n",
        "\n",
        "class SentimentAnalysisRNN(nn.Module):\n",
        "    \"\"\" \n",
        "    Recurrent Neuronal Networrk composed of an Embedding layer and an LSTM layer.\n",
        "    Args:\n",
        "        vocabulary_size (_int_): Number of features in the input of the Embedding layer: it is total number of words in the vocabulary + 1 (the \"+1\" is for the \"zeros\").\n",
        "        output_size (_int_): Desired size of the final output of the SentimentAnalysisRNN.\n",
        "        embedding_dim (_int_): Size of each embedding vector.\n",
        "        lstm_hidden_size (_int_): Number of features in the hidden state of the LSTM.\n",
        "        lstm_n_layers (_int_): Number of layers in the LSTM.\n",
        "        dropout (_float_): The dropout probability used in the LSTM to reduce overfitting. (introduces a Dropout layer on the outputs of each LSTM layer except the last layer)\n",
        "        dropout_last_layer (_float_): The dropout probability used in the LSTM last layer.\n",
        "    \"\"\"\n",
        "    \n",
        "    def __init__(self, vocabulary_size, output_size, embedding_dim, lstm_hidden_size, lstm_n_layers, dropout=0.5, dropout_last_layer=0.5):\n",
        "        \"\"\"\n",
        "        Initialization.\n",
        "        \"\"\"\n",
        "        super(SentimentAnalysisRNN, self).__init__()\n",
        "        self.output_size = output_size\n",
        "        self.lstm_hidden_size = lstm_hidden_size\n",
        "        self.lstm_n_layers = lstm_n_layers\n",
        "        # Embedding layer\n",
        "        self.embedding = nn.Embedding(num_embeddings = vocabulary_size, \n",
        "                                      embedding_dim = embedding_dim)\n",
        "        # LSTM layer\n",
        "        self.lstm = nn.LSTM(input_size = embedding_dim, \n",
        "                            hidden_size = lstm_hidden_size, \n",
        "                            num_layers = lstm_n_layers, \n",
        "                            dropout = dropout, \n",
        "                            batch_first=True)    # So input and output tensors are provided as (batch, seq, feature) instead of (seq, batch, feature).\n",
        "        # Dropout for LSTM last layer\n",
        "        self.dropout_last_layer = nn.Dropout(p = dropout_last_layer)\n",
        "        # Linear and Softmax layers\n",
        "        self.fc = nn.Linear(lstm_hidden_size, output_size)\n",
        "        self.softmax = nn.Softmax()\n",
        "        \n",
        "        \n",
        "    def forward(self, x, hidden_and_cell):\n",
        "        \"\"\" \n",
        "        Forward step\n",
        "        Args:\n",
        "            x (_tensor_): batch of inputs used in the forward step\n",
        "            hidden_and_cell (_tensor_): hidden and cell states used in the forward step (see init_hidden_statefull() for more details)\n",
        "        \"\"\"\n",
        "        batch_size = x.size(0)\n",
        "        # Embedding and LSTM layers\n",
        "        x = x.long() \n",
        "        embedded_x = self.embedding(x)\n",
        "        lstm_output, hidden = self.lstm(embedded_x, hidden_and_cell)\n",
        "        lstm_output = lstm_output[:, -1, :] # To take the last time step output\n",
        "        lstm_output = self.dropout_last_layer(lstm_output)\n",
        "        # Linear and Softmax layers\n",
        "        linear_output = self.fc(lstm_output)\n",
        "        # sigmoid function\n",
        "        output = self.softmax(linear_output)\n",
        "        # return last sigmoid output and hidden state\n",
        "        return output, hidden_and_cell\n",
        "    \n",
        "    \n",
        "    def init_hidden_cell_stateless(self, batch_size):\n",
        "        \"\"\"\n",
        "        Initialization of the hidden and cell states: the hidden and cell states are initialized at 0 for \n",
        "        each batch (\"stateless mode\").\n",
        "        (Not like in the \"stateful mode\", where the hidden state is memorized from one batch to another.)\n",
        "\n",
        "        Args:\n",
        "            batch_size (_int_): size of a batch\n",
        "        \"\"\"\n",
        "        # The zeros tensors for the hidden state and cell state of LSTM must be \n",
        "        # of dimension lstm_n_layers x batch_size x hidden_dim.\n",
        "        \n",
        "        # To get this dimension, we first get an item of the parameters \n",
        "        # (the hidden state parameters) of the model \"self\" (the LSTM model).\n",
        "        weight = next(self.parameters()).data\n",
        "        \n",
        "        # Then, we create a zeros tensor that has the same dimension as this item (thus,\n",
        "        # the same dimension as the hidden and cell states).\n",
        "        if (train_on_gpu):\n",
        "            hidden_and_cell = (weight.new(self.lstm_n_layers, batch_size, self.lstm_hidden_size).zero_().cuda(),\n",
        "                               weight.new(self.lstm_n_layers, batch_size, self.lstm_hidden_size).zero_().cuda())\n",
        "        else:\n",
        "            hidden_and_cell = (weight.new(self.lstm_n_layers, batch_size, self.lstm_hidden_size).zero_(),\n",
        "                               weight.new(self.lstm_n_layers, batch_size, self.lstm_hidden_size).zero_())\n",
        "        return hidden_and_cell"
      ]
    },
    {
      "cell_type": "markdown",
      "metadata": {
        "id": "rWqENR_uygpq"
      },
      "source": [
        "We set the **hyperparameters** and create the model."
      ]
    },
    {
      "cell_type": "code",
      "execution_count": 50,
      "metadata": {
        "colab": {
          "base_uri": "https://localhost:8080/"
        },
        "id": "ciZm0OP4ygpq",
        "outputId": "6e368e59-2c15-41c5-9ae4-41edc46f6b94"
      },
      "outputs": [
        {
          "name": "stdout",
          "output_type": "stream",
          "text": [
            "SentimentAnalysisRNN(\n",
            "  (embedding): Embedding(279088, 400)\n",
            "  (lstm): LSTM(400, 256, num_layers=2, batch_first=True, dropout=0.5)\n",
            "  (dropout_last_layer): Dropout(p=0.5, inplace=False)\n",
            "  (fc): Linear(in_features=256, out_features=3, bias=True)\n",
            "  (softmax): Softmax(dim=None)\n",
            ")\n"
          ]
        }
      ],
      "source": [
        "# Instantiate the model w/ hyperparams\n",
        "vocabulary_size = len(word_to_integer) + 1 # \"+1\" for the zeros, as mentioned earlier\n",
        "output_size = 3\n",
        "embedding_dim = 400\n",
        "lstm_hidden_size = 256\n",
        "lstm_n_layers = 2\n",
        "\n",
        "sentimentNet = SentimentAnalysisRNN(vocabulary_size, output_size, embedding_dim, lstm_hidden_size, lstm_n_layers)\n",
        "\n",
        "print(sentimentNet)"
      ]
    },
    {
      "cell_type": "markdown",
      "metadata": {
        "id": "HsbSKDHRygpr"
      },
      "source": [
        "# Training the model\n",
        "\n",
        "We now train our Neuronal Network, with the training and validation datasets.\n",
        "\n",
        "Let us first set some parameters for the **optimization**."
      ]
    },
    {
      "cell_type": "code",
      "execution_count": 51,
      "metadata": {
        "id": "XebWDfa3ygpr"
      },
      "outputs": [],
      "source": [
        "# Learning rate\n",
        "lr=0.001\n",
        "\n",
        "# Loss criterion : we use the Negative Log-Likelihood Loss function (NLL) as we have a softmax function as an output activation layer. \n",
        "criterion = nn.CrossEntropyLoss()\n",
        "optimizer = torch.optim.Adam(sentimentNet.parameters(), lr=lr)\n",
        "\n",
        "# We use GPU if it's available, and the CPU otherwise\n",
        "device = torch.device(\"cuda\" if torch.cuda.is_available() else \"cpu\")\n",
        "sentimentNet.to(device);"
      ]
    },
    {
      "cell_type": "markdown",
      "metadata": {
        "id": "62KJowR9ygpr"
      },
      "source": [
        "We use **gradient clipping** (error derivative is changed to a threshold during backward propagation, and thenused to update the weights) to decrease the likelihood of exploding or vanishing gradients."
      ]
    },
    {
      "cell_type": "code",
      "execution_count": 52,
      "metadata": {
        "id": "8aqwZcziygpr"
      },
      "outputs": [],
      "source": [
        "# gradient clipping\n",
        "clip=5"
      ]
    },
    {
      "cell_type": "markdown",
      "metadata": {
        "id": "4_b00rSLfp1_"
      },
      "source": []
    },
    {
      "cell_type": "markdown",
      "metadata": {
        "id": "PlByhHXvygps"
      },
      "source": [
        "And now, we carry out the **training** and **validation** steps.\n",
        "\n",
        "Let us note that the **validation accuracy is higher than the training accuracy**: this is **due to the dropout used in the training**. \n",
        "Indeed, when training, a percentage of the features are set to zero (*100p*% whith a Dropout(*p*)).\n",
        "When testing, all features are used, so the model at test time can lead to higher testing accuracies.\n"
      ]
    },
    {
      "cell_type": "code",
      "execution_count": 53,
      "metadata": {
        "colab": {
          "base_uri": "https://localhost:8080/"
        },
        "id": "bI032LBwygps",
        "outputId": "f9f314e9-5f31-4fb2-98b1-df7f3c75ded3"
      },
      "outputs": [
        {
          "name": "stderr",
          "output_type": "stream",
          "text": [
            "/usr/local/lib/python3.7/dist-packages/ipykernel_launcher.py:58: UserWarning: Implicit dimension choice for softmax has been deprecated. Change the call to include dim=X as an argument.\n"
          ]
        },
        {
          "name": "stdout",
          "output_type": "stream",
          "text": [
            "Epoch: 1 \tTraining Loss: 1.020665 \tTraining Accuracy: 0.517286 \tValidation Loss: 1.174046 \tValidation Accuracy: 0.426929\n",
            "Validation loss decreased (inf --> 1.174046).  Saving model ...\n",
            "Epoch: 2 \tTraining Loss: 0.909333 \tTraining Accuracy: 0.624321 \tValidation Loss: 0.900800 \tValidation Accuracy: 0.667143\n",
            "Validation loss decreased (1.174046 --> 0.900800).  Saving model ...\n",
            "Epoch: 3 \tTraining Loss: 0.864941 \tTraining Accuracy: 0.671741 \tValidation Loss: 0.808207 \tValidation Accuracy: 0.725786\n",
            "Validation loss decreased (0.900800 --> 0.808207).  Saving model ...\n",
            "Epoch: 4 \tTraining Loss: 0.835276 \tTraining Accuracy: 0.703357 \tValidation Loss: 0.789943 \tValidation Accuracy: 0.723143\n",
            "Validation loss decreased (0.808207 --> 0.789943).  Saving model ...\n",
            "Epoch: 5 \tTraining Loss: 0.815316 \tTraining Accuracy: 0.727643 \tValidation Loss: 0.744640 \tValidation Accuracy: 0.784929\n",
            "Validation loss decreased (0.789943 --> 0.744640).  Saving model ...\n",
            "Epoch: 6 \tTraining Loss: 0.794784 \tTraining Accuracy: 0.750804 \tValidation Loss: 0.780856 \tValidation Accuracy: 0.756714\n",
            "Epoch: 7 \tTraining Loss: 0.777106 \tTraining Accuracy: 0.769491 \tValidation Loss: 0.801909 \tValidation Accuracy: 0.750214\n",
            "Epoch: 8 \tTraining Loss: 0.765119 \tTraining Accuracy: 0.782679 \tValidation Loss: 0.744107 \tValidation Accuracy: 0.801143\n",
            "Validation loss decreased (0.744640 --> 0.744107).  Saving model ...\n"
          ]
        }
      ],
      "source": [
        "# Number of epochs used to train the model\n",
        "n_epochs = 8\n",
        "\n",
        "# Variables to keep track of the change in validation loss, to save the best model\n",
        "valid_loss_min = np.Inf \n",
        "best_accuracy = 0.0\n",
        "\n",
        "# Variables to keep the accuracies calculated at each epoch in order to plot them later\n",
        "epoch_all = []  \n",
        "valid_epoch_acc_all = []\n",
        "train_epoch_acc_all = []\n",
        "\n",
        "for epoch in range(1, n_epochs+1):\n",
        "    \n",
        "    # Initialize hidden and cell states\n",
        "    hidden_and_cell = sentimentNet.init_hidden_cell_stateless(batch_size)\n",
        "\n",
        "    # To keep track of training and validation loss and accuracy\n",
        "    train_loss = 0.0\n",
        "    valid_loss = 0.0\n",
        "    valid_running_corrects = 0\n",
        "    train_running_corrects = 0\n",
        "    \n",
        "    ###################\n",
        "    # Train the model #\n",
        "    ###################\n",
        "    sentimentNet.train()\n",
        "    for reviews, goodness in train_loader:\n",
        "        # Move tensors to GPU if CUDA is available\n",
        "        reviews, goodness = reviews.to(device), goodness.to(device)\n",
        "        # Create new variables for the hidden and cell states, otherwise\n",
        "        # would backpropagate through the entire training history\n",
        "        hidden_and_cell = tuple([variable.data for variable in hidden_and_cell])\n",
        "        # Clear the gradients of all optimized variables\n",
        "        optimizer.zero_grad()\n",
        "        # Forward pass: compute predicted outputs by passing images to the model\n",
        "        output, hidden_and_cell = sentimentNet.forward(reviews, hidden_and_cell)\n",
        "        # Calculate the batch loss\n",
        "        loss = criterion(output.squeeze(), goodness.squeeze().float())\n",
        "        # Backward pass: compute gradient of the loss with respect to model parameters\n",
        "        loss.backward()\n",
        "        # clip_grad_norm helps prevent the exploding gradient problem in RNNs / LSTMs.\n",
        "        nn.utils.clip_grad_norm_(sentimentNet.parameters(), clip)\n",
        "        # Perform a single optimization step (parameter update)\n",
        "        optimizer.step()\n",
        "        # Update training loss\n",
        "        train_loss += loss.item()*reviews.size(0)\n",
        "        # To calculate the training set accuracy later: \n",
        "        # take as prediction the label with highest output (highest probability)\n",
        "        pred = F.one_hot(output.argmax(1), num_classes=3)\n",
        "        # Total number of correct predictions (we divide by 3 as there are 3 dimensions)\n",
        "        train_running_corrects += torch.sum((pred==goodness).all(dim=1))\n",
        "        \n",
        "    ######################    \n",
        "    # Validate the model #\n",
        "    ######################\n",
        "    \n",
        "    # Initialize hidden and cell states for validation steps\n",
        "    hidden_and_cell = sentimentNet.init_hidden_cell_stateless(batch_size)\n",
        "    \n",
        "    # We eval() our model to deactivate the dropout layers and directly pass all activations\n",
        "    sentimentNet.eval()\n",
        "    for reviews, goodness in valid_loader:\n",
        "        # Move tensors to GPU if CUDA is available\n",
        "        reviews, goodness = reviews.to(device), goodness.to(device)\n",
        "        # Create new variables for the hidden and cell states, otherwise\n",
        "        # would backpropagate through the entire training history\n",
        "        hidden_and_cell = tuple([variable.data for variable in hidden_and_cell])\n",
        "        # Forward pass: compute predicted outputs by passing images to the model\n",
        "        output, hidden_and_cell = sentimentNet.forward(reviews, hidden_and_cell)\n",
        "        # Calculate the batch loss\n",
        "        loss = criterion(output.squeeze(), goodness.squeeze().float())\n",
        "        # Update average validation loss \n",
        "        valid_loss += loss.item()*reviews.size(0)\n",
        "        # To calculate the validation accuracy later: \n",
        "        # take as prediction the label with highest output (highest probability)\n",
        "        pred = F.one_hot(output.argmax(1), num_classes=3)\n",
        "        # Total number of correct predictions\n",
        "        valid_running_corrects += torch.sum((pred==goodness).all(dim=1))\n",
        "    \n",
        "    # Calculate average losses\n",
        "    train_loss = train_loss/len(train_loader.sampler)\n",
        "    valid_loss = valid_loss/len(valid_loader.sampler)\n",
        "    \n",
        "    # Calculate accuracy\n",
        "    train_epoch_acc = train_running_corrects.double() / len(train_loader.sampler)\n",
        "    valid_epoch_acc = valid_running_corrects.double() / len(valid_loader.sampler)\n",
        "        \n",
        "    # Print training/validation statistics \n",
        "    print('Epoch: {} \\tTraining Loss: {:.6f} \\tTraining Accuracy: {:.6f} \\tValidation Loss: {:.6f} \\tValidation Accuracy: {:.6f}'.format(\n",
        "        epoch, train_loss, train_epoch_acc, valid_loss,valid_epoch_acc))\n",
        "    \n",
        "    # Save model if validation loss has decreased\n",
        "    if valid_loss <= valid_loss_min:\n",
        "        print('Validation loss decreased ({:.6f} --> {:.6f}).  Saving model ...'.format(\n",
        "        valid_loss_min,\n",
        "        valid_loss))\n",
        "        torch.save(sentimentNet.state_dict(), 'sentimentNet_yelp.pt')\n",
        "        valid_loss_min = valid_loss\n",
        "\n",
        "    # We keep the accuracies at each epoch, to plot them later, and transfer them to the cpu\n",
        "    # in order to convert the values into a numpy array and plot them\n",
        "    epoch_all.append(epoch)    \n",
        "    valid_epoch_acc_all.append(valid_epoch_acc.cpu())\n",
        "    train_epoch_acc_all.append(train_epoch_acc.cpu())\n",
        "    "
      ]
    },
    {
      "cell_type": "code",
      "execution_count": 54,
      "metadata": {
        "colab": {
          "base_uri": "https://localhost:8080/",
          "height": 297
        },
        "id": "QLer1FHtalT8",
        "outputId": "a7db9fa3-51b0-4b6e-e211-8ecb4c051117"
      },
      "outputs": [
        {
          "data": {
            "image/png": "[encoded data removed]",
            "text/plain": [
              "<Figure size 432x288 with 1 Axes>"
            ]
          },
          "metadata": {
            "needs_background": "light"
          },
          "output_type": "display_data"
        }
      ],
      "source": [
        "plt.plot(epoch_all, valid_epoch_acc_all, label=\"validation accuracy\", color=\"red\", linestyle='-.')\n",
        "#plt.plot(epoch_all, train_epoch_acc_all, label=\"training accuracy\", color=\"blue\",linestyle='-.')\n",
        "plt.title(\"Sentiment Analysis model on the YelpReviewFull dataset: accuracy per epoch\")\n",
        "plt.legend()\n",
        "plt.tight_layout()\n",
        "plt.show()"
      ]
    },
    {
      "cell_type": "markdown",
      "metadata": {
        "id": "v8ireRzSiZWV"
      },
      "source": [
        "# First test of the model\n",
        "\n",
        "We now **test** our model with the test dataset, that has not been used during the model training."
      ]
    },
    {
      "cell_type": "code",
      "execution_count": 55,
      "metadata": {
        "colab": {
          "base_uri": "https://localhost:8080/"
        },
        "id": "X5MUJfUSamUh",
        "outputId": "f55077a6-c3fd-48fa-974d-8ea82372b401"
      },
      "outputs": [
        {
          "name": "stderr",
          "output_type": "stream",
          "text": [
            "/usr/local/lib/python3.7/dist-packages/ipykernel_launcher.py:58: UserWarning: Implicit dimension choice for softmax has been deprecated. Change the call to include dim=X as an argument.\n"
          ]
        },
        {
          "name": "stdout",
          "output_type": "stream",
          "text": [
            "\tTest Loss: 0.745774 \tTest Accuracy: 0.800500\n"
          ]
        }
      ],
      "source": [
        "# We test our best model (the one with the lowest validation loss)\n",
        "sentimentNet.load_state_dict(torch.load('sentimentNet_yelp.pt'))\n",
        "\n",
        "\n",
        "# To keep track of test loss and accuracy\n",
        "test_loss = 0.0\n",
        "test_running_corrects = 0\n",
        "\n",
        "# Initialize hidden and cell states for the test step\n",
        "hidden_and_cell = sentimentNet.init_hidden_cell_stateless(batch_size)\n",
        "\n",
        "# We eval() our model to deactivate the dropout layers and directly pass all activations\n",
        "sentimentNet.eval()\n",
        "for reviews, goodness in test_loader:\n",
        "    # Move tensors to GPU if CUDA is available\n",
        "    reviews, goodness = reviews.to(device), goodness.to(device)\n",
        "    # Create new variables for the hidden and cell states, otherwise\n",
        "    # would backpropagate through the entire training history\n",
        "    hidden_and_cell = tuple([variable.data for variable in hidden_and_cell])\n",
        "    # Forward pass: compute predicted outputs by passing images to the model\n",
        "    output, hidden_and_cell = sentimentNet.forward(reviews, hidden_and_cell)\n",
        "    # Calculate the batch loss\n",
        "    loss = criterion(output.squeeze(), goodness.squeeze().float())\n",
        "    # Update average validation loss \n",
        "    test_loss += loss.item()*reviews.size(0)\n",
        "    # To calculate the validation accuracy later: \n",
        "    # take as prediction the label with highest output (highest probability)\n",
        "    pred = F.one_hot(output.argmax(1), num_classes=3)\n",
        "    # Total number of correct predictions\n",
        "    test_running_corrects += torch.sum((pred==goodness).all(dim=1))\n",
        "\n",
        "# calculate average loss\n",
        "test_loss = test_loss/len(test_loader.sampler)\n",
        "    \n",
        "# claculate accuracy\n",
        "test_epoch_acc = test_running_corrects.double() / len(test_loader.sampler)\n",
        "        \n",
        "# print training/validation statistics \n",
        "print('\\tTest Loss: {:.6f} \\tTest Accuracy: {:.6f}'.format(\n",
        "    test_loss,test_epoch_acc))\n"
      ]
    },
    {
      "cell_type": "markdown",
      "metadata": {
        "id": "4L1YAbKgi6kW"
      },
      "source": [
        "We finally get a **80%** test accuracy with our model !"
      ]
    },
    {
      "cell_type": "markdown",
      "metadata": {
        "id": "i2JanrfSi87-"
      },
      "source": [
        "# Second test of the model\n",
        "\n",
        "We now **test** our model **on two personal comments** (one **positive** and one **negative**) that we write on our own."
      ]
    },
    {
      "cell_type": "code",
      "execution_count": 104,
      "metadata": {
        "id": "_xtdIlNbakTp"
      },
      "outputs": [],
      "source": [
        "# positive personal review\n",
        "personal_review_positive = \"This coding project was so cool: I enjoyed a lot all the steps. You can do so beautiful and useful things with mathematics. This motivates me a lot for future projects.\"\n",
        "\n",
        "# negative personal review\n",
        "personal_review_negative = \"I did not enjoy at all the weather today. It was rainy and very cold, while I like when it's sunny and hot. It really ruined my visit. In addition, the museums were closed. So I had basically nothing to do.\"\n"
      ]
    },
    {
      "cell_type": "markdown",
      "metadata": {
        "id": "E0ZL3QcSnDLL"
      },
      "source": [
        "We tokenize our two personal reviews."
      ]
    },
    {
      "cell_type": "code",
      "execution_count": 105,
      "metadata": {
        "colab": {
          "base_uri": "https://localhost:8080/"
        },
        "id": "TMwbSPNjX-RU",
        "outputId": "49b0a7d3-4ee3-4076-fe15-d5a7a092dc64"
      },
      "outputs": [
        {
          "name": "stdout",
          "output_type": "stream",
          "text": [
            "this coding project was so cool i enjoyed a lot all the steps you can do so beautiful and useful things with mathematics this motivates me a lot for future projects\n"
          ]
        }
      ],
      "source": [
        "reviews = [personal_review_positive, personal_review_negative]\n",
        "\n",
        "# Remove punctuation and upper cases\n",
        "all_reviews = ' new_review_xyz '.join([review.translate(str.maketrans('', '', punctuation)) for review in reviews]) \n",
        "all_reviews = all_reviews.lower()\n",
        "\n",
        "# Split again the different reviews\n",
        "reviews_split = all_reviews.split(' new_review_xyz ')\n",
        "all_reviews = ' '.join(reviews_split)\n",
        "\n",
        "# Create a list containing all the words\n",
        "all_words = all_reviews.split()\n",
        "\n",
        "# We delete useless variables to increase available RAM\n",
        "del all_reviews\n",
        "\n",
        "# Check if all is OK with one review\n",
        "print(reviews_split[0])\n"
      ]
    },
    {
      "cell_type": "code",
      "execution_count": 106,
      "metadata": {
        "id": "GprcUkKiZntS"
      },
      "outputs": [],
      "source": [
        "## Tokenize each review in reviews_split and store the tokenized reviews in reviews_tokenized\n",
        "reviews_tokenized = []\n",
        "for review in reviews_split:\n",
        "    reviews_tokenized.append([word_to_integer[word] for word in review.split()])\n",
        "    "
      ]
    },
    {
      "cell_type": "markdown",
      "metadata": {
        "id": "ZYWdJhmuQzAf"
      },
      "source": [
        "We create the matrix of features: it has two rows given that we have only two personal reviews."
      ]
    },
    {
      "cell_type": "code",
      "execution_count": 107,
      "metadata": {
        "colab": {
          "base_uri": "https://localhost:8080/"
        },
        "id": "sND8bV5QXj8L",
        "outputId": "46aff320-3942-49fd-b597-cf3ff0e193eb"
      },
      "outputs": [
        {
          "name": "stdout",
          "output_type": "stream",
          "text": [
            "[[    17  61561   4326      6     26    384      4    426      3    185\n",
            "      39      1   3611     19     74     80     26    619      2   6096\n",
            "     229     16 138194     17  57266     34      3    185      9   1156\n",
            "    7601      0      0      0      0      0      0      0      0      0\n",
            "       0      0      0      0      0      0      0      0      0      0\n",
            "       0      0      0      0      0      0      0      0      0      0\n",
            "       0      0      0      0      0      0      0      0      0      0\n",
            "       0      0      0      0      0      0      0      0      0      0\n",
            "       0      0      0      0      0      0      0      0      0      0\n",
            "       0      0      0      0      0      0      0      0      0      0\n",
            "       0      0      0      0      0      0      0      0      0      0\n",
            "       0      0      0      0      0      0      0      0      0      0\n",
            "       0      0      0      0      0      0      0      0      0      0\n",
            "       0      0      0      0      0      0      0      0      0      0\n",
            "       0      0      0      0      0      0      0      0      0      0\n",
            "       0      0      0      0      0      0      0      0      0      0\n",
            "       0      0      0      0      0      0      0      0      0      0\n",
            "       0      0      0      0      0      0      0      0      0      0\n",
            "       0      0      0      0      0      0      0      0      0      0\n",
            "       0      0      0      0      0      0      0      0      0      0\n",
            "       0      0      0      0      0      0      0      0      0      0\n",
            "       0      0      0      0      0      0      0      0      0      0\n",
            "       0      0      0      0      0      0      0      0      0      0\n",
            "       0      0      0      0      0      0      0      0      0      0\n",
            "       0      0      0      0      0      0      0      0      0      0\n",
            "       0      0      0      0      0      0      0      0      0      0\n",
            "       0      0      0      0      0      0      0      0      0      0\n",
            "       0      0      0      0      0      0      0      0      0      0\n",
            "       0      0      0      0      0      0      0      0      0      0\n",
            "       0      0      0      0      0      0      0      0      0      0]\n",
            " [     4     89     21    397     25     39      1   1793    515      8\n",
            "       6   6202      2     40    401    156      4     35     47     45\n",
            "    4604      2    214      8     58   1921     13    283     10   1335\n",
            "       1   8971     24    775     26      4     23    834    187      5\n",
            "      80      0      0      0      0      0      0      0      0      0\n",
            "       0      0      0      0      0      0      0      0      0      0\n",
            "       0      0      0      0      0      0      0      0      0      0\n",
            "       0      0      0      0      0      0      0      0      0      0\n",
            "       0      0      0      0      0      0      0      0      0      0\n",
            "       0      0      0      0      0      0      0      0      0      0\n",
            "       0      0      0      0      0      0      0      0      0      0\n",
            "       0      0      0      0      0      0      0      0      0      0\n",
            "       0      0      0      0      0      0      0      0      0      0\n",
            "       0      0      0      0      0      0      0      0      0      0\n",
            "       0      0      0      0      0      0      0      0      0      0\n",
            "       0      0      0      0      0      0      0      0      0      0\n",
            "       0      0      0      0      0      0      0      0      0      0\n",
            "       0      0      0      0      0      0      0      0      0      0\n",
            "       0      0      0      0      0      0      0      0      0      0\n",
            "       0      0      0      0      0      0      0      0      0      0\n",
            "       0      0      0      0      0      0      0      0      0      0\n",
            "       0      0      0      0      0      0      0      0      0      0\n",
            "       0      0      0      0      0      0      0      0      0      0\n",
            "       0      0      0      0      0      0      0      0      0      0\n",
            "       0      0      0      0      0      0      0      0      0      0\n",
            "       0      0      0      0      0      0      0      0      0      0\n",
            "       0      0      0      0      0      0      0      0      0      0\n",
            "       0      0      0      0      0      0      0      0      0      0\n",
            "       0      0      0      0      0      0      0      0      0      0\n",
            "       0      0      0      0      0      0      0      0      0      0]]\n"
          ]
        }
      ],
      "source": [
        "# Create the matrix of features, that will be entered in the neuronal network\n",
        "# Its size must be of (number_of_reviews * maximum_number_of_words_per_review)\n",
        "max_words_per_review = 300\n",
        "matrix_features = np.zeros((len(reviews_tokenized), max_words_per_review), dtype=int)\n",
        "\n",
        "# We put the tokenized words in the matrix, for each review (and truncate at the maximum review length)\n",
        "for review_number, words_in_review in enumerate(reviews_tokenized):\n",
        "    matrix_features[review_number, :len(words_in_review)] = np.array(words_in_review)[:max_words_per_review]\n",
        "    \n",
        "# We look at the last columns of the matrix of features (tokenized and standardized reviews), to check if all is OK\n",
        "print(matrix_features[:, :])\n"
      ]
    },
    {
      "cell_type": "markdown",
      "metadata": {
        "id": "6tVLdk44RYYC"
      },
      "source": [
        "Now we see the prediction of the model on our two personally built reviews."
      ]
    },
    {
      "cell_type": "code",
      "execution_count": 108,
      "metadata": {
        "colab": {
          "base_uri": "https://localhost:8080/"
        },
        "id": "ufALsjmbXq3_",
        "outputId": "7115e6f3-211f-4f75-f843-9b3ef6ae493b"
      },
      "outputs": [
        {
          "name": "stdout",
          "output_type": "stream",
          "text": [
            "tensor([[9.9943e-01, 5.7341e-04, 1.0889e-08],\n",
            "        [3.3108e-09, 4.5659e-06, 1.0000e+00]], device='cuda:0',\n",
            "       grad_fn=<SoftmaxBackward0>)\n"
          ]
        },
        {
          "name": "stderr",
          "output_type": "stream",
          "text": [
            "/usr/local/lib/python3.7/dist-packages/ipykernel_launcher.py:58: UserWarning: Implicit dimension choice for softmax has been deprecated. Change the call to include dim=X as an argument.\n"
          ]
        }
      ],
      "source": [
        "# We convert our reviews to tensor to pass them into our model\n",
        "personal_reviews = torch.from_numpy(matrix_features)\n",
        "personal_reviews = personal_reviews.to(device)\n",
        "batch_size = personal_reviews.size(0)\n",
        "\n",
        "\n",
        "# Initialize hidden and cell states for the test step\n",
        "hidden_and_cell = sentimentNet.init_hidden_cell_stateless(batch_size)\n",
        "hidden_and_cell = tuple([variable.data for variable in hidden_and_cell])\n",
        "\n",
        "# Forward pass: compute predicted outputs by passing images to the model\n",
        "sentimentNet.eval()\n",
        "output, hidden_and_cell = sentimentNet.forward(personal_reviews, hidden_and_cell)\n",
        "\n",
        "print(output)\n"
      ]
    },
    {
      "cell_type": "markdown",
      "metadata": {
        "id": "Go9Le2SgSPZI"
      },
      "source": [
        "Our **second test** also gives positive results for our model:\n",
        "\n",
        "- For the positive review we wrote, the model gives a probability of **99.9%** to the hypothesis that it is a positive review.\n",
        "\n",
        "- For the negative review we wrote, the model gives a probability of **100.0%** to the hypothesis that it is a negative review."
      ]
    }
  ],
  "metadata": {
    "accelerator": "GPU",
    "colab": {
      "collapsed_sections": [],
      "name": "Sentiment_Analysis.ipynb",
      "provenance": []
    },
    "gpuClass": "standard",
    "interpreter": {
      "hash": "4552859c5e16cc3f036e1f20a79c18ab5e0574e0945993aca1f2c160230eb876"
    },
    "kernelspec": {
      "display_name": "Python 3.8.12 ('envFOAD')",
      "language": "python",
      "name": "python3"
    },
    "language_info": {
      "codemirror_mode": {
        "name": "ipython",
        "version": 3
      },
      "file_extension": ".py",
      "mimetype": "text/x-python",
      "name": "python",
      "nbconvert_exporter": "python",
      "pygments_lexer": "ipython3",
      "version": "3.8.12"
    },
    "widgets": {
      "application/vnd.jupyter.widget-state+json": {
        "0179e2d29eb8425da1754e62a8efc5ad": {
          "model_module": "@jupyter-widgets/controls",
          "model_module_version": "1.5.0",
          "model_name": "DescriptionStyleModel",
          "state": {
            "_model_module": "@jupyter-widgets/controls",
            "_model_module_version": "1.5.0",
            "_model_name": "DescriptionStyleModel",
            "_view_count": null,
            "_view_module": "@jupyter-widgets/base",
            "_view_module_version": "1.2.0",
            "_view_name": "StyleView",
            "description_width": ""
          }
        },
        "1178f36b51904566b13aec120237f43e": {
          "model_module": "@jupyter-widgets/base",
          "model_module_version": "1.2.0",
          "model_name": "LayoutModel",
          "state": {
            "_model_module": "@jupyter-widgets/base",
            "_model_module_version": "1.2.0",
            "_model_name": "LayoutModel",
            "_view_count": null,
            "_view_module": "@jupyter-widgets/base",
            "_view_module_version": "1.2.0",
            "_view_name": "LayoutView",
            "align_content": null,
            "align_items": null,
            "align_self": null,
            "border": null,
            "bottom": null,
            "display": null,
            "flex": null,
            "flex_flow": null,
            "grid_area": null,
            "grid_auto_columns": null,
            "grid_auto_flow": null,
            "grid_auto_rows": null,
            "grid_column": null,
            "grid_gap": null,
            "grid_row": null,
            "grid_template_areas": null,
            "grid_template_columns": null,
            "grid_template_rows": null,
            "height": null,
            "justify_content": null,
            "justify_items": null,
            "left": null,
            "margin": null,
            "max_height": null,
            "max_width": null,
            "min_height": null,
            "min_width": null,
            "object_fit": null,
            "object_position": null,
            "order": null,
            "overflow": null,
            "overflow_x": null,
            "overflow_y": null,
            "padding": null,
            "right": null,
            "top": null,
            "visibility": null,
            "width": null
          }
        },
        "17d609a4e40f4deeb619cde4c4571384": {
          "model_module": "@jupyter-widgets/base",
          "model_module_version": "1.2.0",
          "model_name": "LayoutModel",
          "state": {
            "_model_module": "@jupyter-widgets/base",
            "_model_module_version": "1.2.0",
            "_model_name": "LayoutModel",
            "_view_count": null,
            "_view_module": "@jupyter-widgets/base",
            "_view_module_version": "1.2.0",
            "_view_name": "LayoutView",
            "align_content": null,
            "align_items": null,
            "align_self": null,
            "border": null,
            "bottom": null,
            "display": null,
            "flex": null,
            "flex_flow": null,
            "grid_area": null,
            "grid_auto_columns": null,
            "grid_auto_flow": null,
            "grid_auto_rows": null,
            "grid_column": null,
            "grid_gap": null,
            "grid_row": null,
            "grid_template_areas": null,
            "grid_template_columns": null,
            "grid_template_rows": null,
            "height": null,
            "justify_content": null,
            "justify_items": null,
            "left": null,
            "margin": null,
            "max_height": null,
            "max_width": null,
            "min_height": null,
            "min_width": null,
            "object_fit": null,
            "object_position": null,
            "order": null,
            "overflow": null,
            "overflow_x": null,
            "overflow_y": null,
            "padding": null,
            "right": null,
            "top": null,
            "visibility": null,
            "width": null
          }
        },
        "19d056f50ab146889e34cb5d70c6f53b": {
          "model_module": "@jupyter-widgets/controls",
          "model_module_version": "1.5.0",
          "model_name": "HBoxModel",
          "state": {
            "_dom_classes": [],
            "_model_module": "@jupyter-widgets/controls",
            "_model_module_version": "1.5.0",
            "_model_name": "HBoxModel",
            "_view_count": null,
            "_view_module": "@jupyter-widgets/controls",
            "_view_module_version": "1.5.0",
            "_view_name": "HBoxView",
            "box_style": "",
            "children": [
              "IPY_MODEL_321aa7be1fb64de18f2b6cc30229f326",
              "IPY_MODEL_fefd40227f6c4d6d9741754f785f0b17",
              "IPY_MODEL_e2371f4cfb0949c89595dc24125c95c4"
            ],
            "layout": "IPY_MODEL_cb44655a82bd4e218a0fb144c4e33ee3"
          }
        },
        "1e1139a84320469591dcbc275ef82bbf": {
          "model_module": "@jupyter-widgets/controls",
          "model_module_version": "1.5.0",
          "model_name": "HTMLModel",
          "state": {
            "_dom_classes": [],
            "_model_module": "@jupyter-widgets/controls",
            "_model_module_version": "1.5.0",
            "_model_name": "HTMLModel",
            "_view_count": null,
            "_view_module": "@jupyter-widgets/controls",
            "_view_module_version": "1.5.0",
            "_view_name": "HTMLView",
            "description": "",
            "description_tooltip": null,
            "layout": "IPY_MODEL_a6a1179e78ce464791266216ffa199a9",
            "placeholder": "​",
            "style": "IPY_MODEL_9242a246dcd6458bb29add365dfef49c",
            "value": "Downloading builder script: "
          }
        },
        "205cb3048bcf483a9640e61cdd11fd47": {
          "model_module": "@jupyter-widgets/controls",
          "model_module_version": "1.5.0",
          "model_name": "FloatProgressModel",
          "state": {
            "_dom_classes": [],
            "_model_module": "@jupyter-widgets/controls",
            "_model_module_version": "1.5.0",
            "_model_name": "FloatProgressModel",
            "_view_count": null,
            "_view_module": "@jupyter-widgets/controls",
            "_view_module_version": "1.5.0",
            "_view_name": "ProgressView",
            "bar_style": "success",
            "description": "",
            "description_tooltip": null,
            "layout": "IPY_MODEL_235f55feb79f4ea6b68cdd8d6650aa8e",
            "max": 1800,
            "min": 0,
            "orientation": "horizontal",
            "style": "IPY_MODEL_2b930b13db8a411ea82a3a45264aa64a",
            "value": 1800
          }
        },
        "208274a680294a5bacf962f7d95970c2": {
          "model_module": "@jupyter-widgets/controls",
          "model_module_version": "1.5.0",
          "model_name": "HTMLModel",
          "state": {
            "_dom_classes": [],
            "_model_module": "@jupyter-widgets/controls",
            "_model_module_version": "1.5.0",
            "_model_name": "HTMLModel",
            "_view_count": null,
            "_view_module": "@jupyter-widgets/controls",
            "_view_module_version": "1.5.0",
            "_view_name": "HTMLView",
            "description": "",
            "description_tooltip": null,
            "layout": "IPY_MODEL_f07ee0a585e14df4a431a1f39fabc420",
            "placeholder": "​",
            "style": "IPY_MODEL_a24ffade57f9412c90928a1c43759e11",
            "value": "Generating train split: 100%"
          }
        },
        "235f55feb79f4ea6b68cdd8d6650aa8e": {
          "model_module": "@jupyter-widgets/base",
          "model_module_version": "1.2.0",
          "model_name": "LayoutModel",
          "state": {
            "_model_module": "@jupyter-widgets/base",
            "_model_module_version": "1.2.0",
            "_model_name": "LayoutModel",
            "_view_count": null,
            "_view_module": "@jupyter-widgets/base",
            "_view_module_version": "1.2.0",
            "_view_name": "LayoutView",
            "align_content": null,
            "align_items": null,
            "align_self": null,
            "border": null,
            "bottom": null,
            "display": null,
            "flex": null,
            "flex_flow": null,
            "grid_area": null,
            "grid_auto_columns": null,
            "grid_auto_flow": null,
            "grid_auto_rows": null,
            "grid_column": null,
            "grid_gap": null,
            "grid_row": null,
            "grid_template_areas": null,
            "grid_template_columns": null,
            "grid_template_rows": null,
            "height": null,
            "justify_content": null,
            "justify_items": null,
            "left": null,
            "margin": null,
            "max_height": null,
            "max_width": null,
            "min_height": null,
            "min_width": null,
            "object_fit": null,
            "object_position": null,
            "order": null,
            "overflow": null,
            "overflow_x": null,
            "overflow_y": null,
            "padding": null,
            "right": null,
            "top": null,
            "visibility": null,
            "width": null
          }
        },
        "2a434591aa3c40ef98a422dd36e505bd": {
          "model_module": "@jupyter-widgets/controls",
          "model_module_version": "1.5.0",
          "model_name": "HTMLModel",
          "state": {
            "_dom_classes": [],
            "_model_module": "@jupyter-widgets/controls",
            "_model_module_version": "1.5.0",
            "_model_name": "HTMLModel",
            "_view_count": null,
            "_view_module": "@jupyter-widgets/controls",
            "_view_module_version": "1.5.0",
            "_view_name": "HTMLView",
            "description": "",
            "description_tooltip": null,
            "layout": "IPY_MODEL_cc5362151d8a43baa95dea8923b9f3eb",
            "placeholder": "​",
            "style": "IPY_MODEL_0179e2d29eb8425da1754e62a8efc5ad",
            "value": "Downloading data: 100%"
          }
        },
        "2a4c88deb0764a03bbe9075c56fda056": {
          "model_module": "@jupyter-widgets/controls",
          "model_module_version": "1.5.0",
          "model_name": "DescriptionStyleModel",
          "state": {
            "_model_module": "@jupyter-widgets/controls",
            "_model_module_version": "1.5.0",
            "_model_name": "DescriptionStyleModel",
            "_view_count": null,
            "_view_module": "@jupyter-widgets/base",
            "_view_module_version": "1.2.0",
            "_view_name": "StyleView",
            "description_width": ""
          }
        },
        "2b930b13db8a411ea82a3a45264aa64a": {
          "model_module": "@jupyter-widgets/controls",
          "model_module_version": "1.5.0",
          "model_name": "ProgressStyleModel",
          "state": {
            "_model_module": "@jupyter-widgets/controls",
            "_model_module_version": "1.5.0",
            "_model_name": "ProgressStyleModel",
            "_view_count": null,
            "_view_module": "@jupyter-widgets/base",
            "_view_module_version": "1.2.0",
            "_view_name": "StyleView",
            "bar_color": null,
            "description_width": ""
          }
        },
        "321aa7be1fb64de18f2b6cc30229f326": {
          "model_module": "@jupyter-widgets/controls",
          "model_module_version": "1.5.0",
          "model_name": "HTMLModel",
          "state": {
            "_dom_classes": [],
            "_model_module": "@jupyter-widgets/controls",
            "_model_module_version": "1.5.0",
            "_model_name": "HTMLModel",
            "_view_count": null,
            "_view_module": "@jupyter-widgets/controls",
            "_view_module_version": "1.5.0",
            "_view_name": "HTMLView",
            "description": "",
            "description_tooltip": null,
            "layout": "IPY_MODEL_368108528d2a48d5910144b1e50dc059",
            "placeholder": "​",
            "style": "IPY_MODEL_3a7acea30c784d4b8c3e098c0c3585e5",
            "value": "Downloading metadata: "
          }
        },
        "368108528d2a48d5910144b1e50dc059": {
          "model_module": "@jupyter-widgets/base",
          "model_module_version": "1.2.0",
          "model_name": "LayoutModel",
          "state": {
            "_model_module": "@jupyter-widgets/base",
            "_model_module_version": "1.2.0",
            "_model_name": "LayoutModel",
            "_view_count": null,
            "_view_module": "@jupyter-widgets/base",
            "_view_module_version": "1.2.0",
            "_view_name": "LayoutView",
            "align_content": null,
            "align_items": null,
            "align_self": null,
            "border": null,
            "bottom": null,
            "display": null,
            "flex": null,
            "flex_flow": null,
            "grid_area": null,
            "grid_auto_columns": null,
            "grid_auto_flow": null,
            "grid_auto_rows": null,
            "grid_column": null,
            "grid_gap": null,
            "grid_row": null,
            "grid_template_areas": null,
            "grid_template_columns": null,
            "grid_template_rows": null,
            "height": null,
            "justify_content": null,
            "justify_items": null,
            "left": null,
            "margin": null,
            "max_height": null,
            "max_width": null,
            "min_height": null,
            "min_width": null,
            "object_fit": null,
            "object_position": null,
            "order": null,
            "overflow": null,
            "overflow_x": null,
            "overflow_y": null,
            "padding": null,
            "right": null,
            "top": null,
            "visibility": null,
            "width": null
          }
        },
        "3a7acea30c784d4b8c3e098c0c3585e5": {
          "model_module": "@jupyter-widgets/controls",
          "model_module_version": "1.5.0",
          "model_name": "DescriptionStyleModel",
          "state": {
            "_model_module": "@jupyter-widgets/controls",
            "_model_module_version": "1.5.0",
            "_model_name": "DescriptionStyleModel",
            "_view_count": null,
            "_view_module": "@jupyter-widgets/base",
            "_view_module_version": "1.2.0",
            "_view_name": "StyleView",
            "description_width": ""
          }
        },
        "40716f3ee3494d51a34b1ebad5745e76": {
          "model_module": "@jupyter-widgets/controls",
          "model_module_version": "1.5.0",
          "model_name": "HTMLModel",
          "state": {
            "_dom_classes": [],
            "_model_module": "@jupyter-widgets/controls",
            "_model_module_version": "1.5.0",
            "_model_name": "HTMLModel",
            "_view_count": null,
            "_view_module": "@jupyter-widgets/controls",
            "_view_module_version": "1.5.0",
            "_view_name": "HTMLView",
            "description": "",
            "description_tooltip": null,
            "layout": "IPY_MODEL_e588651a8ea14f1382a6b264392b9eb7",
            "placeholder": "​",
            "style": "IPY_MODEL_f7ef254f4ab84dbaa175aa5b6af8d785",
            "value": " 196M/196M [00:06&lt;00:00, 32.4MB/s]"
          }
        },
        "42739aaed7d7438887f1a73909ebeaf9": {
          "model_module": "@jupyter-widgets/controls",
          "model_module_version": "1.5.0",
          "model_name": "HTMLModel",
          "state": {
            "_dom_classes": [],
            "_model_module": "@jupyter-widgets/controls",
            "_model_module_version": "1.5.0",
            "_model_name": "HTMLModel",
            "_view_count": null,
            "_view_module": "@jupyter-widgets/controls",
            "_view_module_version": "1.5.0",
            "_view_name": "HTMLView",
            "description": "",
            "description_tooltip": null,
            "layout": "IPY_MODEL_c06d640a380645cca8a7463c0786ef9b",
            "placeholder": "​",
            "style": "IPY_MODEL_b4bcfc34c56a4f159616f7e421051c87",
            "value": " 4.41k/? [00:00&lt;00:00, 132kB/s]"
          }
        },
        "553df4a46d864c0b93786002f299bbab": {
          "model_module": "@jupyter-widgets/base",
          "model_module_version": "1.2.0",
          "model_name": "LayoutModel",
          "state": {
            "_model_module": "@jupyter-widgets/base",
            "_model_module_version": "1.2.0",
            "_model_name": "LayoutModel",
            "_view_count": null,
            "_view_module": "@jupyter-widgets/base",
            "_view_module_version": "1.2.0",
            "_view_name": "LayoutView",
            "align_content": null,
            "align_items": null,
            "align_self": null,
            "border": null,
            "bottom": null,
            "display": null,
            "flex": null,
            "flex_flow": null,
            "grid_area": null,
            "grid_auto_columns": null,
            "grid_auto_flow": null,
            "grid_auto_rows": null,
            "grid_column": null,
            "grid_gap": null,
            "grid_row": null,
            "grid_template_areas": null,
            "grid_template_columns": null,
            "grid_template_rows": null,
            "height": null,
            "justify_content": null,
            "justify_items": null,
            "left": null,
            "margin": null,
            "max_height": null,
            "max_width": null,
            "min_height": null,
            "min_width": null,
            "object_fit": null,
            "object_position": null,
            "order": null,
            "overflow": null,
            "overflow_x": null,
            "overflow_y": null,
            "padding": null,
            "right": null,
            "top": null,
            "visibility": null,
            "width": null
          }
        },
        "571ee93cc8bf42e5bfacf8f47074a90a": {
          "model_module": "@jupyter-widgets/controls",
          "model_module_version": "1.5.0",
          "model_name": "ProgressStyleModel",
          "state": {
            "_model_module": "@jupyter-widgets/controls",
            "_model_module_version": "1.5.0",
            "_model_name": "ProgressStyleModel",
            "_view_count": null,
            "_view_module": "@jupyter-widgets/base",
            "_view_module_version": "1.2.0",
            "_view_name": "StyleView",
            "bar_color": null,
            "description_width": ""
          }
        },
        "5b421b4b7f9a4502b091513b04f02a70": {
          "model_module": "@jupyter-widgets/controls",
          "model_module_version": "1.5.0",
          "model_name": "ProgressStyleModel",
          "state": {
            "_model_module": "@jupyter-widgets/controls",
            "_model_module_version": "1.5.0",
            "_model_name": "ProgressStyleModel",
            "_view_count": null,
            "_view_module": "@jupyter-widgets/base",
            "_view_module_version": "1.2.0",
            "_view_name": "StyleView",
            "bar_color": null,
            "description_width": ""
          }
        },
        "5de00b596c0843a181fce29b240fd620": {
          "model_module": "@jupyter-widgets/base",
          "model_module_version": "1.2.0",
          "model_name": "LayoutModel",
          "state": {
            "_model_module": "@jupyter-widgets/base",
            "_model_module_version": "1.2.0",
            "_model_name": "LayoutModel",
            "_view_count": null,
            "_view_module": "@jupyter-widgets/base",
            "_view_module_version": "1.2.0",
            "_view_name": "LayoutView",
            "align_content": null,
            "align_items": null,
            "align_self": null,
            "border": null,
            "bottom": null,
            "display": null,
            "flex": null,
            "flex_flow": null,
            "grid_area": null,
            "grid_auto_columns": null,
            "grid_auto_flow": null,
            "grid_auto_rows": null,
            "grid_column": null,
            "grid_gap": null,
            "grid_row": null,
            "grid_template_areas": null,
            "grid_template_columns": null,
            "grid_template_rows": null,
            "height": null,
            "justify_content": null,
            "justify_items": null,
            "left": null,
            "margin": null,
            "max_height": null,
            "max_width": null,
            "min_height": null,
            "min_width": null,
            "object_fit": null,
            "object_position": null,
            "order": null,
            "overflow": null,
            "overflow_x": null,
            "overflow_y": null,
            "padding": null,
            "right": null,
            "top": null,
            "visibility": null,
            "width": null
          }
        },
        "623d70435c7148729ec671084e664d82": {
          "model_module": "@jupyter-widgets/controls",
          "model_module_version": "1.5.0",
          "model_name": "HTMLModel",
          "state": {
            "_dom_classes": [],
            "_model_module": "@jupyter-widgets/controls",
            "_model_module_version": "1.5.0",
            "_model_name": "HTMLModel",
            "_view_count": null,
            "_view_module": "@jupyter-widgets/controls",
            "_view_module_version": "1.5.0",
            "_view_name": "HTMLView",
            "description": "",
            "description_tooltip": null,
            "layout": "IPY_MODEL_820c60fda2df451d9dbfbe346cb2af4e",
            "placeholder": "​",
            "style": "IPY_MODEL_db0635e44f674227bcaf94402326b4ae",
            "value": "Generating test split:  97%"
          }
        },
        "63640390c3b347da8f21ecd221f31735": {
          "model_module": "@jupyter-widgets/controls",
          "model_module_version": "1.5.0",
          "model_name": "HBoxModel",
          "state": {
            "_dom_classes": [],
            "_model_module": "@jupyter-widgets/controls",
            "_model_module_version": "1.5.0",
            "_model_name": "HBoxModel",
            "_view_count": null,
            "_view_module": "@jupyter-widgets/controls",
            "_view_module_version": "1.5.0",
            "_view_name": "HBoxView",
            "box_style": "",
            "children": [
              "IPY_MODEL_208274a680294a5bacf962f7d95970c2",
              "IPY_MODEL_a0d493b922384781845cc8356d1db42f",
              "IPY_MODEL_89b047df896b4648b8de54d92d78516d"
            ],
            "layout": "IPY_MODEL_553df4a46d864c0b93786002f299bbab"
          }
        },
        "73d93293c47d4dffb0bc6cba66027b0d": {
          "model_module": "@jupyter-widgets/controls",
          "model_module_version": "1.5.0",
          "model_name": "HBoxModel",
          "state": {
            "_dom_classes": [],
            "_model_module": "@jupyter-widgets/controls",
            "_model_module_version": "1.5.0",
            "_model_name": "HBoxModel",
            "_view_count": null,
            "_view_module": "@jupyter-widgets/controls",
            "_view_module_version": "1.5.0",
            "_view_name": "HBoxView",
            "box_style": "",
            "children": [
              "IPY_MODEL_1e1139a84320469591dcbc275ef82bbf",
              "IPY_MODEL_205cb3048bcf483a9640e61cdd11fd47",
              "IPY_MODEL_42739aaed7d7438887f1a73909ebeaf9"
            ],
            "layout": "IPY_MODEL_76644a9e483147489a842b542116cb60"
          }
        },
        "76644a9e483147489a842b542116cb60": {
          "model_module": "@jupyter-widgets/base",
          "model_module_version": "1.2.0",
          "model_name": "LayoutModel",
          "state": {
            "_model_module": "@jupyter-widgets/base",
            "_model_module_version": "1.2.0",
            "_model_name": "LayoutModel",
            "_view_count": null,
            "_view_module": "@jupyter-widgets/base",
            "_view_module_version": "1.2.0",
            "_view_name": "LayoutView",
            "align_content": null,
            "align_items": null,
            "align_self": null,
            "border": null,
            "bottom": null,
            "display": null,
            "flex": null,
            "flex_flow": null,
            "grid_area": null,
            "grid_auto_columns": null,
            "grid_auto_flow": null,
            "grid_auto_rows": null,
            "grid_column": null,
            "grid_gap": null,
            "grid_row": null,
            "grid_template_areas": null,
            "grid_template_columns": null,
            "grid_template_rows": null,
            "height": null,
            "justify_content": null,
            "justify_items": null,
            "left": null,
            "margin": null,
            "max_height": null,
            "max_width": null,
            "min_height": null,
            "min_width": null,
            "object_fit": null,
            "object_position": null,
            "order": null,
            "overflow": null,
            "overflow_x": null,
            "overflow_y": null,
            "padding": null,
            "right": null,
            "top": null,
            "visibility": null,
            "width": null
          }
        },
        "820c60fda2df451d9dbfbe346cb2af4e": {
          "model_module": "@jupyter-widgets/base",
          "model_module_version": "1.2.0",
          "model_name": "LayoutModel",
          "state": {
            "_model_module": "@jupyter-widgets/base",
            "_model_module_version": "1.2.0",
            "_model_name": "LayoutModel",
            "_view_count": null,
            "_view_module": "@jupyter-widgets/base",
            "_view_module_version": "1.2.0",
            "_view_name": "LayoutView",
            "align_content": null,
            "align_items": null,
            "align_self": null,
            "border": null,
            "bottom": null,
            "display": null,
            "flex": null,
            "flex_flow": null,
            "grid_area": null,
            "grid_auto_columns": null,
            "grid_auto_flow": null,
            "grid_auto_rows": null,
            "grid_column": null,
            "grid_gap": null,
            "grid_row": null,
            "grid_template_areas": null,
            "grid_template_columns": null,
            "grid_template_rows": null,
            "height": null,
            "justify_content": null,
            "justify_items": null,
            "left": null,
            "margin": null,
            "max_height": null,
            "max_width": null,
            "min_height": null,
            "min_width": null,
            "object_fit": null,
            "object_position": null,
            "order": null,
            "overflow": null,
            "overflow_x": null,
            "overflow_y": null,
            "padding": null,
            "right": null,
            "top": null,
            "visibility": null,
            "width": null
          }
        },
        "881bebb8a5864279861135143306f150": {
          "model_module": "@jupyter-widgets/controls",
          "model_module_version": "1.5.0",
          "model_name": "ProgressStyleModel",
          "state": {
            "_model_module": "@jupyter-widgets/controls",
            "_model_module_version": "1.5.0",
            "_model_name": "ProgressStyleModel",
            "_view_count": null,
            "_view_module": "@jupyter-widgets/base",
            "_view_module_version": "1.2.0",
            "_view_name": "StyleView",
            "bar_color": null,
            "description_width": ""
          }
        },
        "89b047df896b4648b8de54d92d78516d": {
          "model_module": "@jupyter-widgets/controls",
          "model_module_version": "1.5.0",
          "model_name": "HTMLModel",
          "state": {
            "_dom_classes": [],
            "_model_module": "@jupyter-widgets/controls",
            "_model_module_version": "1.5.0",
            "_model_name": "HTMLModel",
            "_view_count": null,
            "_view_module": "@jupyter-widgets/controls",
            "_view_module_version": "1.5.0",
            "_view_name": "HTMLView",
            "description": "",
            "description_tooltip": null,
            "layout": "IPY_MODEL_b81f25c1b7f144cd8cda896a456df9ce",
            "placeholder": "​",
            "style": "IPY_MODEL_2a4c88deb0764a03bbe9075c56fda056",
            "value": " 649714/650000 [00:35&lt;00:00, 23129.86 examples/s]"
          }
        },
        "9242a246dcd6458bb29add365dfef49c": {
          "model_module": "@jupyter-widgets/controls",
          "model_module_version": "1.5.0",
          "model_name": "DescriptionStyleModel",
          "state": {
            "_model_module": "@jupyter-widgets/controls",
            "_model_module_version": "1.5.0",
            "_model_name": "DescriptionStyleModel",
            "_view_count": null,
            "_view_module": "@jupyter-widgets/base",
            "_view_module_version": "1.2.0",
            "_view_name": "StyleView",
            "description_width": ""
          }
        },
        "93da31c3c2914a328177cd5779e9958e": {
          "model_module": "@jupyter-widgets/controls",
          "model_module_version": "1.5.0",
          "model_name": "HBoxModel",
          "state": {
            "_dom_classes": [],
            "_model_module": "@jupyter-widgets/controls",
            "_model_module_version": "1.5.0",
            "_model_name": "HBoxModel",
            "_view_count": null,
            "_view_module": "@jupyter-widgets/controls",
            "_view_module_version": "1.5.0",
            "_view_name": "HBoxView",
            "box_style": "",
            "children": [
              "IPY_MODEL_2a434591aa3c40ef98a422dd36e505bd",
              "IPY_MODEL_b6be5cf2af874e18bbf1f5f203a37bf5",
              "IPY_MODEL_40716f3ee3494d51a34b1ebad5745e76"
            ],
            "layout": "IPY_MODEL_d794b1f3880f4b92b94f19d9685390bb"
          }
        },
        "9abb47b4f167470687a1c51a1da7d76f": {
          "model_module": "@jupyter-widgets/controls",
          "model_module_version": "1.5.0",
          "model_name": "FloatProgressModel",
          "state": {
            "_dom_classes": [],
            "_model_module": "@jupyter-widgets/controls",
            "_model_module_version": "1.5.0",
            "_model_name": "FloatProgressModel",
            "_view_count": null,
            "_view_module": "@jupyter-widgets/controls",
            "_view_module_version": "1.5.0",
            "_view_name": "ProgressView",
            "bar_style": "",
            "description": "",
            "description_tooltip": null,
            "layout": "IPY_MODEL_17d609a4e40f4deeb619cde4c4571384",
            "max": 50000,
            "min": 0,
            "orientation": "horizontal",
            "style": "IPY_MODEL_5b421b4b7f9a4502b091513b04f02a70",
            "value": 50000
          }
        },
        "9e02714ee711406292cf0b4d8111d1e1": {
          "model_module": "@jupyter-widgets/controls",
          "model_module_version": "1.5.0",
          "model_name": "HBoxModel",
          "state": {
            "_dom_classes": [],
            "_model_module": "@jupyter-widgets/controls",
            "_model_module_version": "1.5.0",
            "_model_name": "HBoxModel",
            "_view_count": null,
            "_view_module": "@jupyter-widgets/controls",
            "_view_module_version": "1.5.0",
            "_view_name": "HBoxView",
            "box_style": "",
            "children": [
              "IPY_MODEL_623d70435c7148729ec671084e664d82",
              "IPY_MODEL_9abb47b4f167470687a1c51a1da7d76f",
              "IPY_MODEL_b69dfca43f3e45b19348910c2154c8e0"
            ],
            "layout": "IPY_MODEL_d85dd7ab2f1246ae8acaf9e12db5f5d8"
          }
        },
        "a0d493b922384781845cc8356d1db42f": {
          "model_module": "@jupyter-widgets/controls",
          "model_module_version": "1.5.0",
          "model_name": "FloatProgressModel",
          "state": {
            "_dom_classes": [],
            "_model_module": "@jupyter-widgets/controls",
            "_model_module_version": "1.5.0",
            "_model_name": "FloatProgressModel",
            "_view_count": null,
            "_view_module": "@jupyter-widgets/controls",
            "_view_module_version": "1.5.0",
            "_view_name": "ProgressView",
            "bar_style": "",
            "description": "",
            "description_tooltip": null,
            "layout": "IPY_MODEL_f816e78496ba4804afef1d492ba9a797",
            "max": 650000,
            "min": 0,
            "orientation": "horizontal",
            "style": "IPY_MODEL_571ee93cc8bf42e5bfacf8f47074a90a",
            "value": 650000
          }
        },
        "a24ffade57f9412c90928a1c43759e11": {
          "model_module": "@jupyter-widgets/controls",
          "model_module_version": "1.5.0",
          "model_name": "DescriptionStyleModel",
          "state": {
            "_model_module": "@jupyter-widgets/controls",
            "_model_module_version": "1.5.0",
            "_model_name": "DescriptionStyleModel",
            "_view_count": null,
            "_view_module": "@jupyter-widgets/base",
            "_view_module_version": "1.2.0",
            "_view_name": "StyleView",
            "description_width": ""
          }
        },
        "a6a1179e78ce464791266216ffa199a9": {
          "model_module": "@jupyter-widgets/base",
          "model_module_version": "1.2.0",
          "model_name": "LayoutModel",
          "state": {
            "_model_module": "@jupyter-widgets/base",
            "_model_module_version": "1.2.0",
            "_model_name": "LayoutModel",
            "_view_count": null,
            "_view_module": "@jupyter-widgets/base",
            "_view_module_version": "1.2.0",
            "_view_name": "LayoutView",
            "align_content": null,
            "align_items": null,
            "align_self": null,
            "border": null,
            "bottom": null,
            "display": null,
            "flex": null,
            "flex_flow": null,
            "grid_area": null,
            "grid_auto_columns": null,
            "grid_auto_flow": null,
            "grid_auto_rows": null,
            "grid_column": null,
            "grid_gap": null,
            "grid_row": null,
            "grid_template_areas": null,
            "grid_template_columns": null,
            "grid_template_rows": null,
            "height": null,
            "justify_content": null,
            "justify_items": null,
            "left": null,
            "margin": null,
            "max_height": null,
            "max_width": null,
            "min_height": null,
            "min_width": null,
            "object_fit": null,
            "object_position": null,
            "order": null,
            "overflow": null,
            "overflow_x": null,
            "overflow_y": null,
            "padding": null,
            "right": null,
            "top": null,
            "visibility": null,
            "width": null
          }
        },
        "b4bcfc34c56a4f159616f7e421051c87": {
          "model_module": "@jupyter-widgets/controls",
          "model_module_version": "1.5.0",
          "model_name": "DescriptionStyleModel",
          "state": {
            "_model_module": "@jupyter-widgets/controls",
            "_model_module_version": "1.5.0",
            "_model_name": "DescriptionStyleModel",
            "_view_count": null,
            "_view_module": "@jupyter-widgets/base",
            "_view_module_version": "1.2.0",
            "_view_name": "StyleView",
            "description_width": ""
          }
        },
        "b69dfca43f3e45b19348910c2154c8e0": {
          "model_module": "@jupyter-widgets/controls",
          "model_module_version": "1.5.0",
          "model_name": "HTMLModel",
          "state": {
            "_dom_classes": [],
            "_model_module": "@jupyter-widgets/controls",
            "_model_module_version": "1.5.0",
            "_model_name": "HTMLModel",
            "_view_count": null,
            "_view_module": "@jupyter-widgets/controls",
            "_view_module_version": "1.5.0",
            "_view_name": "HTMLView",
            "description": "",
            "description_tooltip": null,
            "layout": "IPY_MODEL_eaf31479c4a845cd80032ddf1047468b",
            "placeholder": "​",
            "style": "IPY_MODEL_cab14358e2ba47809479797a9d35d00a",
            "value": " 48647/50000 [00:05&lt;00:00, 21609.00 examples/s]"
          }
        },
        "b6be5cf2af874e18bbf1f5f203a37bf5": {
          "model_module": "@jupyter-widgets/controls",
          "model_module_version": "1.5.0",
          "model_name": "FloatProgressModel",
          "state": {
            "_dom_classes": [],
            "_model_module": "@jupyter-widgets/controls",
            "_model_module_version": "1.5.0",
            "_model_name": "FloatProgressModel",
            "_view_count": null,
            "_view_module": "@jupyter-widgets/controls",
            "_view_module_version": "1.5.0",
            "_view_name": "ProgressView",
            "bar_style": "success",
            "description": "",
            "description_tooltip": null,
            "layout": "IPY_MODEL_1178f36b51904566b13aec120237f43e",
            "max": 196146755,
            "min": 0,
            "orientation": "horizontal",
            "style": "IPY_MODEL_ee386eb07f98483288f1ef3e279d38bc",
            "value": 196146755
          }
        },
        "b81f25c1b7f144cd8cda896a456df9ce": {
          "model_module": "@jupyter-widgets/base",
          "model_module_version": "1.2.0",
          "model_name": "LayoutModel",
          "state": {
            "_model_module": "@jupyter-widgets/base",
            "_model_module_version": "1.2.0",
            "_model_name": "LayoutModel",
            "_view_count": null,
            "_view_module": "@jupyter-widgets/base",
            "_view_module_version": "1.2.0",
            "_view_name": "LayoutView",
            "align_content": null,
            "align_items": null,
            "align_self": null,
            "border": null,
            "bottom": null,
            "display": null,
            "flex": null,
            "flex_flow": null,
            "grid_area": null,
            "grid_auto_columns": null,
            "grid_auto_flow": null,
            "grid_auto_rows": null,
            "grid_column": null,
            "grid_gap": null,
            "grid_row": null,
            "grid_template_areas": null,
            "grid_template_columns": null,
            "grid_template_rows": null,
            "height": null,
            "justify_content": null,
            "justify_items": null,
            "left": null,
            "margin": null,
            "max_height": null,
            "max_width": null,
            "min_height": null,
            "min_width": null,
            "object_fit": null,
            "object_position": null,
            "order": null,
            "overflow": null,
            "overflow_x": null,
            "overflow_y": null,
            "padding": null,
            "right": null,
            "top": null,
            "visibility": null,
            "width": null
          }
        },
        "b853f0ce254e4fcd8f522a75e07637ae": {
          "model_module": "@jupyter-widgets/controls",
          "model_module_version": "1.5.0",
          "model_name": "DescriptionStyleModel",
          "state": {
            "_model_module": "@jupyter-widgets/controls",
            "_model_module_version": "1.5.0",
            "_model_name": "DescriptionStyleModel",
            "_view_count": null,
            "_view_module": "@jupyter-widgets/base",
            "_view_module_version": "1.2.0",
            "_view_name": "StyleView",
            "description_width": ""
          }
        },
        "c06d640a380645cca8a7463c0786ef9b": {
          "model_module": "@jupyter-widgets/base",
          "model_module_version": "1.2.0",
          "model_name": "LayoutModel",
          "state": {
            "_model_module": "@jupyter-widgets/base",
            "_model_module_version": "1.2.0",
            "_model_name": "LayoutModel",
            "_view_count": null,
            "_view_module": "@jupyter-widgets/base",
            "_view_module_version": "1.2.0",
            "_view_name": "LayoutView",
            "align_content": null,
            "align_items": null,
            "align_self": null,
            "border": null,
            "bottom": null,
            "display": null,
            "flex": null,
            "flex_flow": null,
            "grid_area": null,
            "grid_auto_columns": null,
            "grid_auto_flow": null,
            "grid_auto_rows": null,
            "grid_column": null,
            "grid_gap": null,
            "grid_row": null,
            "grid_template_areas": null,
            "grid_template_columns": null,
            "grid_template_rows": null,
            "height": null,
            "justify_content": null,
            "justify_items": null,
            "left": null,
            "margin": null,
            "max_height": null,
            "max_width": null,
            "min_height": null,
            "min_width": null,
            "object_fit": null,
            "object_position": null,
            "order": null,
            "overflow": null,
            "overflow_x": null,
            "overflow_y": null,
            "padding": null,
            "right": null,
            "top": null,
            "visibility": null,
            "width": null
          }
        },
        "cab14358e2ba47809479797a9d35d00a": {
          "model_module": "@jupyter-widgets/controls",
          "model_module_version": "1.5.0",
          "model_name": "DescriptionStyleModel",
          "state": {
            "_model_module": "@jupyter-widgets/controls",
            "_model_module_version": "1.5.0",
            "_model_name": "DescriptionStyleModel",
            "_view_count": null,
            "_view_module": "@jupyter-widgets/base",
            "_view_module_version": "1.2.0",
            "_view_name": "StyleView",
            "description_width": ""
          }
        },
        "cb44655a82bd4e218a0fb144c4e33ee3": {
          "model_module": "@jupyter-widgets/base",
          "model_module_version": "1.2.0",
          "model_name": "LayoutModel",
          "state": {
            "_model_module": "@jupyter-widgets/base",
            "_model_module_version": "1.2.0",
            "_model_name": "LayoutModel",
            "_view_count": null,
            "_view_module": "@jupyter-widgets/base",
            "_view_module_version": "1.2.0",
            "_view_name": "LayoutView",
            "align_content": null,
            "align_items": null,
            "align_self": null,
            "border": null,
            "bottom": null,
            "display": null,
            "flex": null,
            "flex_flow": null,
            "grid_area": null,
            "grid_auto_columns": null,
            "grid_auto_flow": null,
            "grid_auto_rows": null,
            "grid_column": null,
            "grid_gap": null,
            "grid_row": null,
            "grid_template_areas": null,
            "grid_template_columns": null,
            "grid_template_rows": null,
            "height": null,
            "justify_content": null,
            "justify_items": null,
            "left": null,
            "margin": null,
            "max_height": null,
            "max_width": null,
            "min_height": null,
            "min_width": null,
            "object_fit": null,
            "object_position": null,
            "order": null,
            "overflow": null,
            "overflow_x": null,
            "overflow_y": null,
            "padding": null,
            "right": null,
            "top": null,
            "visibility": null,
            "width": null
          }
        },
        "cc5362151d8a43baa95dea8923b9f3eb": {
          "model_module": "@jupyter-widgets/base",
          "model_module_version": "1.2.0",
          "model_name": "LayoutModel",
          "state": {
            "_model_module": "@jupyter-widgets/base",
            "_model_module_version": "1.2.0",
            "_model_name": "LayoutModel",
            "_view_count": null,
            "_view_module": "@jupyter-widgets/base",
            "_view_module_version": "1.2.0",
            "_view_name": "LayoutView",
            "align_content": null,
            "align_items": null,
            "align_self": null,
            "border": null,
            "bottom": null,
            "display": null,
            "flex": null,
            "flex_flow": null,
            "grid_area": null,
            "grid_auto_columns": null,
            "grid_auto_flow": null,
            "grid_auto_rows": null,
            "grid_column": null,
            "grid_gap": null,
            "grid_row": null,
            "grid_template_areas": null,
            "grid_template_columns": null,
            "grid_template_rows": null,
            "height": null,
            "justify_content": null,
            "justify_items": null,
            "left": null,
            "margin": null,
            "max_height": null,
            "max_width": null,
            "min_height": null,
            "min_width": null,
            "object_fit": null,
            "object_position": null,
            "order": null,
            "overflow": null,
            "overflow_x": null,
            "overflow_y": null,
            "padding": null,
            "right": null,
            "top": null,
            "visibility": null,
            "width": null
          }
        },
        "d794b1f3880f4b92b94f19d9685390bb": {
          "model_module": "@jupyter-widgets/base",
          "model_module_version": "1.2.0",
          "model_name": "LayoutModel",
          "state": {
            "_model_module": "@jupyter-widgets/base",
            "_model_module_version": "1.2.0",
            "_model_name": "LayoutModel",
            "_view_count": null,
            "_view_module": "@jupyter-widgets/base",
            "_view_module_version": "1.2.0",
            "_view_name": "LayoutView",
            "align_content": null,
            "align_items": null,
            "align_self": null,
            "border": null,
            "bottom": null,
            "display": null,
            "flex": null,
            "flex_flow": null,
            "grid_area": null,
            "grid_auto_columns": null,
            "grid_auto_flow": null,
            "grid_auto_rows": null,
            "grid_column": null,
            "grid_gap": null,
            "grid_row": null,
            "grid_template_areas": null,
            "grid_template_columns": null,
            "grid_template_rows": null,
            "height": null,
            "justify_content": null,
            "justify_items": null,
            "left": null,
            "margin": null,
            "max_height": null,
            "max_width": null,
            "min_height": null,
            "min_width": null,
            "object_fit": null,
            "object_position": null,
            "order": null,
            "overflow": null,
            "overflow_x": null,
            "overflow_y": null,
            "padding": null,
            "right": null,
            "top": null,
            "visibility": null,
            "width": null
          }
        },
        "d85dd7ab2f1246ae8acaf9e12db5f5d8": {
          "model_module": "@jupyter-widgets/base",
          "model_module_version": "1.2.0",
          "model_name": "LayoutModel",
          "state": {
            "_model_module": "@jupyter-widgets/base",
            "_model_module_version": "1.2.0",
            "_model_name": "LayoutModel",
            "_view_count": null,
            "_view_module": "@jupyter-widgets/base",
            "_view_module_version": "1.2.0",
            "_view_name": "LayoutView",
            "align_content": null,
            "align_items": null,
            "align_self": null,
            "border": null,
            "bottom": null,
            "display": null,
            "flex": null,
            "flex_flow": null,
            "grid_area": null,
            "grid_auto_columns": null,
            "grid_auto_flow": null,
            "grid_auto_rows": null,
            "grid_column": null,
            "grid_gap": null,
            "grid_row": null,
            "grid_template_areas": null,
            "grid_template_columns": null,
            "grid_template_rows": null,
            "height": null,
            "justify_content": null,
            "justify_items": null,
            "left": null,
            "margin": null,
            "max_height": null,
            "max_width": null,
            "min_height": null,
            "min_width": null,
            "object_fit": null,
            "object_position": null,
            "order": null,
            "overflow": null,
            "overflow_x": null,
            "overflow_y": null,
            "padding": null,
            "right": null,
            "top": null,
            "visibility": null,
            "width": null
          }
        },
        "db0635e44f674227bcaf94402326b4ae": {
          "model_module": "@jupyter-widgets/controls",
          "model_module_version": "1.5.0",
          "model_name": "DescriptionStyleModel",
          "state": {
            "_model_module": "@jupyter-widgets/controls",
            "_model_module_version": "1.5.0",
            "_model_name": "DescriptionStyleModel",
            "_view_count": null,
            "_view_module": "@jupyter-widgets/base",
            "_view_module_version": "1.2.0",
            "_view_name": "StyleView",
            "description_width": ""
          }
        },
        "e2371f4cfb0949c89595dc24125c95c4": {
          "model_module": "@jupyter-widgets/controls",
          "model_module_version": "1.5.0",
          "model_name": "HTMLModel",
          "state": {
            "_dom_classes": [],
            "_model_module": "@jupyter-widgets/controls",
            "_model_module_version": "1.5.0",
            "_model_name": "HTMLModel",
            "_view_count": null,
            "_view_module": "@jupyter-widgets/controls",
            "_view_module_version": "1.5.0",
            "_view_name": "HTMLView",
            "description": "",
            "description_tooltip": null,
            "layout": "IPY_MODEL_5de00b596c0843a181fce29b240fd620",
            "placeholder": "​",
            "style": "IPY_MODEL_b853f0ce254e4fcd8f522a75e07637ae",
            "value": " 2.04k/? [00:00&lt;00:00, 51.7kB/s]"
          }
        },
        "e588651a8ea14f1382a6b264392b9eb7": {
          "model_module": "@jupyter-widgets/base",
          "model_module_version": "1.2.0",
          "model_name": "LayoutModel",
          "state": {
            "_model_module": "@jupyter-widgets/base",
            "_model_module_version": "1.2.0",
            "_model_name": "LayoutModel",
            "_view_count": null,
            "_view_module": "@jupyter-widgets/base",
            "_view_module_version": "1.2.0",
            "_view_name": "LayoutView",
            "align_content": null,
            "align_items": null,
            "align_self": null,
            "border": null,
            "bottom": null,
            "display": null,
            "flex": null,
            "flex_flow": null,
            "grid_area": null,
            "grid_auto_columns": null,
            "grid_auto_flow": null,
            "grid_auto_rows": null,
            "grid_column": null,
            "grid_gap": null,
            "grid_row": null,
            "grid_template_areas": null,
            "grid_template_columns": null,
            "grid_template_rows": null,
            "height": null,
            "justify_content": null,
            "justify_items": null,
            "left": null,
            "margin": null,
            "max_height": null,
            "max_width": null,
            "min_height": null,
            "min_width": null,
            "object_fit": null,
            "object_position": null,
            "order": null,
            "overflow": null,
            "overflow_x": null,
            "overflow_y": null,
            "padding": null,
            "right": null,
            "top": null,
            "visibility": null,
            "width": null
          }
        },
        "eaf31479c4a845cd80032ddf1047468b": {
          "model_module": "@jupyter-widgets/base",
          "model_module_version": "1.2.0",
          "model_name": "LayoutModel",
          "state": {
            "_model_module": "@jupyter-widgets/base",
            "_model_module_version": "1.2.0",
            "_model_name": "LayoutModel",
            "_view_count": null,
            "_view_module": "@jupyter-widgets/base",
            "_view_module_version": "1.2.0",
            "_view_name": "LayoutView",
            "align_content": null,
            "align_items": null,
            "align_self": null,
            "border": null,
            "bottom": null,
            "display": null,
            "flex": null,
            "flex_flow": null,
            "grid_area": null,
            "grid_auto_columns": null,
            "grid_auto_flow": null,
            "grid_auto_rows": null,
            "grid_column": null,
            "grid_gap": null,
            "grid_row": null,
            "grid_template_areas": null,
            "grid_template_columns": null,
            "grid_template_rows": null,
            "height": null,
            "justify_content": null,
            "justify_items": null,
            "left": null,
            "margin": null,
            "max_height": null,
            "max_width": null,
            "min_height": null,
            "min_width": null,
            "object_fit": null,
            "object_position": null,
            "order": null,
            "overflow": null,
            "overflow_x": null,
            "overflow_y": null,
            "padding": null,
            "right": null,
            "top": null,
            "visibility": null,
            "width": null
          }
        },
        "ee386eb07f98483288f1ef3e279d38bc": {
          "model_module": "@jupyter-widgets/controls",
          "model_module_version": "1.5.0",
          "model_name": "ProgressStyleModel",
          "state": {
            "_model_module": "@jupyter-widgets/controls",
            "_model_module_version": "1.5.0",
            "_model_name": "ProgressStyleModel",
            "_view_count": null,
            "_view_module": "@jupyter-widgets/base",
            "_view_module_version": "1.2.0",
            "_view_name": "StyleView",
            "bar_color": null,
            "description_width": ""
          }
        },
        "f07ee0a585e14df4a431a1f39fabc420": {
          "model_module": "@jupyter-widgets/base",
          "model_module_version": "1.2.0",
          "model_name": "LayoutModel",
          "state": {
            "_model_module": "@jupyter-widgets/base",
            "_model_module_version": "1.2.0",
            "_model_name": "LayoutModel",
            "_view_count": null,
            "_view_module": "@jupyter-widgets/base",
            "_view_module_version": "1.2.0",
            "_view_name": "LayoutView",
            "align_content": null,
            "align_items": null,
            "align_self": null,
            "border": null,
            "bottom": null,
            "display": null,
            "flex": null,
            "flex_flow": null,
            "grid_area": null,
            "grid_auto_columns": null,
            "grid_auto_flow": null,
            "grid_auto_rows": null,
            "grid_column": null,
            "grid_gap": null,
            "grid_row": null,
            "grid_template_areas": null,
            "grid_template_columns": null,
            "grid_template_rows": null,
            "height": null,
            "justify_content": null,
            "justify_items": null,
            "left": null,
            "margin": null,
            "max_height": null,
            "max_width": null,
            "min_height": null,
            "min_width": null,
            "object_fit": null,
            "object_position": null,
            "order": null,
            "overflow": null,
            "overflow_x": null,
            "overflow_y": null,
            "padding": null,
            "right": null,
            "top": null,
            "visibility": null,
            "width": null
          }
        },
        "f7ef254f4ab84dbaa175aa5b6af8d785": {
          "model_module": "@jupyter-widgets/controls",
          "model_module_version": "1.5.0",
          "model_name": "DescriptionStyleModel",
          "state": {
            "_model_module": "@jupyter-widgets/controls",
            "_model_module_version": "1.5.0",
            "_model_name": "DescriptionStyleModel",
            "_view_count": null,
            "_view_module": "@jupyter-widgets/base",
            "_view_module_version": "1.2.0",
            "_view_name": "StyleView",
            "description_width": ""
          }
        },
        "f816e78496ba4804afef1d492ba9a797": {
          "model_module": "@jupyter-widgets/base",
          "model_module_version": "1.2.0",
          "model_name": "LayoutModel",
          "state": {
            "_model_module": "@jupyter-widgets/base",
            "_model_module_version": "1.2.0",
            "_model_name": "LayoutModel",
            "_view_count": null,
            "_view_module": "@jupyter-widgets/base",
            "_view_module_version": "1.2.0",
            "_view_name": "LayoutView",
            "align_content": null,
            "align_items": null,
            "align_self": null,
            "border": null,
            "bottom": null,
            "display": null,
            "flex": null,
            "flex_flow": null,
            "grid_area": null,
            "grid_auto_columns": null,
            "grid_auto_flow": null,
            "grid_auto_rows": null,
            "grid_column": null,
            "grid_gap": null,
            "grid_row": null,
            "grid_template_areas": null,
            "grid_template_columns": null,
            "grid_template_rows": null,
            "height": null,
            "justify_content": null,
            "justify_items": null,
            "left": null,
            "margin": null,
            "max_height": null,
            "max_width": null,
            "min_height": null,
            "min_width": null,
            "object_fit": null,
            "object_position": null,
            "order": null,
            "overflow": null,
            "overflow_x": null,
            "overflow_y": null,
            "padding": null,
            "right": null,
            "top": null,
            "visibility": null,
            "width": null
          }
        },
        "fe876539607347548d89bc40d06cda55": {
          "model_module": "@jupyter-widgets/base",
          "model_module_version": "1.2.0",
          "model_name": "LayoutModel",
          "state": {
            "_model_module": "@jupyter-widgets/base",
            "_model_module_version": "1.2.0",
            "_model_name": "LayoutModel",
            "_view_count": null,
            "_view_module": "@jupyter-widgets/base",
            "_view_module_version": "1.2.0",
            "_view_name": "LayoutView",
            "align_content": null,
            "align_items": null,
            "align_self": null,
            "border": null,
            "bottom": null,
            "display": null,
            "flex": null,
            "flex_flow": null,
            "grid_area": null,
            "grid_auto_columns": null,
            "grid_auto_flow": null,
            "grid_auto_rows": null,
            "grid_column": null,
            "grid_gap": null,
            "grid_row": null,
            "grid_template_areas": null,
            "grid_template_columns": null,
            "grid_template_rows": null,
            "height": null,
            "justify_content": null,
            "justify_items": null,
            "left": null,
            "margin": null,
            "max_height": null,
            "max_width": null,
            "min_height": null,
            "min_width": null,
            "object_fit": null,
            "object_position": null,
            "order": null,
            "overflow": null,
            "overflow_x": null,
            "overflow_y": null,
            "padding": null,
            "right": null,
            "top": null,
            "visibility": null,
            "width": null
          }
        },
        "fefd40227f6c4d6d9741754f785f0b17": {
          "model_module": "@jupyter-widgets/controls",
          "model_module_version": "1.5.0",
          "model_name": "FloatProgressModel",
          "state": {
            "_dom_classes": [],
            "_model_module": "@jupyter-widgets/controls",
            "_model_module_version": "1.5.0",
            "_model_name": "FloatProgressModel",
            "_view_count": null,
            "_view_module": "@jupyter-widgets/controls",
            "_view_module_version": "1.5.0",
            "_view_name": "ProgressView",
            "bar_style": "success",
            "description": "",
            "description_tooltip": null,
            "layout": "IPY_MODEL_fe876539607347548d89bc40d06cda55",
            "max": 979,
            "min": 0,
            "orientation": "horizontal",
            "style": "IPY_MODEL_881bebb8a5864279861135143306f150",
            "value": 979
          }
        }
      }
    }
  },
  "nbformat": 4,
  "nbformat_minor": 0
}
