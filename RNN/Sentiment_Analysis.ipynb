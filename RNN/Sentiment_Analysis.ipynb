{
  "cells": [
    {
      "cell_type": "markdown",
      "metadata": {
        "id": "5nvhJqpkqeQZ"
      },
      "source": [
        "# Sentiment Analysis of Yelp reviews: Word Embeddings and LSTM\n",
        "\n",
        "In this notebook, we implement a sentiment analysis to associate stars (from 1 to 5) to the reviews of the [YelpReviewFull dataset](https://pytorch.org/text/stable/datasets.html#yelpreviewfull). \n",
        "This dataset consists of reviews from Yelp, and is extracted from the Yelp Dataset Challenge 2015 data. \n",
        "A data point of this dataset comprises a review's text and the corresponding label (1 to 5 stars).\n",
        "\n",
        "For this, we will first use ..WORD EMBEDDINGS... TO...    [ResNet](https://arxiv.org/abs/1512.03385)\n",
        "\n",
        "Then, we will use XXX... to...    [ResNet](https://arxiv.org/abs/1512.03385)\n",
        "\n",
        "We achieve a XX% ...\n",
        "\n",
        "To build this notebook, the hints given by the [Udacity](https://github.com/udacity/deep-learning-v2-pytorch/blob/master/sentiment-rnn/Sentiment_RNN_Solution.ipynb) team have been very useful.\n",
        "\n",
        "\n",
        "\n",
        "We decide to group **4 and 5 stars** reviews as **\"good\"**, **3 stars** as **\"neutral\"**, and **1 and 2 stars** as **\"bad\"**.\n",
        "\n",
        "In the following, we will try to **predict** if a review is good, neutral or bad.\n",
        "\n"
      ]
    },
    {
      "cell_type": "markdown",
      "metadata": {
        "id": "XLecIfooygpU"
      },
      "source": [
        "To begin with, we install the libraries that are necessary to run the code on [Google Colab](https://colab.research.google.com/). \n",
        "<br/> (\"capture\" permits to hide the output cell)"
      ]
    },
    {
      "cell_type": "code",
      "execution_count": 2,
      "metadata": {
        "id": "9gMXCUoNygpU"
      },
      "outputs": [],
      "source": [
        "%%capture  \n",
        "%%bash\n",
        "pip install torch==1.11.0\n",
        "pip install folium==0.2.1\n",
        "pip install torchdata\n",
        "pip install datasets"
      ]
    },
    {
      "cell_type": "code",
      "execution_count": 3,
      "metadata": {
        "id": "9uM_lvsCqeQb"
      },
      "outputs": [],
      "source": [
        "import matplotlib.pyplot as plt\n",
        "import numpy as np\n",
        "import pandas as pd\n",
        "\n",
        "import torch\n",
        "from torch import optim\n",
        "import torchdata\n",
        "import torch.nn as nn\n",
        "import torch.nn.functional as F\n",
        "from torchtext import transforms, utils, models #, datasets "
      ]
    },
    {
      "cell_type": "markdown",
      "metadata": {
        "id": "y8tj6SPpygpX"
      },
      "source": [
        "# Data pre-processing:\n",
        "\n",
        "## Data loading and reduction:\n",
        "\n",
        "We download the data with the [Hugging Face](https://huggingface.co/) library **datasets**. \n",
        "\n",
        "(The direct downloading from torchtext.datsets is impossible for now, because of a bug that will be corrected in the next version of PyTorch.)"
      ]
    },
    {
      "cell_type": "code",
      "execution_count": 4,
      "metadata": {
        "colab": {
          "base_uri": "https://localhost:8080/",
          "height": 188,
          "referenced_widgets": [
            "49aef50b9292416b95336aa2c6b55c36",
            "198366f2daef4b46b68e8a55a2865a02",
            "08ecc59220ab4ab3b4d38d7c1b9f4370",
            "d739f02b157d489389b6777ebff3dad5",
            "1f783487e2dd4665b7231d69264eeb89",
            "f67af1db3f4f4becafcf66000848ba63",
            "ca5bf1d07aaa42b8a88f31d36bbbca2c",
            "6b73307a2e2a4c6e9260c6ab8976daa4",
            "ec97bf60f5ff43228cafdf8dd869c9a8",
            "631a28b84e094c4fa0a519d60baef04b",
            "f07ea805e9de4a89bed69b59457e0f0d",
            "74b484aeec614914a3f03718792196ad",
            "4f8e21ac12f2484db9e9e5de9c6fe74d",
            "b6b56f2a21f8411e89f48e512143859d",
            "e1867f70a30e4e22918ea87c52316887",
            "a3066d2da24f459fb0a589723ba68afa",
            "01b5eb783dac453da6da7f1bc2e2f461",
            "87965056c98d48589ba31f94a7060084",
            "50897529655047ae803ceb0d2600806b",
            "5688a6fac33541748ae34484ad18b8ca",
            "934090934a8d403da9f53ac81acbaa62",
            "5d942a0e662b4566a041fa55b00e9125",
            "5f83cb4e48eb4b07a2fae76358fec294",
            "e619bc3a40494447aba234fd06490184",
            "b41e47cc282746d78f52d99bdc4efbb3",
            "9f5f85dc03c143308e64b9d974fbf280",
            "8b6a60bd113545c198a5b7744f9f0a9b",
            "91a71ff04a2745c085655d7bf0345d12",
            "e6363f6228fe4f6c9205334e25768fdf",
            "25e7ede938d740699ed98c74bf2dd97f",
            "d1fed60a71a74abda13d15164540a7bc",
            "5a605f9a71ec48529dad07551a9edf2f",
            "2c670c002eca4ba69f72b6597e857550",
            "c34480b65835453da97e6657269aa8ab",
            "d77e0fae7d0f4cf58c816b34a4d07991",
            "a1ea22534ae741658a04e6e1d0bc6729",
            "c6672efbe5d042d6ab380a5674ef211c",
            "00a78b25fffc4a9a88e0cd6a61debc33",
            "377f873037c64a90a0a061ab6c9bcff1",
            "9d8f4790a9284ffb9854205c3f7b83c8",
            "ca3bf04b35fe4c50aed1a321d8250e66",
            "83662dfa99ef4e1588eb588697527147",
            "0042abc22c81443f9a7a9298284ddb41",
            "38748830931e4c318afa771d4344aa44",
            "5f840c377719427ca87f7977180ee348",
            "4b3ce4cbdeb34117829c1d31e3807e40",
            "808b6d8d960a4e209a1781e0419a9bd8",
            "b28c46b598a2417b9afdcb26c17be708",
            "9fb5f536977e427e8717f916656bcc6d",
            "b63302acb79b497e9b62c914a28fbc25",
            "1494c9883c774c71a75512a0e07db35b",
            "06fb6d51f9334f568a205bb6f63fd52b",
            "22af8da29db74058b6a76559dcf860c2",
            "6e156a3db83c4212835887de7c81b479",
            "3f9bf30493244fd48adb6f6d084fddd4"
          ]
        },
        "id": "YFxG0Bz5ygpX",
        "outputId": "fdcef3d8-eed2-41da-d0a2-96b270973bb9"
      },
      "outputs": [
        {
          "output_type": "display_data",
          "data": {
            "text/plain": [
              "Downloading builder script:   0%|          | 0.00/1.80k [00:00<?, ?B/s]"
            ],
            "application/vnd.jupyter.widget-view+json": {
              "version_major": 2,
              "version_minor": 0,
              "model_id": "49aef50b9292416b95336aa2c6b55c36"
            }
          },
          "metadata": {}
        },
        {
          "output_type": "display_data",
          "data": {
            "text/plain": [
              "Downloading metadata:   0%|          | 0.00/979 [00:00<?, ?B/s]"
            ],
            "application/vnd.jupyter.widget-view+json": {
              "version_major": 2,
              "version_minor": 0,
              "model_id": "74b484aeec614914a3f03718792196ad"
            }
          },
          "metadata": {}
        },
        {
          "output_type": "stream",
          "name": "stdout",
          "text": [
            "Downloading and preparing dataset yelp_review_full/yelp_review_full (download: 187.06 MiB, generated: 496.94 MiB, post-processed: Unknown size, total: 684.00 MiB) to /root/.cache/huggingface/datasets/yelp_review_full/yelp_review_full/1.0.0/e8e18e19d7be9e75642fc66b198abadb116f73599ec89a69ba5dd8d1e57ba0bf...\n"
          ]
        },
        {
          "output_type": "display_data",
          "data": {
            "text/plain": [
              "Downloading data:   0%|          | 0.00/196M [00:00<?, ?B/s]"
            ],
            "application/vnd.jupyter.widget-view+json": {
              "version_major": 2,
              "version_minor": 0,
              "model_id": "5f83cb4e48eb4b07a2fae76358fec294"
            }
          },
          "metadata": {}
        },
        {
          "output_type": "display_data",
          "data": {
            "text/plain": [
              "Generating train split:   0%|          | 0/650000 [00:00<?, ? examples/s]"
            ],
            "application/vnd.jupyter.widget-view+json": {
              "version_major": 2,
              "version_minor": 0,
              "model_id": "c34480b65835453da97e6657269aa8ab"
            }
          },
          "metadata": {}
        },
        {
          "output_type": "display_data",
          "data": {
            "text/plain": [
              "Generating test split:   0%|          | 0/50000 [00:00<?, ? examples/s]"
            ],
            "application/vnd.jupyter.widget-view+json": {
              "version_major": 2,
              "version_minor": 0,
              "model_id": "5f840c377719427ca87f7977180ee348"
            }
          },
          "metadata": {}
        },
        {
          "output_type": "stream",
          "name": "stdout",
          "text": [
            "Dataset yelp_review_full downloaded and prepared to /root/.cache/huggingface/datasets/yelp_review_full/yelp_review_full/1.0.0/e8e18e19d7be9e75642fc66b198abadb116f73599ec89a69ba5dd8d1e57ba0bf. Subsequent calls will reuse this data.\n"
          ]
        },
        {
          "output_type": "stream",
          "name": "stderr",
          "text": [
            "Reusing dataset yelp_review_full (/root/.cache/huggingface/datasets/yelp_review_full/yelp_review_full/1.0.0/e8e18e19d7be9e75642fc66b198abadb116f73599ec89a69ba5dd8d1e57ba0bf)\n"
          ]
        }
      ],
      "source": [
        "from datasets import load_dataset\n",
        "train_data = load_dataset(\"yelp_review_full\", split=\"train\")\n",
        "test_data = load_dataset(\"yelp_review_full\", split=\"test\")\n",
        "\n",
        "reviews = train_data['text'] + test_data['text']\n",
        "stars = train_data['label'] + test_data['label']"
      ]
    },
    {
      "cell_type": "markdown",
      "metadata": {
        "id": "UvjQ_e7-ygpZ"
      },
      "source": [
        "We observe some data to see of all is OK."
      ]
    },
    {
      "cell_type": "code",
      "execution_count": 5,
      "metadata": {
        "colab": {
          "base_uri": "https://localhost:8080/"
        },
        "id": "o44VsEGwygpa",
        "outputId": "f1207064-6cf3-426b-d067-7f31c36f612a"
      },
      "outputs": [
        {
          "output_type": "stream",
          "name": "stdout",
          "text": [
            "A review example:   \"Been going to Dr. Goldberg for over 10 years. I think I was one of his 1st patients when he started at MHMG. He's been great over the years and is really all about the big picture. It is because of him, not my now former gyn Dr. Markoff, that I found out I have fibroids. He explores all options with you and is very patient and understanding. He doesn't judge and asks all the right questions. Very thorough and wants to be kept in the loop on every aspect of your medical health and your life.\"\n",
            "\n",
            "The related label (number of stars):  3 stars\n"
          ]
        }
      ],
      "source": [
        "print(f\"A review example:   \\\"{reviews[2]}\\\"\")\n",
        "print()\n",
        "print(f\"The related label (number of stars):  {stars[2]} stars\")"
      ]
    },
    {
      "cell_type": "markdown",
      "metadata": {
        "id": "jar-VPv2ygpb"
      },
      "source": [
        "The full dataset contains a very big number of reviews: 700,000."
      ]
    },
    {
      "cell_type": "code",
      "execution_count": 6,
      "metadata": {
        "colab": {
          "base_uri": "https://localhost:8080/"
        },
        "id": "tz0_12UVygpb",
        "outputId": "39be22ce-9488-4fe0-8582-3b91c69ed751"
      },
      "outputs": [
        {
          "output_type": "stream",
          "name": "stdout",
          "text": [
            "Number of reviews of the full dataset:  700000\n"
          ]
        }
      ],
      "source": [
        "print(f\"Number of reviews of the full dataset:  {len(reviews)}\")"
      ]
    },
    {
      "cell_type": "markdown",
      "metadata": {
        "id": "iAuQ4twmygpc"
      },
      "source": [
        "Let us look at the full distribution of stars given to the reviews."
      ]
    },
    {
      "cell_type": "code",
      "execution_count": 7,
      "metadata": {
        "colab": {
          "base_uri": "https://localhost:8080/"
        },
        "id": "1bE1XT42ygpd",
        "outputId": "e3e73415-3b5a-4175-aeb6-671a4707ecb3"
      },
      "outputs": [
        {
          "output_type": "stream",
          "name": "stdout",
          "text": [
            "Number of reviews with 1 STAR of the INITIAL dataset:  20.0 %\n",
            "Number of reviews with 2 STARS of the INITIAL dataset:  20.0 %\n",
            "Number of reviews with 3 STARS of the INITIAL dataset:  20.0 %\n",
            "Number of reviews with 4 STARS of the INITIAL dataset:  20.0 %\n",
            "Number of reviews with 5 STARS of the INITIAL dataset:  20.0 %\n"
          ]
        }
      ],
      "source": [
        "from collections import Counter\n",
        "\n",
        "print(f\"Number of reviews with 1 STAR of the INITIAL dataset:  {100*stars.count(0)/len(stars)} %\")\n",
        "print(f\"Number of reviews with 2 STARS of the INITIAL dataset:  {100*stars.count(1)/len(stars)} %\")\n",
        "print(f\"Number of reviews with 3 STARS of the INITIAL dataset:  {100*stars.count(2)/len(stars)} %\")\n",
        "print(f\"Number of reviews with 4 STARS of the INITIAL dataset:  {100*stars.count(3)/len(stars)} %\")\n",
        "print(f\"Number of reviews with 5 STARS of the INITIAL dataset:  {100*stars.count(4)/len(stars)} %\")\n"
      ]
    },
    {
      "cell_type": "markdown",
      "metadata": {
        "id": "2Gr6pbSaygpe"
      },
      "source": [
        "We decide to keep only **20%** of the original YelpReviewsFull dataset for our analysis (140,000 reviews!).\n",
        "We carry out the selection **by preserving the equal distribution of stars**."
      ]
    },
    {
      "cell_type": "code",
      "execution_count": 8,
      "metadata": {
        "colab": {
          "base_uri": "https://localhost:8080/"
        },
        "id": "Paj0Q6czygpe",
        "outputId": "db53ea9d-fd1c-4fd3-b8c3-27b26cae36e0"
      },
      "outputs": [
        {
          "output_type": "stream",
          "name": "stdout",
          "text": [
            "Number of reviews kept for our analysis:  140000\n"
          ]
        }
      ],
      "source": [
        "# We choose the indices that will be used\n",
        "indices_1_Star = [index for index in range(len(reviews)) if stars[index]==0]\n",
        "indices_2_Star = [index for index in range(len(reviews)) if stars[index]==1]\n",
        "indices_3_Star = [index for index in range(len(reviews)) if stars[index]==2]\n",
        "indices_4_Star = [index for index in range(len(reviews)) if stars[index]==3]\n",
        "indices_5_Star = [index for index in range(len(reviews)) if stars[index]==4]\n",
        "\n",
        "# We shuffle these indexes and delect randomly 20% of them\n",
        "np.random.seed(123)\n",
        "np.random.shuffle(indices_1_Star)\n",
        "np.random.shuffle(indices_2_Star)\n",
        "np.random.shuffle(indices_3_Star)\n",
        "np.random.shuffle(indices_4_Star)\n",
        "np.random.shuffle(indices_5_Star)\n",
        "selected_indices_1_Star = indices_1_Star[:len(indices_1_Star)//5]\n",
        "selected_indices_2_Star = indices_2_Star[:len(indices_2_Star)//5]\n",
        "selected_indices_3_Star = indices_3_Star[:len(indices_3_Star)//5]\n",
        "selected_indices_4_Star = indices_4_Star[:len(indices_4_Star)//5]\n",
        "selected_indices_5_Star = indices_5_Star[:len(indices_5_Star)//5]\n",
        "\n",
        "selected_indices = selected_indices_1_Star + selected_indices_2_Star + selected_indices_3_Star + selected_indices_4_Star + selected_indices_5_Star\n",
        "reviews = [reviews[index] for index in selected_indices]\n",
        "stars = [stars[index] for index in selected_indices]\n",
        "\n",
        "print(f\"Number of reviews kept for our analysis:  {len(reviews)}\")"
      ]
    },
    {
      "cell_type": "markdown",
      "metadata": {
        "id": "hYNKYqtnygpg"
      },
      "source": [
        "We check that the distribution of different stars is still the same."
      ]
    },
    {
      "cell_type": "code",
      "execution_count": 9,
      "metadata": {
        "colab": {
          "base_uri": "https://localhost:8080/"
        },
        "id": "vn2NQGPLygph",
        "outputId": "48e94b7f-61b0-4e12-ddfa-85b68ed90721"
      },
      "outputs": [
        {
          "output_type": "stream",
          "name": "stdout",
          "text": [
            "Number of reviews with 1 STAR of the SELECTED dataset:  20.0 %\n",
            "Number of reviews with 2 STARS of the SELECTED dataset:  20.0 %\n",
            "Number of reviews with 3 STARS of the SELECTED dataset:  20.0 %\n",
            "Number of reviews with 4 STARS of the SELECTED dataset:  20.0 %\n",
            "Number of reviews with 5 STARS of the SELECTED dataset:  20.0 %\n"
          ]
        }
      ],
      "source": [
        "print(f\"Number of reviews with 1 STAR of the SELECTED dataset:  {100*stars.count(0)/len(stars)} %\")\n",
        "print(f\"Number of reviews with 2 STARS of the SELECTED dataset:  {100*stars.count(1)/len(stars)} %\")\n",
        "print(f\"Number of reviews with 3 STARS of the SELECTED dataset:  {100*stars.count(2)/len(stars)} %\")\n",
        "print(f\"Number of reviews with 4 STARS of the SELECTED dataset:  {100*stars.count(3)/len(stars)} %\")\n",
        "print(f\"Number of reviews with 5 STARS of the SELECTED dataset:  {100*stars.count(4)/len(stars)} %\")"
      ]
    },
    {
      "cell_type": "markdown",
      "metadata": {
        "id": "fIhrfcHfygph"
      },
      "source": [
        "## Data tokenization:\n",
        "\n",
        "We now **tokenize** the reviews in order to make them readable by our neuronal network. For this we carry out the following steps:\n",
        "\n",
        "- First, we **remove punctuation** and transform **upper cases into lower cases**.\n",
        "\n",
        "- Second, we **tokenize** the words, by assigning to each of them an **integer**.\n",
        "\n",
        "- Finally, we **translate** the reviews into tokenized reviews (by replacing each word by its corresponding integer)."
      ]
    },
    {
      "cell_type": "markdown",
      "metadata": {
        "id": "gWdAIuULygpi"
      },
      "source": [
        "Let us begin with punctuation and upper cases."
      ]
    },
    {
      "cell_type": "code",
      "execution_count": 10,
      "metadata": {
        "colab": {
          "base_uri": "https://localhost:8080/"
        },
        "id": "fTjCXhLsygpi",
        "outputId": "fc76a579-5ccd-445a-9ad6-f2dc5d65d43a"
      },
      "outputs": [
        {
          "output_type": "stream",
          "name": "stdout",
          "text": [
            "food is good  service at the bar is excellent   franco dropping f bombs at the the bar is a total turn off  tell him to stay in the kitchennnwe came back 6 months later  and had the most bizarre experience  the owner chef came out of the kitchen and verbally attacked a table of patronsnhe said that he was not happy with their disappointment with one of their dinners  he challenged them to the parking lot where he was going to punch the fbomb out of them the customers told him to stand back and even asked if the police could be called  the food is still good yet over pricedngo only at your own risk\n"
          ]
        }
      ],
      "source": [
        "from string import punctuation\n",
        "\n",
        "# Remove punctuation and upper cases\n",
        "all_reviews = ' new_review_xyz '.join([review.translate(str.maketrans('', '', punctuation)) for review in reviews]) \n",
        "all_reviews = all_reviews.lower()\n",
        "\n",
        "# Split again the different reviews\n",
        "reviews_split = all_reviews.split(' new_review_xyz ')\n",
        "all_reviews = ' '.join(reviews_split)\n",
        "\n",
        "# Create a list containing all the words\n",
        "all_words = all_reviews.split()\n",
        "\n",
        "# We delete useless variables to increase available RAM\n",
        "del all_reviews\n",
        "\n",
        "# Check if all is OK with one review\n",
        "print(reviews_split[0])"
      ]
    },
    {
      "cell_type": "markdown",
      "metadata": {
        "id": "hSViouBmygpj"
      },
      "source": [
        "Now, let us **encode the words into integers**: we do this by building a **dictionary** that maps all the present words into integers. It will permit us to **convert the reviews into a list of integers**. We **keep the value 0 for the padding**, that will be carried out next to have reviews of same size."
      ]
    },
    {
      "cell_type": "code",
      "execution_count": 11,
      "metadata": {
        "id": "vT8bQk-wygpj"
      },
      "outputs": [],
      "source": [
        "# Count occurences of each word\n",
        "words_occurences = Counter(all_words) \n",
        "# Sort the words from the most to the least present\n",
        "words_sorted = sorted(words_occurences, key=words_occurences.get, reverse=True) \n",
        "# Build the dictionary that maps words to integers: we keep \"0\" for the padding\n",
        "word_to_integer = {word: integer for integer, word in enumerate(words_sorted, start=1)} \n",
        "\n",
        "\n",
        "## Tokenize each review in reviews_split and store the tokenized reviews in reviews_tokenized\n",
        "reviews_tokenized = []\n",
        "for review in reviews_split:\n",
        "    reviews_tokenized.append([word_to_integer[word] for word in review.split()])\n",
        "    "
      ]
    },
    {
      "cell_type": "code",
      "execution_count": 12,
      "metadata": {
        "colab": {
          "base_uri": "https://localhost:8080/"
        },
        "id": "AyUmIspKygpj",
        "outputId": "bfc1b0ff-8ebe-46ee-9b5a-0499c9491c88"
      },
      "outputs": [
        {
          "output_type": "stream",
          "name": "stdout",
          "text": [
            "Number of unique words:  279087\n",
            "\n",
            "Example of tokenized review: \n",
            " [4, 6, 10, 482, 133, 5, 3545, 58405, 3330, 296, 2, 4644, 206, 6, 44, 7, 1, 206, 3875, 75, 1, 296, 4, 76, 3, 120, 25, 32535, 10600, 3331, 312, 63, 23, 3, 52, 618, 14, 120, 9070, 134, 35816, 33, 19, 74, 144, 20, 1412, 6, 669, 16, 856, 1486, 1782, 6, 10, 537, 7, 625, 375, 7, 4548, 4420, 374, 44, 429, 3742, 16, 146, 1082, 24, 605, 32, 9, 1279, 388, 1840, 553, 255, 2, 62, 85374, 100, 59, 56, 32]\n",
            "\n",
            "The same review before tokenization: \n",
            " i was in las vegas to attend asd trade show and ti hotel was one of the hotel referred by the show  i got a room at 33rd flood facing strip  which had a great view but room smelt bad furnitures as you can see on picture was dirty with dark spots nobody was in charge of taking care of hallways leftover dishes  one ice bucket with few glasses were stayed there for 24 hours  towels looks old and some dirtynnever never go back there\n"
          ]
        }
      ],
      "source": [
        "# Number of unique words\n",
        "print('Number of unique words: ', len((word_to_integer))) \n",
        "print()\n",
        "\n",
        "print('Example of tokenized review: \\n', reviews_tokenized[1])\n",
        "print()\n",
        "\n",
        "print('The same review before tokenization: \\n', reviews_split[1])\n",
        "\n",
        "\n",
        "# We delete useless variables to increase available RAM\n",
        "del all_words\n",
        "del reviews_split\n",
        "del words_occurences\n",
        "del words_sorted"
      ]
    },
    {
      "cell_type": "markdown",
      "metadata": {
        "id": "U_2cO6U3ygpk"
      },
      "source": [
        "## Preparation of the features matrix (containing tokenized customized reviews)\n",
        "\n",
        "We prepare the review matrix, by **standardizing** the lenght of the reviews to **300** words, to make the neuronal network comutations reasonable:\n",
        "\n",
        "- We **remove** the reviews with no text.   XXXX\n",
        "\n",
        "- We  **add zeros** to the reviews that are **too short**.   XXXX\n",
        "\n",
        "- We **truncate** reviews that are **too long**.   XXXX\n"
      ]
    },
    {
      "cell_type": "markdown",
      "metadata": {
        "id": "uNueHCnDygpk"
      },
      "source": [
        "Let us first **check** whether there are **reviews with no text**."
      ]
    },
    {
      "cell_type": "code",
      "execution_count": 13,
      "metadata": {
        "colab": {
          "base_uri": "https://localhost:8080/"
        },
        "id": "A0HBLtHMygpk",
        "outputId": "b4f846ea-0012-46f3-f846-90a91918eab9"
      },
      "outputs": [
        {
          "output_type": "stream",
          "name": "stdout",
          "text": [
            "Number of reviews with no words: 0\n"
          ]
        }
      ],
      "source": [
        "# Size of the reviews\n",
        "reviews_lenghts = [len(x) for x in reviews_tokenized]\n",
        "\n",
        "print(\"Number of reviews with no words: {}\".format(min(reviews_lenghts)))\n"
      ]
    },
    {
      "cell_type": "markdown",
      "metadata": {
        "id": "nKmHOthiygpl"
      },
      "source": [
        "There are **no reviews with no words**.\n",
        "\n",
        "Now, let us check the **maximal, median, and average number of words in a review**."
      ]
    },
    {
      "cell_type": "code",
      "execution_count": 14,
      "metadata": {
        "colab": {
          "base_uri": "https://localhost:8080/"
        },
        "id": "Kf3KIVYSygpl",
        "outputId": "46a23427-04b9-4164-8f59-a893bc160edc"
      },
      "outputs": [
        {
          "output_type": "stream",
          "name": "stdout",
          "text": [
            "Maximal number of words in a review: 1025\n",
            "Median number of words in a review: 99.0\n",
            "Average number of words in a review: 133.38750714285715\n",
            "Average number of words in a review + 2 standard deviations: 374.6552661842528\n"
          ]
        }
      ],
      "source": [
        "print(\"Maximal number of words in a review: {}\".format(max(reviews_lenghts)))\n",
        "print(\"Median number of words in a review: {}\".format(np.median(reviews_lenghts)))\n",
        "print(\"Average number of words in a review: {}\".format(np.mean(reviews_lenghts)))\n",
        "print(\"Average number of words in a review + 2 standard deviations: {}\".format(np.mean(reviews_lenghts) + 2*np.std(reviews_lenghts)))"
      ]
    },
    {
      "cell_type": "markdown",
      "metadata": {
        "id": "84U7I1TQygpl"
      },
      "source": [
        "Based on these statistics, we decide to customize the length of our reviews at **300 words**.\n",
        "\n",
        "Thus, let us **trunctate** reviews that are too long, and **add zeros** to reviews that are too short, to create the **matrix of features** that will be used as **predictor** in our neuronal network."
      ]
    },
    {
      "cell_type": "code",
      "execution_count": 15,
      "metadata": {
        "colab": {
          "base_uri": "https://localhost:8080/"
        },
        "id": "KOQCHzbQygpm",
        "outputId": "fdce8767-325b-4f91-ce1c-33666d74a46b"
      },
      "outputs": [
        {
          "output_type": "stream",
          "name": "stdout",
          "text": [
            "[[  28   11   30 ...    0    0    0]\n",
            " [   4    6   10 ...    0    0    0]\n",
            " [  17   31  633 ...   55   79   72]\n",
            " ...\n",
            " [ 109  259    7 ...    0    0    0]\n",
            " [ 766 2386 3189 ...    0    0    0]\n",
            " [   4  260    5 ...    1  394 3105]]\n"
          ]
        }
      ],
      "source": [
        "# Create the matrix of features, that will be entered in the neuronal network\n",
        "# Its size must be of (number_of_reviews * maximum_number_of_words_per_review)\n",
        "max_words_per_review = 300\n",
        "matrix_features = np.zeros((len(reviews_tokenized), max_words_per_review), dtype=int)\n",
        "\n",
        "# We put the tokenized words in the matrix, for each review (and truncate at the maximum review length)\n",
        "for review_number, words_in_review in enumerate(reviews_tokenized):\n",
        "    matrix_features[review_number, :len(words_in_review)] = np.array(words_in_review)[:max_words_per_review]\n",
        "    \n",
        "# We look at the last columns of the matrix of features (tokenized and standardized reviews), to check if all is OK\n",
        "print(matrix_features[:, :])\n",
        "    "
      ]
    },
    {
      "cell_type": "markdown",
      "metadata": {
        "id": "zThyT6Xcygpn"
      },
      "source": [
        "## Transforming stars into \"good\", \"neutral\", and \"bad\" reviews\n",
        "\n",
        "We decide to group **4 and 5 stars** reviews as **\"good\"**, **3 stars** as **\"neutral\"**, and **1 and 2 stars** as **\"bad\"**.\n",
        "\n",
        "In the following, we will try to **predict** if a review is good, neutral or bad."
      ]
    },
    {
      "cell_type": "code",
      "execution_count": 17,
      "metadata": {
        "id": "7h5QDdfCygpo"
      },
      "outputs": [],
      "source": [
        "# 5 or 4 stars => \"good\"\n",
        "good = [1 if (star == 4 or star ==3) else 0 for star in stars]\n",
        "# 3 stars => \"neutral\"\n",
        "neutral = [1 if (star == 2) else 0 for star in stars]\n",
        "# 2 or 1 star => \"bad\"\n",
        "bad = [1 if (star == 1 or star ==0) else 0 for star in stars]\n",
        "\n",
        "# 3 variables put together in a matrix\n",
        "goodness = np.array([good, neutral, bad], dtype=int)\n",
        "goodness = goodness.T"
      ]
    },
    {
      "cell_type": "markdown",
      "metadata": {
        "id": "2Vln_SA2ygpo"
      },
      "source": [
        "## Preparation of the training, test, and validation datasets\n",
        "\n",
        "We now divide our prepared data into the **training set** (**80% of the data**), the **test set** (**10% of the data**), and the **validation set** (**10% of the data**)."
      ]
    },
    {
      "cell_type": "code",
      "execution_count": 18,
      "metadata": {
        "colab": {
          "base_uri": "https://localhost:8080/"
        },
        "id": "VSv0SXpmygpo",
        "outputId": "04f79539-e81e-4e5e-96bf-6cb6e499d3ee"
      },
      "outputs": [
        {
          "output_type": "stream",
          "name": "stdout",
          "text": [
            "\t\t\tFeature Shapes:\n",
            "Train set: \t\t(112000, 300) \n",
            "Validation set: \t(14000, 300) \n",
            "Test set: \t\t(14000, 300)\n"
          ]
        }
      ],
      "source": [
        "train_prop = 0.8\n",
        "valid_prop = 0.1\n",
        "test_prop = 1 - (train_prop+valid_prop)\n",
        "\n",
        "train_len = int(len(reviews_tokenized)*train_prop)\n",
        "valid_len = int(len(reviews_tokenized)*valid_prop)\n",
        "\n",
        "train_reviews, valid_reviews, test_reviews = matrix_features[:train_len], matrix_features[train_len:train_len+valid_len], matrix_features[train_len+valid_len:]\n",
        "train_goodness, valid_goodness, test_goodness = goodness[:train_len], goodness[train_len:train_len+valid_len], goodness[train_len+valid_len:]\n",
        "\n",
        "## We check the number of reviews in each dataset\n",
        "print(\"\\t\\t\\tFeature Shapes:\")\n",
        "print(\"Train set: \\t\\t{}\".format(train_reviews.shape), \n",
        "      \"\\nValidation set: \\t{}\".format(valid_reviews.shape),\n",
        "      \"\\nTest set: \\t\\t{}\".format(test_reviews.shape))"
      ]
    },
    {
      "cell_type": "markdown",
      "metadata": {
        "id": "JH8PRLRpygpp"
      },
      "source": [
        "## Format the data for PyTorch\n",
        "\n",
        "We prepare the data to make it readable for our PyTorch Neuronal Network."
      ]
    },
    {
      "cell_type": "code",
      "execution_count": 19,
      "metadata": {
        "colab": {
          "base_uri": "https://localhost:8080/"
        },
        "id": "eGBbMLbBygpp",
        "outputId": "86b1cecf-5ae3-4787-f11e-ce26d76444d9"
      },
      "outputs": [
        {
          "output_type": "stream",
          "name": "stdout",
          "text": [
            "Reviews batch size (number of reviews in batch, words per review):  torch.Size([50, 300])\n",
            "Example reviews batch: \n",
            " tensor([[    28,     33,    124,  ...,      0,      0,      0],\n",
            "        [   482,    133,     11,  ...,      0,      0,      0],\n",
            "        [     1, 208037,    217,  ...,      0,      0,      0],\n",
            "        ...,\n",
            "        [    18,     27,    314,  ...,      0,      0,      0],\n",
            "        [114612,    121,     93,  ...,      0,      0,      0],\n",
            "        [    13,    280,      2,  ...,      0,      0,      0]])\n",
            "\n",
            "Goodness batch size (number of goodness labels per batch):  torch.Size([50, 3])\n",
            "Example goodness batch: \n",
            " tensor([[0, 0, 1],\n",
            "        [0, 0, 1],\n",
            "        [1, 0, 0],\n",
            "        [1, 0, 0],\n",
            "        [0, 0, 1],\n",
            "        [1, 0, 0],\n",
            "        [0, 0, 1],\n",
            "        [1, 0, 0],\n",
            "        [0, 0, 1],\n",
            "        [0, 1, 0],\n",
            "        [0, 1, 0],\n",
            "        [0, 0, 1],\n",
            "        [0, 1, 0],\n",
            "        [0, 0, 1],\n",
            "        [0, 0, 1],\n",
            "        [0, 1, 0],\n",
            "        [0, 0, 1],\n",
            "        [1, 0, 0],\n",
            "        [0, 0, 1],\n",
            "        [0, 1, 0],\n",
            "        [0, 1, 0],\n",
            "        [0, 1, 0],\n",
            "        [0, 1, 0],\n",
            "        [1, 0, 0],\n",
            "        [0, 1, 0],\n",
            "        [0, 1, 0],\n",
            "        [0, 0, 1],\n",
            "        [0, 0, 1],\n",
            "        [0, 0, 1],\n",
            "        [1, 0, 0],\n",
            "        [0, 0, 1],\n",
            "        [0, 1, 0],\n",
            "        [1, 0, 0],\n",
            "        [1, 0, 0],\n",
            "        [0, 1, 0],\n",
            "        [0, 1, 0],\n",
            "        [1, 0, 0],\n",
            "        [0, 0, 1],\n",
            "        [0, 1, 0],\n",
            "        [1, 0, 0],\n",
            "        [1, 0, 0],\n",
            "        [0, 1, 0],\n",
            "        [0, 1, 0],\n",
            "        [0, 0, 1],\n",
            "        [0, 1, 0],\n",
            "        [1, 0, 0],\n",
            "        [0, 1, 0],\n",
            "        [0, 0, 1],\n",
            "        [0, 0, 1],\n",
            "        [0, 0, 1]])\n"
          ]
        }
      ],
      "source": [
        "from torch.utils.data import TensorDataset, DataLoader\n",
        "\n",
        "# Build Tensor datasets\n",
        "train_data = TensorDataset(torch.from_numpy(train_reviews), torch.from_numpy(train_goodness))\n",
        "valid_data = TensorDataset(torch.from_numpy(valid_reviews), torch.from_numpy(valid_goodness))\n",
        "test_data = TensorDataset(torch.from_numpy(test_reviews), torch.from_numpy(test_goodness))\n",
        "\n",
        "# Define batch size\n",
        "batch_size = 50\n",
        "\n",
        "# Build the batches: we use drop_last to avoid size issues with last batch\n",
        "train_loader = DataLoader(train_data, shuffle=True, batch_size=batch_size, drop_last=True)\n",
        "valid_loader = DataLoader(valid_data, shuffle=True, batch_size=batch_size, drop_last=True)\n",
        "test_loader = DataLoader(test_data, shuffle=True, batch_size=batch_size, drop_last=True)\n",
        "\n",
        "\n",
        "# Check one batch of the training set to see if all OK\n",
        "train_iter = iter(train_loader)\n",
        "example_reviews, example_goodness = train_iter.next()\n",
        "\n",
        "print('Reviews batch size (number of reviews in batch, words per review): ', example_reviews.size()) \n",
        "print('Example reviews batch: \\n', example_reviews)\n",
        "print()\n",
        "print('Goodness batch size (number of goodness labels per batch): ', example_goodness.size()) \n",
        "print('Example goodness batch: \\n', example_goodness)"
      ]
    },
    {
      "cell_type": "markdown",
      "metadata": {
        "id": "Rg8Tkp3kygpp"
      },
      "source": [
        "# Building the Neuronal Network: Embedding and LSTM\n",
        "\n",
        "We now build the neuronal network *per se*. Our network is **composed of 2 layers**:\n",
        "\n",
        "- First, an **Embedding layer** that permits to have a less heavy representation of the reviews than the **hundreds of thousands of one-hot encoded words**: it is useful to **improve** the training **efficiency**. We use for this the [PyTorch Embedding](https://pytorch.org/docs/stable/generated/torch.nn.Embedding.html) function.\n",
        "\n",
        "- Second, an **LSTM layer** (Long Short-Term Memory). [LSTM](https://pubmed.ncbi.nlm.nih.gov/9377276/) permits to avoid the issue of **vanishing gradients** that occurs with basic RNNs. We use here the [PyTorch LSTM](https://pytorch.org/docs/stable/generated/torch.nn.LSTM.html?highlight=lstm#torch.nn.LSTM) function.\n",
        "\n",
        "\n",
        "\n",
        "**Note for the LSTM:** There are two different ways to **initialize the hidden and cell state** when switching from one batch to another: in the **stateful mode**, the final states of the previous batch are set as the initial state in the next batch, while in **stateless mode**, the next batch states are initialized with zeros.\n",
        "<br/> $\\rightarrow$ **We want our RNN to be stateless**, so it can build its hidden and cell states independently in each batch.\n",
        "\n",
        "\n"
      ]
    },
    {
      "cell_type": "code",
      "execution_count": 20,
      "metadata": {
        "id": "_5wTb9Pmygpq"
      },
      "outputs": [],
      "source": [
        "# To check whether GPU is available\n",
        "train_on_gpu=torch.cuda.is_available()\n",
        "\n",
        "class SentimentAnalysisRNN(nn.Module):\n",
        "    \"\"\" \n",
        "    Recurrent Neuronal Networrk composed of an Embedding layer and an LSTM layer.\n",
        "    Args:\n",
        "        vocabulary_size (_int_): Number of features in the input of the Embedding layer: it is total number of words in the vocabulary + 1 (the \"+1\" is for the \"zeros\").\n",
        "        output_size (_int_): Desired size of the final output of the SentimentAnalysisRNN.\n",
        "        embedding_dim (_int_): Size of each embedding vector.\n",
        "        lstm_hidden_size (_int_): Number of features in the hidden state of the LSTM.\n",
        "        lstm_n_layers (_int_): Number of layers in the LSTM.\n",
        "        dropout (_float_): The dropout probability used in the LSTM to reduce overfitting. (introduces a Dropout layer on the outputs of each LSTM layer except the last layer)\n",
        "        dropout_last_layer (_float_): The dropout probability used in the LSTM last layer.\n",
        "    \"\"\"\n",
        "    \n",
        "    def __init__(self, vocabulary_size, output_size, embedding_dim, lstm_hidden_size, lstm_n_layers, dropout=0.5, dropout_last_layer=0.5):\n",
        "        \"\"\"\n",
        "        Initialization.\n",
        "        \"\"\"\n",
        "        super(SentimentAnalysisRNN, self).__init__()\n",
        "        self.output_size = output_size\n",
        "        self.lstm_hidden_size = lstm_hidden_size\n",
        "        self.lstm_n_layers = lstm_n_layers\n",
        "        # Embedding layer\n",
        "        self.embedding = nn.Embedding(num_embeddings = vocabulary_size, \n",
        "                                      embedding_dim = embedding_dim)\n",
        "        # LSTM layer\n",
        "        self.lstm = nn.LSTM(input_size = embedding_dim, \n",
        "                            hidden_size = lstm_hidden_size, \n",
        "                            num_layers = lstm_n_layers, \n",
        "                            dropout = dropout, \n",
        "                            batch_first=True)    # So input and output tensors are provided as (batch, seq, feature) instead of (seq, batch, feature).\n",
        "        # Dropout for LSTM last layer\n",
        "        self.dropout_last_layer = nn.Dropout(p = dropout_last_layer)\n",
        "        # Linear and Softmax layers\n",
        "        self.fc = nn.Linear(lstm_hidden_size, output_size)\n",
        "        self.softmax = nn.Softmax()\n",
        "        \n",
        "        \n",
        "    def forward(self, x, hidden_and_cell):\n",
        "        \"\"\" \n",
        "        Forward step\n",
        "        Args:\n",
        "            x (_tensor_): batch of inputs used in the forward step\n",
        "            hidden_and_cell (_tensor_): hidden and cell states used in the forward step (see init_hidden_statefull() for more details)\n",
        "        \"\"\"\n",
        "        batch_size = x.size(0)\n",
        "        # Embedding and LSTM layers\n",
        "        x = x.long() \n",
        "        embedded_x = self.embedding(x)\n",
        "        lstm_output, hidden = self.lstm(embedded_x, hidden_and_cell)\n",
        "        lstm_output = lstm_output[:, -1, :] # To take the last time step output\n",
        "        lstm_output = self.dropout_last_layer(lstm_output)\n",
        "        # Linear and Softmax layers\n",
        "        linear_output = self.fc(lstm_output)\n",
        "        # sigmoid function\n",
        "        output = self.softmax(linear_output)\n",
        "        # return last sigmoid output and hidden state\n",
        "        return output, hidden_and_cell\n",
        "    \n",
        "    \n",
        "    def init_hidden_cell_stateless(self, batch_size):\n",
        "        \"\"\"\n",
        "        Initialization of the hidden and cell states: the hidden and cell states are initialized at 0 for \n",
        "        each batch (\"stateless mode\").\n",
        "        (Not like in the \"stateful mode\", where the hidden state is memorized from one batch to another.)\n",
        "\n",
        "        Args:\n",
        "            batch_size (_int_): size of a batch\n",
        "        \"\"\"\n",
        "        # The zeros tensors for the hidden state and cell state of LSTM must be \n",
        "        # of dimension lstm_n_layers x batch_size x hidden_dim.\n",
        "        \n",
        "        # To get this dimension, we first get an item of the parameters \n",
        "        # (the hidden state parameters) of the model \"self\" (the LSTM model).\n",
        "        weight = next(self.parameters()).data\n",
        "        \n",
        "        # Then, we create a zeros tensor that has the same dimension as this item (thus,\n",
        "        # the same dimension as the hidden and cell states).\n",
        "        if (train_on_gpu):\n",
        "            hidden_and_cell = (weight.new(self.lstm_n_layers, batch_size, self.lstm_hidden_size).zero_().cuda(),\n",
        "                               weight.new(self.lstm_n_layers, batch_size, self.lstm_hidden_size).zero_().cuda())\n",
        "        else:\n",
        "            hidden_and_cell = (weight.new(self.lstm_n_layers, batch_size, self.lstm_hidden_size).zero_(),\n",
        "                               weight.new(self.lstm_n_layers, batch_size, self.lstm_hidden_size).zero_())\n",
        "        return hidden_and_cell"
      ]
    },
    {
      "cell_type": "markdown",
      "metadata": {
        "id": "rWqENR_uygpq"
      },
      "source": [
        "We set the **hyperparameters** and create the model."
      ]
    },
    {
      "cell_type": "code",
      "execution_count": 21,
      "metadata": {
        "colab": {
          "base_uri": "https://localhost:8080/"
        },
        "id": "ciZm0OP4ygpq",
        "outputId": "79e798e7-c120-4490-fcaf-9ecb0047cd1c"
      },
      "outputs": [
        {
          "output_type": "stream",
          "name": "stdout",
          "text": [
            "SentimentAnalysisRNN(\n",
            "  (embedding): Embedding(279088, 400)\n",
            "  (lstm): LSTM(400, 256, num_layers=2, batch_first=True, dropout=0.5)\n",
            "  (dropout_last_layer): Dropout(p=0.5, inplace=False)\n",
            "  (fc): Linear(in_features=256, out_features=3, bias=True)\n",
            "  (softmax): Softmax(dim=None)\n",
            ")\n"
          ]
        }
      ],
      "source": [
        "# Instantiate the model w/ hyperparams\n",
        "vocabulary_size = len(word_to_integer) + 1 # \"+1\" for the zeros, as mentioned earlier\n",
        "output_size = 3\n",
        "embedding_dim = 400\n",
        "lstm_hidden_size = 256\n",
        "lstm_n_layers = 2\n",
        "\n",
        "sentimentNet = SentimentAnalysisRNN(vocabulary_size, output_size, embedding_dim, lstm_hidden_size, lstm_n_layers)\n",
        "\n",
        "print(sentimentNet)"
      ]
    },
    {
      "cell_type": "markdown",
      "metadata": {
        "id": "HsbSKDHRygpr"
      },
      "source": [
        "# Training the model\n",
        "\n",
        "We now train our Neuronal Network, with the training and validation datasets.\n",
        "\n",
        "Let us first set some parameters for the **optimization**."
      ]
    },
    {
      "cell_type": "code",
      "execution_count": 22,
      "metadata": {
        "id": "XebWDfa3ygpr"
      },
      "outputs": [],
      "source": [
        "# Learning rate\n",
        "lr=0.001\n",
        "\n",
        "# Loss criterion : we use the Negative Log-Likelihood Loss function (NLL) as we have a softmax function as an output activation layer. \n",
        "criterion = nn.CrossEntropyLoss()\n",
        "optimizer = torch.optim.Adam(sentimentNet.parameters(), lr=lr)\n",
        "\n",
        "# We use GPU if it's available, and the CPU otherwise\n",
        "device = torch.device(\"cuda\" if torch.cuda.is_available() else \"cpu\")\n",
        "sentimentNet.to(device);"
      ]
    },
    {
      "cell_type": "markdown",
      "metadata": {
        "id": "62KJowR9ygpr"
      },
      "source": [
        "We use **gradient clipping** (error derivative is changed to a threshold during backward propagation, and thenused to update the weights) to decrease the likelihood of exploding or vanishing gradients."
      ]
    },
    {
      "cell_type": "code",
      "execution_count": 23,
      "metadata": {
        "id": "8aqwZcziygpr"
      },
      "outputs": [],
      "source": [
        "# gradient clipping\n",
        "clip=5"
      ]
    },
    {
      "cell_type": "markdown",
      "source": [
        ""
      ],
      "metadata": {
        "id": "4_b00rSLfp1_"
      }
    },
    {
      "cell_type": "markdown",
      "metadata": {
        "id": "PlByhHXvygps"
      },
      "source": [
        "And now, we carry out the **training** and **validation** steps.\n",
        "\n",
        "Let us note that the **validation accuracy is higher than the training accuracy**: this is **due to the dropout used in the training**. \n",
        "Indeed, when training, a percentage of the features are set to zero (*100p*% whith a Dropout(*p*)).\n",
        "When testing, all features are used, so the model at test time can lead to higher testing accuracies.\n"
      ]
    },
    {
      "cell_type": "code",
      "execution_count": 24,
      "metadata": {
        "colab": {
          "base_uri": "https://localhost:8080/"
        },
        "id": "bI032LBwygps",
        "outputId": "a95a6b04-90ba-477a-90be-9d0398804f4f"
      },
      "outputs": [
        {
          "output_type": "stream",
          "name": "stderr",
          "text": [
            "/usr/local/lib/python3.7/dist-packages/ipykernel_launcher.py:58: UserWarning: Implicit dimension choice for softmax has been deprecated. Change the call to include dim=X as an argument.\n"
          ]
        },
        {
          "output_type": "stream",
          "name": "stdout",
          "text": [
            "Epoch: 1 \tTraining Loss: 0.958110 \tTraining Accuracy: 0.576937 \tValidation Loss: 0.757022 \tValidation Accuracy: 0.835643\n",
            "Validation loss decreased (inf --> 0.757022).  Saving model ...\n",
            "Epoch: 2 \tTraining Loss: 0.864230 \tTraining Accuracy: 0.672643 \tValidation Loss: 0.868435 \tValidation Accuracy: 0.654286\n",
            "Epoch: 3 \tTraining Loss: 0.825464 \tTraining Accuracy: 0.715759 \tValidation Loss: 0.773693 \tValidation Accuracy: 0.761000\n",
            "Epoch: 4 \tTraining Loss: 0.800682 \tTraining Accuracy: 0.744277 \tValidation Loss: 0.734814 \tValidation Accuracy: 0.805000\n",
            "Validation loss decreased (0.757022 --> 0.734814).  Saving model ...\n"
          ]
        }
      ],
      "source": [
        "# Number of epochs used to train the model\n",
        "n_epochs = 4\n",
        "\n",
        "# Variables to keep track of the change in validation loss, to save the best model\n",
        "valid_loss_min = np.Inf \n",
        "best_accuracy = 0.0\n",
        "\n",
        "# Variables to keep the accuracies calculated at each epoch in order to plot them later\n",
        "epoch_all = []  \n",
        "valid_epoch_acc_all = []\n",
        "train_epoch_acc_all = []\n",
        "\n",
        "for epoch in range(1, n_epochs+1):\n",
        "    \n",
        "    # Initialize hidden and cell states\n",
        "    hidden_and_cell = sentimentNet.init_hidden_cell_stateless(batch_size)\n",
        "\n",
        "    # To keep track of training and validation loss and accuracy\n",
        "    train_loss = 0.0\n",
        "    valid_loss = 0.0\n",
        "    valid_running_corrects = 0\n",
        "    train_running_corrects = 0\n",
        "    \n",
        "    ###################\n",
        "    # Train the model #\n",
        "    ###################\n",
        "    sentimentNet.train()\n",
        "    for reviews, goodness in train_loader:\n",
        "        # Move tensors to GPU if CUDA is available\n",
        "        reviews, goodness = reviews.to(device), goodness.to(device)\n",
        "        # Create new variables for the hidden and cell states, otherwise\n",
        "        # would backpropagate through the entire training history\n",
        "        hidden_and_cell = tuple([variable.data for variable in hidden_and_cell])\n",
        "        # Clear the gradients of all optimized variables\n",
        "        optimizer.zero_grad()\n",
        "        # Forward pass: compute predicted outputs by passing images to the model\n",
        "        output, hidden_and_cell = sentimentNet.forward(reviews, hidden_and_cell)\n",
        "        # Calculate the batch loss\n",
        "        loss = criterion(output.squeeze(), goodness.squeeze().float())\n",
        "        # Backward pass: compute gradient of the loss with respect to model parameters\n",
        "        loss.backward()\n",
        "        # clip_grad_norm helps prevent the exploding gradient problem in RNNs / LSTMs.\n",
        "        nn.utils.clip_grad_norm_(sentimentNet.parameters(), clip)\n",
        "        # Perform a single optimization step (parameter update)\n",
        "        optimizer.step()\n",
        "        # Update training loss\n",
        "        train_loss += loss.item()*reviews.size(0)\n",
        "        # To calculate the training set accuracy later: \n",
        "        # take as prediction the label with highest output (highest probability)\n",
        "        pred = F.one_hot(output.argmax(1), num_classes=3)\n",
        "        # Total number of correct predictions (we divide by 3 as there are 3 dimensions)\n",
        "        train_running_corrects += torch.sum((pred==goodness).all(dim=1))\n",
        "        \n",
        "    ######################    \n",
        "    # Validate the model #\n",
        "    ######################\n",
        "    \n",
        "    # Initialize hidden and cell states for validation steps\n",
        "    hidden_and_cell = sentimentNet.init_hidden_cell_stateless(batch_size)\n",
        "    \n",
        "    # We eval() our model to deactivate the dropout layers and directly pass all activations\n",
        "    sentimentNet.eval()\n",
        "    for reviews, goodness in valid_loader:\n",
        "        # Move tensors to GPU if CUDA is available\n",
        "        reviews, goodness = reviews.to(device), goodness.to(device)\n",
        "        # Create new variables for the hidden and cell states, otherwise\n",
        "        # would backpropagate through the entire training history\n",
        "        hidden_and_cell = tuple([variable.data for variable in hidden_and_cell])\n",
        "        # Forward pass: compute predicted outputs by passing images to the model\n",
        "        output, hidden_and_cell = sentimentNet.forward(reviews, hidden_and_cell)\n",
        "        # Calculate the batch loss\n",
        "        loss = criterion(output.squeeze(), goodness.squeeze().float())\n",
        "        # Update average validation loss \n",
        "        valid_loss += loss.item()*reviews.size(0)\n",
        "        # To calculate the validation accuracy later: \n",
        "        # take as prediction the label with highest output (highest probability)\n",
        "        pred = F.one_hot(output.argmax(1), num_classes=3)\n",
        "        # Total number of correct predictions\n",
        "        valid_running_corrects += torch.sum((pred==goodness).all(dim=1))\n",
        "    \n",
        "    # Calculate average losses\n",
        "    train_loss = train_loss/len(train_loader.sampler)\n",
        "    valid_loss = valid_loss/len(valid_loader.sampler)\n",
        "    \n",
        "    # Calculate accuracy\n",
        "    train_epoch_acc = train_running_corrects.double() / len(train_loader.sampler)\n",
        "    valid_epoch_acc = valid_running_corrects.double() / len(valid_loader.sampler)\n",
        "        \n",
        "    # Print training/validation statistics \n",
        "    print('Epoch: {} \\tTraining Loss: {:.6f} \\tTraining Accuracy: {:.6f} \\tValidation Loss: {:.6f} \\tValidation Accuracy: {:.6f}'.format(\n",
        "        epoch, train_loss, train_epoch_acc, valid_loss,valid_epoch_acc))\n",
        "    \n",
        "    # Save model if validation loss has decreased\n",
        "    if valid_loss <= valid_loss_min:\n",
        "        print('Validation loss decreased ({:.6f} --> {:.6f}).  Saving model ...'.format(\n",
        "        valid_loss_min,\n",
        "        valid_loss))\n",
        "        torch.save(sentimentNet.state_dict(), 'sentimentNet_yelp.pt')\n",
        "        valid_loss_min = valid_loss\n",
        "\n",
        "    # We keep the accuracies at each epoch, to plot them later, and transfer them to the cpu\n",
        "    # in order to convert the values into a numpy array and plot them\n",
        "    epoch_all.append(epoch)    \n",
        "    valid_epoch_acc_all.append(valid_epoch_acc.cpu())\n",
        "    train_epoch_acc_all.append(train_epoch_acc.cpu())\n",
        "    "
      ]
    },
    {
      "cell_type": "code",
      "source": [
        "plt.plot(epoch_all, valid_epoch_acc_all, label=\"validation accuracy\", color=\"red\", linestyle='-.')\n",
        "#plt.plot(epoch_all, train_epoch_acc_all, label=\"training accuracy\", color=\"blue\",linestyle='-.')\n",
        "plt.title(\"Sentiment Analysis model on the YelpReviewFull dataset: accuracy per epoch\")\n",
        "plt.legend()\n",
        "plt.tight_layout()\n",
        "plt.show()"
      ],
      "metadata": {
        "colab": {
          "base_uri": "https://localhost:8080/",
          "height": 297
        },
        "id": "QLer1FHtalT8",
        "outputId": "135658d5-8ddd-4301-8ea0-f5de87d247bc"
      },
      "execution_count": 25,
      "outputs": [
        {
          "output_type": "display_data",
          "data": {
            "text/plain": [
              "<Figure size 432x288 with 1 Axes>"
            ],
            "image/png": "[encoded data removed]"
          },
          "metadata": {
            "needs_background": "light"
          }
        }
      ]
    },
    {
      "cell_type": "markdown",
      "source": [
        "# First test of the model\n",
        "\n",
        "We now **test** our model with the test dataset, that has not been used during the model training."
      ],
      "metadata": {
        "id": "v8ireRzSiZWV"
      }
    },
    {
      "cell_type": "code",
      "source": [
        "# We test our best model (the one with the lowest validation loss)\n",
        "sentimentNet.load_state_dict(torch.load('sentimentNet_yelp.pt'))\n",
        "\n",
        "\n",
        "# To keep track of test loss and accuracy\n",
        "test_loss = 0.0\n",
        "test_running_corrects = 0\n",
        "\n",
        "# Initialize hidden and cell states for the test step\n",
        "hidden_and_cell = sentimentNet.init_hidden_cell_stateless(batch_size)\n",
        "\n",
        "# We eval() our model to deactivate the dropout layers and directly pass all activations\n",
        "sentimentNet.eval()\n",
        "for reviews, goodness in test_loader:\n",
        "    # Move tensors to GPU if CUDA is available\n",
        "    reviews, goodness = reviews.to(device), goodness.to(device)\n",
        "    # Create new variables for the hidden and cell states, otherwise\n",
        "    # would backpropagate through the entire training history\n",
        "    hidden_and_cell = tuple([variable.data for variable in hidden_and_cell])\n",
        "    # Forward pass: compute predicted outputs by passing images to the model\n",
        "    output, hidden_and_cell = sentimentNet.forward(reviews, hidden_and_cell)\n",
        "    # Calculate the batch loss\n",
        "    loss = criterion(output.squeeze(), goodness.squeeze().float())\n",
        "    # Update average validation loss \n",
        "    test_loss += loss.item()*reviews.size(0)\n",
        "    # To calculate the validation accuracy later: \n",
        "    # take as prediction the label with highest output (highest probability)\n",
        "    pred = F.one_hot(output.argmax(1), num_classes=3)\n",
        "    # Total number of correct predictions\n",
        "    test_running_corrects += torch.sum((pred==goodness).all(dim=1))\n",
        "\n",
        "# calculate average loss\n",
        "test_loss = test_loss/len(test_loader.sampler)\n",
        "    \n",
        "# claculate accuracy\n",
        "test_epoch_acc = test_running_corrects.double() / len(test_loader.sampler)\n",
        "        \n",
        "# print training/validation statistics \n",
        "print('\\tTest Loss: {:.6f} \\tTest Accuracy: {:.6f}'.format(\n",
        "    test_loss,test_epoch_acc))\n"
      ],
      "metadata": {
        "colab": {
          "base_uri": "https://localhost:8080/"
        },
        "id": "X5MUJfUSamUh",
        "outputId": "3dcc20e4-eb32-470e-df9f-db8bab6ec66f"
      },
      "execution_count": 26,
      "outputs": [
        {
          "output_type": "stream",
          "name": "stderr",
          "text": [
            "/usr/local/lib/python3.7/dist-packages/ipykernel_launcher.py:58: UserWarning: Implicit dimension choice for softmax has been deprecated. Change the call to include dim=X as an argument.\n"
          ]
        },
        {
          "output_type": "stream",
          "name": "stdout",
          "text": [
            "\tTest Loss: 0.733083 \tTest Accuracy: 0.806000\n"
          ]
        }
      ]
    },
    {
      "cell_type": "markdown",
      "source": [
        "We finally get a **83%** test accuracy with our model !"
      ],
      "metadata": {
        "id": "4L1YAbKgi6kW"
      }
    },
    {
      "cell_type": "markdown",
      "source": [
        "# Second test of the model\n",
        "\n",
        "We now **test** our model **on two personal comments** (one **positive** and one **negative**) that we write on our own."
      ],
      "metadata": {
        "id": "i2JanrfSi87-"
      }
    },
    {
      "cell_type": "code",
      "source": [
        "# positive personal review\n",
        "personal_review_positive = \"This coding experiment was very nice: I enjoyed a lot all the steps. You can do so many things with mathematics. This motivates me a lot for future projects.\"\n",
        "\n",
        "# negative personal review\n",
        "personal_review_negative = \"I did not enjoy at all the weather today. It was rainy and very cold, while I like when it's sunny and hot. It really ruined my visit. In addition, the museums were closed. So I had basically nothing to do.\"\n"
      ],
      "metadata": {
        "id": "_xtdIlNbakTp"
      },
      "execution_count": 77,
      "outputs": []
    },
    {
      "cell_type": "markdown",
      "source": [
        "We tokenize our two personal reviews."
      ],
      "metadata": {
        "id": "E0ZL3QcSnDLL"
      }
    },
    {
      "cell_type": "code",
      "source": [
        "reviews = [personal_review_positive, personal_review_negative]\n",
        "\n",
        "# Remove punctuation and upper cases\n",
        "all_reviews = ' new_review_xyz '.join([review.translate(str.maketrans('', '', punctuation)) for review in reviews]) \n",
        "all_reviews = all_reviews.lower()\n",
        "\n",
        "# Split again the different reviews\n",
        "reviews_split = all_reviews.split(' new_review_xyz ')\n",
        "all_reviews = ' '.join(reviews_split)\n",
        "\n",
        "# Create a list containing all the words\n",
        "all_words = all_reviews.split()\n",
        "\n",
        "# We delete useless variables to increase available RAM\n",
        "del all_reviews\n",
        "\n",
        "# Check if all is OK with one review\n",
        "print(reviews_split[0])\n"
      ],
      "metadata": {
        "colab": {
          "base_uri": "https://localhost:8080/"
        },
        "id": "TMwbSPNjX-RU",
        "outputId": "c82db30f-8929-46d3-f43f-a343eb0b1c85"
      },
      "execution_count": 78,
      "outputs": [
        {
          "output_type": "stream",
          "name": "stdout",
          "text": [
            "this coding experiment was very nice i enjoyed a lot all the steps you can do so many things with mathematics this motivates me a lot for future projects\n"
          ]
        }
      ]
    },
    {
      "cell_type": "code",
      "source": [
        "# Count occurences of each word\n",
        "words_occurences = Counter(all_words) \n",
        "# Sort the words from the most to the least present\n",
        "words_sorted = sorted(words_occurences, key=words_occurences.get, reverse=True) \n",
        "# Build the dictionary that maps words to integers: we keep \"0\" for the padding\n",
        "word_to_integer = {word: integer for integer, word in enumerate(words_sorted, start=1)} \n",
        "\n",
        "\n",
        "## Tokenize each review in reviews_split and store the tokenized reviews in reviews_tokenized\n",
        "reviews_tokenized = []\n",
        "for review in reviews_split:\n",
        "    reviews_tokenized.append([word_to_integer[word] for word in review.split()])\n",
        "    "
      ],
      "metadata": {
        "id": "GprcUkKiZntS"
      },
      "execution_count": 79,
      "outputs": []
    },
    {
      "cell_type": "markdown",
      "source": [
        "We create the matrix of features: it has two rows given that we have only two personal reviews."
      ],
      "metadata": {
        "id": "ZYWdJhmuQzAf"
      }
    },
    {
      "cell_type": "code",
      "source": [
        "# Create the matrix of features, that will be entered in the neuronal network\n",
        "# Its size must be of (number_of_reviews * maximum_number_of_words_per_review)\n",
        "max_words_per_review = 300\n",
        "matrix_features = np.zeros((len(reviews_tokenized), max_words_per_review), dtype=int)\n",
        "\n",
        "# We put the tokenized words in the matrix, for each review (and truncate at the maximum review length)\n",
        "for review_number, words_in_review in enumerate(reviews_tokenized):\n",
        "    matrix_features[review_number, :len(words_in_review)] = np.array(words_in_review)[:max_words_per_review]\n",
        "    \n",
        "# We look at the last columns of the matrix of features (tokenized and standardized reviews), to check if all is OK\n",
        "print(matrix_features[:, :])\n"
      ],
      "metadata": {
        "colab": {
          "base_uri": "https://localhost:8080/"
        },
        "id": "sND8bV5QXj8L",
        "outputId": "d3ddb8b5-a0a7-4a4c-f42e-eeb34be7478f"
      },
      "execution_count": 80,
      "outputs": [
        {
          "output_type": "stream",
          "name": "stdout",
          "text": [
            "[[ 3 13 14  4  5 15  1 16  6  7  8  2 17 18 19  9 10 20 21 22 23  3 24 25\n",
            "   6  7 26 27 28  0  0  0  0  0  0  0  0  0  0  0  0  0  0  0  0  0  0  0\n",
            "   0  0  0  0  0  0  0  0  0  0  0  0  0  0  0  0  0  0  0  0  0  0  0  0\n",
            "   0  0  0  0  0  0  0  0  0  0  0  0  0  0  0  0  0  0  0  0  0  0  0  0\n",
            "   0  0  0  0  0  0  0  0  0  0  0  0  0  0  0  0  0  0  0  0  0  0  0  0\n",
            "   0  0  0  0  0  0  0  0  0  0  0  0  0  0  0  0  0  0  0  0  0  0  0  0\n",
            "   0  0  0  0  0  0  0  0  0  0  0  0  0  0  0  0  0  0  0  0  0  0  0  0\n",
            "   0  0  0  0  0  0  0  0  0  0  0  0  0  0  0  0  0  0  0  0  0  0  0  0\n",
            "   0  0  0  0  0  0  0  0  0  0  0  0  0  0  0  0  0  0  0  0  0  0  0  0\n",
            "   0  0  0  0  0  0  0  0  0  0  0  0  0  0  0  0  0  0  0  0  0  0  0  0\n",
            "   0  0  0  0  0  0  0  0  0  0  0  0  0  0  0  0  0  0  0  0  0  0  0  0\n",
            "   0  0  0  0  0  0  0  0  0  0  0  0  0  0  0  0  0  0  0  0  0  0  0  0\n",
            "   0  0  0  0  0  0  0  0  0  0  0  0]\n",
            " [ 1 29 30 31 32  8  2 33 34 11  4 35 12  5 36 37  1 38 39 40 41 12 42 11\n",
            "  43 44 45 46 47 48  2 49 50 51 10  1 52 53 54 55  9  0  0  0  0  0  0  0\n",
            "   0  0  0  0  0  0  0  0  0  0  0  0  0  0  0  0  0  0  0  0  0  0  0  0\n",
            "   0  0  0  0  0  0  0  0  0  0  0  0  0  0  0  0  0  0  0  0  0  0  0  0\n",
            "   0  0  0  0  0  0  0  0  0  0  0  0  0  0  0  0  0  0  0  0  0  0  0  0\n",
            "   0  0  0  0  0  0  0  0  0  0  0  0  0  0  0  0  0  0  0  0  0  0  0  0\n",
            "   0  0  0  0  0  0  0  0  0  0  0  0  0  0  0  0  0  0  0  0  0  0  0  0\n",
            "   0  0  0  0  0  0  0  0  0  0  0  0  0  0  0  0  0  0  0  0  0  0  0  0\n",
            "   0  0  0  0  0  0  0  0  0  0  0  0  0  0  0  0  0  0  0  0  0  0  0  0\n",
            "   0  0  0  0  0  0  0  0  0  0  0  0  0  0  0  0  0  0  0  0  0  0  0  0\n",
            "   0  0  0  0  0  0  0  0  0  0  0  0  0  0  0  0  0  0  0  0  0  0  0  0\n",
            "   0  0  0  0  0  0  0  0  0  0  0  0  0  0  0  0  0  0  0  0  0  0  0  0\n",
            "   0  0  0  0  0  0  0  0  0  0  0  0]]\n"
          ]
        }
      ]
    },
    {
      "cell_type": "markdown",
      "source": [
        "Now we see the prediction of the model on our two personally built reviews."
      ],
      "metadata": {
        "id": "6tVLdk44RYYC"
      }
    },
    {
      "cell_type": "code",
      "source": [
        "# We convert our reviews to tensor to pass them into our model\n",
        "personal_reviews = torch.from_numpy(matrix_features)\n",
        "personal_reviews = personal_reviews.to(device)\n",
        "batch_size = personal_reviews.size(0)\n",
        "\n",
        "\n",
        "# Initialize hidden and cell states for the test step\n",
        "hidden_and_cell = sentimentNet.init_hidden_cell_stateless(batch_size)\n",
        "hidden_and_cell = tuple([variable.data for variable in hidden_and_cell])\n",
        "\n",
        "# Forward pass: compute predicted outputs by passing images to the model\n",
        "sentimentNet.eval()\n",
        "output, hidden_and_cell = sentimentNet.forward(personal_reviews, hidden_and_cell)\n",
        "\n",
        "print(output)\n"
      ],
      "metadata": {
        "colab": {
          "base_uri": "https://localhost:8080/"
        },
        "id": "ufALsjmbXq3_",
        "outputId": "19ed980d-b919-4f79-d642-b1fbf46d1d8a"
      },
      "execution_count": 83,
      "outputs": [
        {
          "output_type": "stream",
          "name": "stdout",
          "text": [
            "tensor([[1.1913e-05, 1.2845e-02, 9.8714e-01],\n",
            "        [9.9986e-01, 1.3821e-04, 1.4333e-07]], device='cuda:0',\n",
            "       grad_fn=<SoftmaxBackward0>)\n"
          ]
        },
        {
          "output_type": "stream",
          "name": "stderr",
          "text": [
            "/usr/local/lib/python3.7/dist-packages/ipykernel_launcher.py:58: UserWarning: Implicit dimension choice for softmax has been deprecated. Change the call to include dim=X as an argument.\n"
          ]
        }
      ]
    },
    {
      "cell_type": "markdown",
      "source": [
        "Our **second test** also gives positive results for our model:\n",
        "\n",
        "- For the positive review we wrote, the model gives a probability of **XXXX%** to the hypothesis that it is a positive review.\n",
        "\n",
        "- For the negative review we wrote, the model gives a probability of **XXXX%** to the hypothesis that it is a negative review."
      ],
      "metadata": {
        "id": "Go9Le2SgSPZI"
      }
    },
    {
      "cell_type": "code",
      "execution_count": null,
      "metadata": {
        "id": "qXaiz3-cygps"
      },
      "outputs": [],
      "source": [
        "\n"
      ]
    },
    {
      "cell_type": "code",
      "source": [
        ""
      ],
      "metadata": {
        "id": "yWRrVF9SV_mw"
      },
      "execution_count": 80,
      "outputs": []
    },
    {
      "cell_type": "code",
      "execution_count": 80,
      "metadata": {
        "id": "fd5CYmfMygpt"
      },
      "outputs": [],
      "source": [
        ""
      ]
    },
    {
      "cell_type": "code",
      "execution_count": null,
      "metadata": {
        "id": "kqx3bxulygpt"
      },
      "outputs": [],
      "source": [
        ""
      ]
    },
    {
      "cell_type": "code",
      "execution_count": null,
      "metadata": {
        "id": "aFA5BF2nygpt"
      },
      "outputs": [],
      "source": [
        ""
      ]
    },
    {
      "cell_type": "code",
      "execution_count": null,
      "metadata": {
        "id": "zjtUVa95ygpt"
      },
      "outputs": [],
      "source": [
        ""
      ]
    },
    {
      "cell_type": "code",
      "execution_count": null,
      "metadata": {
        "id": "jf9A3zgmygpu"
      },
      "outputs": [],
      "source": [
        ""
      ]
    },
    {
      "cell_type": "code",
      "execution_count": null,
      "metadata": {
        "id": "vmjaKOENygpu"
      },
      "outputs": [],
      "source": [
        ""
      ]
    }
  ],
  "metadata": {
    "accelerator": "GPU",
    "colab": {
      "collapsed_sections": [],
      "name": "Sentiment_Analysis.ipynb",
      "provenance": []
    },
    "interpreter": {
      "hash": "4552859c5e16cc3f036e1f20a79c18ab5e0574e0945993aca1f2c160230eb876"
    },
    "kernelspec": {
      "display_name": "Python 3.8.12 ('envFOAD')",
      "language": "python",
      "name": "python3"
    },
    "language_info": {
      "codemirror_mode": {
        "name": "ipython",
        "version": 3
      },
      "file_extension": ".py",
      "mimetype": "text/x-python",
      "name": "python",
      "nbconvert_exporter": "python",
      "pygments_lexer": "ipython3",
      "version": "3.8.12"
    },
    "widgets": {
      "application/vnd.jupyter.widget-state+json": {
        "49aef50b9292416b95336aa2c6b55c36": {
          "model_module": "@jupyter-widgets/controls",
          "model_name": "HBoxModel",
          "model_module_version": "1.5.0",
          "state": {
            "_dom_classes": [],
            "_model_module": "@jupyter-widgets/controls",
            "_model_module_version": "1.5.0",
            "_model_name": "HBoxModel",
            "_view_count": null,
            "_view_module": "@jupyter-widgets/controls",
            "_view_module_version": "1.5.0",
            "_view_name": "HBoxView",
            "box_style": "",
            "children": [
              "IPY_MODEL_198366f2daef4b46b68e8a55a2865a02",
              "IPY_MODEL_08ecc59220ab4ab3b4d38d7c1b9f4370",
              "IPY_MODEL_d739f02b157d489389b6777ebff3dad5"
            ],
            "layout": "IPY_MODEL_1f783487e2dd4665b7231d69264eeb89"
          }
        },
        "198366f2daef4b46b68e8a55a2865a02": {
          "model_module": "@jupyter-widgets/controls",
          "model_name": "HTMLModel",
          "model_module_version": "1.5.0",
          "state": {
            "_dom_classes": [],
            "_model_module": "@jupyter-widgets/controls",
            "_model_module_version": "1.5.0",
            "_model_name": "HTMLModel",
            "_view_count": null,
            "_view_module": "@jupyter-widgets/controls",
            "_view_module_version": "1.5.0",
            "_view_name": "HTMLView",
            "description": "",
            "description_tooltip": null,
            "layout": "IPY_MODEL_f67af1db3f4f4becafcf66000848ba63",
            "placeholder": "​",
            "style": "IPY_MODEL_ca5bf1d07aaa42b8a88f31d36bbbca2c",
            "value": "Downloading builder script: "
          }
        },
        "08ecc59220ab4ab3b4d38d7c1b9f4370": {
          "model_module": "@jupyter-widgets/controls",
          "model_name": "FloatProgressModel",
          "model_module_version": "1.5.0",
          "state": {
            "_dom_classes": [],
            "_model_module": "@jupyter-widgets/controls",
            "_model_module_version": "1.5.0",
            "_model_name": "FloatProgressModel",
            "_view_count": null,
            "_view_module": "@jupyter-widgets/controls",
            "_view_module_version": "1.5.0",
            "_view_name": "ProgressView",
            "bar_style": "success",
            "description": "",
            "description_tooltip": null,
            "layout": "IPY_MODEL_6b73307a2e2a4c6e9260c6ab8976daa4",
            "max": 1800,
            "min": 0,
            "orientation": "horizontal",
            "style": "IPY_MODEL_ec97bf60f5ff43228cafdf8dd869c9a8",
            "value": 1800
          }
        },
        "d739f02b157d489389b6777ebff3dad5": {
          "model_module": "@jupyter-widgets/controls",
          "model_name": "HTMLModel",
          "model_module_version": "1.5.0",
          "state": {
            "_dom_classes": [],
            "_model_module": "@jupyter-widgets/controls",
            "_model_module_version": "1.5.0",
            "_model_name": "HTMLModel",
            "_view_count": null,
            "_view_module": "@jupyter-widgets/controls",
            "_view_module_version": "1.5.0",
            "_view_name": "HTMLView",
            "description": "",
            "description_tooltip": null,
            "layout": "IPY_MODEL_631a28b84e094c4fa0a519d60baef04b",
            "placeholder": "​",
            "style": "IPY_MODEL_f07ea805e9de4a89bed69b59457e0f0d",
            "value": " 4.41k/? [00:00&lt;00:00, 103kB/s]"
          }
        },
        "1f783487e2dd4665b7231d69264eeb89": {
          "model_module": "@jupyter-widgets/base",
          "model_name": "LayoutModel",
          "model_module_version": "1.2.0",
          "state": {
            "_model_module": "@jupyter-widgets/base",
            "_model_module_version": "1.2.0",
            "_model_name": "LayoutModel",
            "_view_count": null,
            "_view_module": "@jupyter-widgets/base",
            "_view_module_version": "1.2.0",
            "_view_name": "LayoutView",
            "align_content": null,
            "align_items": null,
            "align_self": null,
            "border": null,
            "bottom": null,
            "display": null,
            "flex": null,
            "flex_flow": null,
            "grid_area": null,
            "grid_auto_columns": null,
            "grid_auto_flow": null,
            "grid_auto_rows": null,
            "grid_column": null,
            "grid_gap": null,
            "grid_row": null,
            "grid_template_areas": null,
            "grid_template_columns": null,
            "grid_template_rows": null,
            "height": null,
            "justify_content": null,
            "justify_items": null,
            "left": null,
            "margin": null,
            "max_height": null,
            "max_width": null,
            "min_height": null,
            "min_width": null,
            "object_fit": null,
            "object_position": null,
            "order": null,
            "overflow": null,
            "overflow_x": null,
            "overflow_y": null,
            "padding": null,
            "right": null,
            "top": null,
            "visibility": null,
            "width": null
          }
        },
        "f67af1db3f4f4becafcf66000848ba63": {
          "model_module": "@jupyter-widgets/base",
          "model_name": "LayoutModel",
          "model_module_version": "1.2.0",
          "state": {
            "_model_module": "@jupyter-widgets/base",
            "_model_module_version": "1.2.0",
            "_model_name": "LayoutModel",
            "_view_count": null,
            "_view_module": "@jupyter-widgets/base",
            "_view_module_version": "1.2.0",
            "_view_name": "LayoutView",
            "align_content": null,
            "align_items": null,
            "align_self": null,
            "border": null,
            "bottom": null,
            "display": null,
            "flex": null,
            "flex_flow": null,
            "grid_area": null,
            "grid_auto_columns": null,
            "grid_auto_flow": null,
            "grid_auto_rows": null,
            "grid_column": null,
            "grid_gap": null,
            "grid_row": null,
            "grid_template_areas": null,
            "grid_template_columns": null,
            "grid_template_rows": null,
            "height": null,
            "justify_content": null,
            "justify_items": null,
            "left": null,
            "margin": null,
            "max_height": null,
            "max_width": null,
            "min_height": null,
            "min_width": null,
            "object_fit": null,
            "object_position": null,
            "order": null,
            "overflow": null,
            "overflow_x": null,
            "overflow_y": null,
            "padding": null,
            "right": null,
            "top": null,
            "visibility": null,
            "width": null
          }
        },
        "ca5bf1d07aaa42b8a88f31d36bbbca2c": {
          "model_module": "@jupyter-widgets/controls",
          "model_name": "DescriptionStyleModel",
          "model_module_version": "1.5.0",
          "state": {
            "_model_module": "@jupyter-widgets/controls",
            "_model_module_version": "1.5.0",
            "_model_name": "DescriptionStyleModel",
            "_view_count": null,
            "_view_module": "@jupyter-widgets/base",
            "_view_module_version": "1.2.0",
            "_view_name": "StyleView",
            "description_width": ""
          }
        },
        "6b73307a2e2a4c6e9260c6ab8976daa4": {
          "model_module": "@jupyter-widgets/base",
          "model_name": "LayoutModel",
          "model_module_version": "1.2.0",
          "state": {
            "_model_module": "@jupyter-widgets/base",
            "_model_module_version": "1.2.0",
            "_model_name": "LayoutModel",
            "_view_count": null,
            "_view_module": "@jupyter-widgets/base",
            "_view_module_version": "1.2.0",
            "_view_name": "LayoutView",
            "align_content": null,
            "align_items": null,
            "align_self": null,
            "border": null,
            "bottom": null,
            "display": null,
            "flex": null,
            "flex_flow": null,
            "grid_area": null,
            "grid_auto_columns": null,
            "grid_auto_flow": null,
            "grid_auto_rows": null,
            "grid_column": null,
            "grid_gap": null,
            "grid_row": null,
            "grid_template_areas": null,
            "grid_template_columns": null,
            "grid_template_rows": null,
            "height": null,
            "justify_content": null,
            "justify_items": null,
            "left": null,
            "margin": null,
            "max_height": null,
            "max_width": null,
            "min_height": null,
            "min_width": null,
            "object_fit": null,
            "object_position": null,
            "order": null,
            "overflow": null,
            "overflow_x": null,
            "overflow_y": null,
            "padding": null,
            "right": null,
            "top": null,
            "visibility": null,
            "width": null
          }
        },
        "ec97bf60f5ff43228cafdf8dd869c9a8": {
          "model_module": "@jupyter-widgets/controls",
          "model_name": "ProgressStyleModel",
          "model_module_version": "1.5.0",
          "state": {
            "_model_module": "@jupyter-widgets/controls",
            "_model_module_version": "1.5.0",
            "_model_name": "ProgressStyleModel",
            "_view_count": null,
            "_view_module": "@jupyter-widgets/base",
            "_view_module_version": "1.2.0",
            "_view_name": "StyleView",
            "bar_color": null,
            "description_width": ""
          }
        },
        "631a28b84e094c4fa0a519d60baef04b": {
          "model_module": "@jupyter-widgets/base",
          "model_name": "LayoutModel",
          "model_module_version": "1.2.0",
          "state": {
            "_model_module": "@jupyter-widgets/base",
            "_model_module_version": "1.2.0",
            "_model_name": "LayoutModel",
            "_view_count": null,
            "_view_module": "@jupyter-widgets/base",
            "_view_module_version": "1.2.0",
            "_view_name": "LayoutView",
            "align_content": null,
            "align_items": null,
            "align_self": null,
            "border": null,
            "bottom": null,
            "display": null,
            "flex": null,
            "flex_flow": null,
            "grid_area": null,
            "grid_auto_columns": null,
            "grid_auto_flow": null,
            "grid_auto_rows": null,
            "grid_column": null,
            "grid_gap": null,
            "grid_row": null,
            "grid_template_areas": null,
            "grid_template_columns": null,
            "grid_template_rows": null,
            "height": null,
            "justify_content": null,
            "justify_items": null,
            "left": null,
            "margin": null,
            "max_height": null,
            "max_width": null,
            "min_height": null,
            "min_width": null,
            "object_fit": null,
            "object_position": null,
            "order": null,
            "overflow": null,
            "overflow_x": null,
            "overflow_y": null,
            "padding": null,
            "right": null,
            "top": null,
            "visibility": null,
            "width": null
          }
        },
        "f07ea805e9de4a89bed69b59457e0f0d": {
          "model_module": "@jupyter-widgets/controls",
          "model_name": "DescriptionStyleModel",
          "model_module_version": "1.5.0",
          "state": {
            "_model_module": "@jupyter-widgets/controls",
            "_model_module_version": "1.5.0",
            "_model_name": "DescriptionStyleModel",
            "_view_count": null,
            "_view_module": "@jupyter-widgets/base",
            "_view_module_version": "1.2.0",
            "_view_name": "StyleView",
            "description_width": ""
          }
        },
        "74b484aeec614914a3f03718792196ad": {
          "model_module": "@jupyter-widgets/controls",
          "model_name": "HBoxModel",
          "model_module_version": "1.5.0",
          "state": {
            "_dom_classes": [],
            "_model_module": "@jupyter-widgets/controls",
            "_model_module_version": "1.5.0",
            "_model_name": "HBoxModel",
            "_view_count": null,
            "_view_module": "@jupyter-widgets/controls",
            "_view_module_version": "1.5.0",
            "_view_name": "HBoxView",
            "box_style": "",
            "children": [
              "IPY_MODEL_4f8e21ac12f2484db9e9e5de9c6fe74d",
              "IPY_MODEL_b6b56f2a21f8411e89f48e512143859d",
              "IPY_MODEL_e1867f70a30e4e22918ea87c52316887"
            ],
            "layout": "IPY_MODEL_a3066d2da24f459fb0a589723ba68afa"
          }
        },
        "4f8e21ac12f2484db9e9e5de9c6fe74d": {
          "model_module": "@jupyter-widgets/controls",
          "model_name": "HTMLModel",
          "model_module_version": "1.5.0",
          "state": {
            "_dom_classes": [],
            "_model_module": "@jupyter-widgets/controls",
            "_model_module_version": "1.5.0",
            "_model_name": "HTMLModel",
            "_view_count": null,
            "_view_module": "@jupyter-widgets/controls",
            "_view_module_version": "1.5.0",
            "_view_name": "HTMLView",
            "description": "",
            "description_tooltip": null,
            "layout": "IPY_MODEL_01b5eb783dac453da6da7f1bc2e2f461",
            "placeholder": "​",
            "style": "IPY_MODEL_87965056c98d48589ba31f94a7060084",
            "value": "Downloading metadata: "
          }
        },
        "b6b56f2a21f8411e89f48e512143859d": {
          "model_module": "@jupyter-widgets/controls",
          "model_name": "FloatProgressModel",
          "model_module_version": "1.5.0",
          "state": {
            "_dom_classes": [],
            "_model_module": "@jupyter-widgets/controls",
            "_model_module_version": "1.5.0",
            "_model_name": "FloatProgressModel",
            "_view_count": null,
            "_view_module": "@jupyter-widgets/controls",
            "_view_module_version": "1.5.0",
            "_view_name": "ProgressView",
            "bar_style": "success",
            "description": "",
            "description_tooltip": null,
            "layout": "IPY_MODEL_50897529655047ae803ceb0d2600806b",
            "max": 979,
            "min": 0,
            "orientation": "horizontal",
            "style": "IPY_MODEL_5688a6fac33541748ae34484ad18b8ca",
            "value": 979
          }
        },
        "e1867f70a30e4e22918ea87c52316887": {
          "model_module": "@jupyter-widgets/controls",
          "model_name": "HTMLModel",
          "model_module_version": "1.5.0",
          "state": {
            "_dom_classes": [],
            "_model_module": "@jupyter-widgets/controls",
            "_model_module_version": "1.5.0",
            "_model_name": "HTMLModel",
            "_view_count": null,
            "_view_module": "@jupyter-widgets/controls",
            "_view_module_version": "1.5.0",
            "_view_name": "HTMLView",
            "description": "",
            "description_tooltip": null,
            "layout": "IPY_MODEL_934090934a8d403da9f53ac81acbaa62",
            "placeholder": "​",
            "style": "IPY_MODEL_5d942a0e662b4566a041fa55b00e9125",
            "value": " 2.04k/? [00:00&lt;00:00, 42.7kB/s]"
          }
        },
        "a3066d2da24f459fb0a589723ba68afa": {
          "model_module": "@jupyter-widgets/base",
          "model_name": "LayoutModel",
          "model_module_version": "1.2.0",
          "state": {
            "_model_module": "@jupyter-widgets/base",
            "_model_module_version": "1.2.0",
            "_model_name": "LayoutModel",
            "_view_count": null,
            "_view_module": "@jupyter-widgets/base",
            "_view_module_version": "1.2.0",
            "_view_name": "LayoutView",
            "align_content": null,
            "align_items": null,
            "align_self": null,
            "border": null,
            "bottom": null,
            "display": null,
            "flex": null,
            "flex_flow": null,
            "grid_area": null,
            "grid_auto_columns": null,
            "grid_auto_flow": null,
            "grid_auto_rows": null,
            "grid_column": null,
            "grid_gap": null,
            "grid_row": null,
            "grid_template_areas": null,
            "grid_template_columns": null,
            "grid_template_rows": null,
            "height": null,
            "justify_content": null,
            "justify_items": null,
            "left": null,
            "margin": null,
            "max_height": null,
            "max_width": null,
            "min_height": null,
            "min_width": null,
            "object_fit": null,
            "object_position": null,
            "order": null,
            "overflow": null,
            "overflow_x": null,
            "overflow_y": null,
            "padding": null,
            "right": null,
            "top": null,
            "visibility": null,
            "width": null
          }
        },
        "01b5eb783dac453da6da7f1bc2e2f461": {
          "model_module": "@jupyter-widgets/base",
          "model_name": "LayoutModel",
          "model_module_version": "1.2.0",
          "state": {
            "_model_module": "@jupyter-widgets/base",
            "_model_module_version": "1.2.0",
            "_model_name": "LayoutModel",
            "_view_count": null,
            "_view_module": "@jupyter-widgets/base",
            "_view_module_version": "1.2.0",
            "_view_name": "LayoutView",
            "align_content": null,
            "align_items": null,
            "align_self": null,
            "border": null,
            "bottom": null,
            "display": null,
            "flex": null,
            "flex_flow": null,
            "grid_area": null,
            "grid_auto_columns": null,
            "grid_auto_flow": null,
            "grid_auto_rows": null,
            "grid_column": null,
            "grid_gap": null,
            "grid_row": null,
            "grid_template_areas": null,
            "grid_template_columns": null,
            "grid_template_rows": null,
            "height": null,
            "justify_content": null,
            "justify_items": null,
            "left": null,
            "margin": null,
            "max_height": null,
            "max_width": null,
            "min_height": null,
            "min_width": null,
            "object_fit": null,
            "object_position": null,
            "order": null,
            "overflow": null,
            "overflow_x": null,
            "overflow_y": null,
            "padding": null,
            "right": null,
            "top": null,
            "visibility": null,
            "width": null
          }
        },
        "87965056c98d48589ba31f94a7060084": {
          "model_module": "@jupyter-widgets/controls",
          "model_name": "DescriptionStyleModel",
          "model_module_version": "1.5.0",
          "state": {
            "_model_module": "@jupyter-widgets/controls",
            "_model_module_version": "1.5.0",
            "_model_name": "DescriptionStyleModel",
            "_view_count": null,
            "_view_module": "@jupyter-widgets/base",
            "_view_module_version": "1.2.0",
            "_view_name": "StyleView",
            "description_width": ""
          }
        },
        "50897529655047ae803ceb0d2600806b": {
          "model_module": "@jupyter-widgets/base",
          "model_name": "LayoutModel",
          "model_module_version": "1.2.0",
          "state": {
            "_model_module": "@jupyter-widgets/base",
            "_model_module_version": "1.2.0",
            "_model_name": "LayoutModel",
            "_view_count": null,
            "_view_module": "@jupyter-widgets/base",
            "_view_module_version": "1.2.0",
            "_view_name": "LayoutView",
            "align_content": null,
            "align_items": null,
            "align_self": null,
            "border": null,
            "bottom": null,
            "display": null,
            "flex": null,
            "flex_flow": null,
            "grid_area": null,
            "grid_auto_columns": null,
            "grid_auto_flow": null,
            "grid_auto_rows": null,
            "grid_column": null,
            "grid_gap": null,
            "grid_row": null,
            "grid_template_areas": null,
            "grid_template_columns": null,
            "grid_template_rows": null,
            "height": null,
            "justify_content": null,
            "justify_items": null,
            "left": null,
            "margin": null,
            "max_height": null,
            "max_width": null,
            "min_height": null,
            "min_width": null,
            "object_fit": null,
            "object_position": null,
            "order": null,
            "overflow": null,
            "overflow_x": null,
            "overflow_y": null,
            "padding": null,
            "right": null,
            "top": null,
            "visibility": null,
            "width": null
          }
        },
        "5688a6fac33541748ae34484ad18b8ca": {
          "model_module": "@jupyter-widgets/controls",
          "model_name": "ProgressStyleModel",
          "model_module_version": "1.5.0",
          "state": {
            "_model_module": "@jupyter-widgets/controls",
            "_model_module_version": "1.5.0",
            "_model_name": "ProgressStyleModel",
            "_view_count": null,
            "_view_module": "@jupyter-widgets/base",
            "_view_module_version": "1.2.0",
            "_view_name": "StyleView",
            "bar_color": null,
            "description_width": ""
          }
        },
        "934090934a8d403da9f53ac81acbaa62": {
          "model_module": "@jupyter-widgets/base",
          "model_name": "LayoutModel",
          "model_module_version": "1.2.0",
          "state": {
            "_model_module": "@jupyter-widgets/base",
            "_model_module_version": "1.2.0",
            "_model_name": "LayoutModel",
            "_view_count": null,
            "_view_module": "@jupyter-widgets/base",
            "_view_module_version": "1.2.0",
            "_view_name": "LayoutView",
            "align_content": null,
            "align_items": null,
            "align_self": null,
            "border": null,
            "bottom": null,
            "display": null,
            "flex": null,
            "flex_flow": null,
            "grid_area": null,
            "grid_auto_columns": null,
            "grid_auto_flow": null,
            "grid_auto_rows": null,
            "grid_column": null,
            "grid_gap": null,
            "grid_row": null,
            "grid_template_areas": null,
            "grid_template_columns": null,
            "grid_template_rows": null,
            "height": null,
            "justify_content": null,
            "justify_items": null,
            "left": null,
            "margin": null,
            "max_height": null,
            "max_width": null,
            "min_height": null,
            "min_width": null,
            "object_fit": null,
            "object_position": null,
            "order": null,
            "overflow": null,
            "overflow_x": null,
            "overflow_y": null,
            "padding": null,
            "right": null,
            "top": null,
            "visibility": null,
            "width": null
          }
        },
        "5d942a0e662b4566a041fa55b00e9125": {
          "model_module": "@jupyter-widgets/controls",
          "model_name": "DescriptionStyleModel",
          "model_module_version": "1.5.0",
          "state": {
            "_model_module": "@jupyter-widgets/controls",
            "_model_module_version": "1.5.0",
            "_model_name": "DescriptionStyleModel",
            "_view_count": null,
            "_view_module": "@jupyter-widgets/base",
            "_view_module_version": "1.2.0",
            "_view_name": "StyleView",
            "description_width": ""
          }
        },
        "5f83cb4e48eb4b07a2fae76358fec294": {
          "model_module": "@jupyter-widgets/controls",
          "model_name": "HBoxModel",
          "model_module_version": "1.5.0",
          "state": {
            "_dom_classes": [],
            "_model_module": "@jupyter-widgets/controls",
            "_model_module_version": "1.5.0",
            "_model_name": "HBoxModel",
            "_view_count": null,
            "_view_module": "@jupyter-widgets/controls",
            "_view_module_version": "1.5.0",
            "_view_name": "HBoxView",
            "box_style": "",
            "children": [
              "IPY_MODEL_e619bc3a40494447aba234fd06490184",
              "IPY_MODEL_b41e47cc282746d78f52d99bdc4efbb3",
              "IPY_MODEL_9f5f85dc03c143308e64b9d974fbf280"
            ],
            "layout": "IPY_MODEL_8b6a60bd113545c198a5b7744f9f0a9b"
          }
        },
        "e619bc3a40494447aba234fd06490184": {
          "model_module": "@jupyter-widgets/controls",
          "model_name": "HTMLModel",
          "model_module_version": "1.5.0",
          "state": {
            "_dom_classes": [],
            "_model_module": "@jupyter-widgets/controls",
            "_model_module_version": "1.5.0",
            "_model_name": "HTMLModel",
            "_view_count": null,
            "_view_module": "@jupyter-widgets/controls",
            "_view_module_version": "1.5.0",
            "_view_name": "HTMLView",
            "description": "",
            "description_tooltip": null,
            "layout": "IPY_MODEL_91a71ff04a2745c085655d7bf0345d12",
            "placeholder": "​",
            "style": "IPY_MODEL_e6363f6228fe4f6c9205334e25768fdf",
            "value": "Downloading data: 100%"
          }
        },
        "b41e47cc282746d78f52d99bdc4efbb3": {
          "model_module": "@jupyter-widgets/controls",
          "model_name": "FloatProgressModel",
          "model_module_version": "1.5.0",
          "state": {
            "_dom_classes": [],
            "_model_module": "@jupyter-widgets/controls",
            "_model_module_version": "1.5.0",
            "_model_name": "FloatProgressModel",
            "_view_count": null,
            "_view_module": "@jupyter-widgets/controls",
            "_view_module_version": "1.5.0",
            "_view_name": "ProgressView",
            "bar_style": "success",
            "description": "",
            "description_tooltip": null,
            "layout": "IPY_MODEL_25e7ede938d740699ed98c74bf2dd97f",
            "max": 196146755,
            "min": 0,
            "orientation": "horizontal",
            "style": "IPY_MODEL_d1fed60a71a74abda13d15164540a7bc",
            "value": 196146755
          }
        },
        "9f5f85dc03c143308e64b9d974fbf280": {
          "model_module": "@jupyter-widgets/controls",
          "model_name": "HTMLModel",
          "model_module_version": "1.5.0",
          "state": {
            "_dom_classes": [],
            "_model_module": "@jupyter-widgets/controls",
            "_model_module_version": "1.5.0",
            "_model_name": "HTMLModel",
            "_view_count": null,
            "_view_module": "@jupyter-widgets/controls",
            "_view_module_version": "1.5.0",
            "_view_name": "HTMLView",
            "description": "",
            "description_tooltip": null,
            "layout": "IPY_MODEL_5a605f9a71ec48529dad07551a9edf2f",
            "placeholder": "​",
            "style": "IPY_MODEL_2c670c002eca4ba69f72b6597e857550",
            "value": " 196M/196M [00:05&lt;00:00, 26.9MB/s]"
          }
        },
        "8b6a60bd113545c198a5b7744f9f0a9b": {
          "model_module": "@jupyter-widgets/base",
          "model_name": "LayoutModel",
          "model_module_version": "1.2.0",
          "state": {
            "_model_module": "@jupyter-widgets/base",
            "_model_module_version": "1.2.0",
            "_model_name": "LayoutModel",
            "_view_count": null,
            "_view_module": "@jupyter-widgets/base",
            "_view_module_version": "1.2.0",
            "_view_name": "LayoutView",
            "align_content": null,
            "align_items": null,
            "align_self": null,
            "border": null,
            "bottom": null,
            "display": null,
            "flex": null,
            "flex_flow": null,
            "grid_area": null,
            "grid_auto_columns": null,
            "grid_auto_flow": null,
            "grid_auto_rows": null,
            "grid_column": null,
            "grid_gap": null,
            "grid_row": null,
            "grid_template_areas": null,
            "grid_template_columns": null,
            "grid_template_rows": null,
            "height": null,
            "justify_content": null,
            "justify_items": null,
            "left": null,
            "margin": null,
            "max_height": null,
            "max_width": null,
            "min_height": null,
            "min_width": null,
            "object_fit": null,
            "object_position": null,
            "order": null,
            "overflow": null,
            "overflow_x": null,
            "overflow_y": null,
            "padding": null,
            "right": null,
            "top": null,
            "visibility": null,
            "width": null
          }
        },
        "91a71ff04a2745c085655d7bf0345d12": {
          "model_module": "@jupyter-widgets/base",
          "model_name": "LayoutModel",
          "model_module_version": "1.2.0",
          "state": {
            "_model_module": "@jupyter-widgets/base",
            "_model_module_version": "1.2.0",
            "_model_name": "LayoutModel",
            "_view_count": null,
            "_view_module": "@jupyter-widgets/base",
            "_view_module_version": "1.2.0",
            "_view_name": "LayoutView",
            "align_content": null,
            "align_items": null,
            "align_self": null,
            "border": null,
            "bottom": null,
            "display": null,
            "flex": null,
            "flex_flow": null,
            "grid_area": null,
            "grid_auto_columns": null,
            "grid_auto_flow": null,
            "grid_auto_rows": null,
            "grid_column": null,
            "grid_gap": null,
            "grid_row": null,
            "grid_template_areas": null,
            "grid_template_columns": null,
            "grid_template_rows": null,
            "height": null,
            "justify_content": null,
            "justify_items": null,
            "left": null,
            "margin": null,
            "max_height": null,
            "max_width": null,
            "min_height": null,
            "min_width": null,
            "object_fit": null,
            "object_position": null,
            "order": null,
            "overflow": null,
            "overflow_x": null,
            "overflow_y": null,
            "padding": null,
            "right": null,
            "top": null,
            "visibility": null,
            "width": null
          }
        },
        "e6363f6228fe4f6c9205334e25768fdf": {
          "model_module": "@jupyter-widgets/controls",
          "model_name": "DescriptionStyleModel",
          "model_module_version": "1.5.0",
          "state": {
            "_model_module": "@jupyter-widgets/controls",
            "_model_module_version": "1.5.0",
            "_model_name": "DescriptionStyleModel",
            "_view_count": null,
            "_view_module": "@jupyter-widgets/base",
            "_view_module_version": "1.2.0",
            "_view_name": "StyleView",
            "description_width": ""
          }
        },
        "25e7ede938d740699ed98c74bf2dd97f": {
          "model_module": "@jupyter-widgets/base",
          "model_name": "LayoutModel",
          "model_module_version": "1.2.0",
          "state": {
            "_model_module": "@jupyter-widgets/base",
            "_model_module_version": "1.2.0",
            "_model_name": "LayoutModel",
            "_view_count": null,
            "_view_module": "@jupyter-widgets/base",
            "_view_module_version": "1.2.0",
            "_view_name": "LayoutView",
            "align_content": null,
            "align_items": null,
            "align_self": null,
            "border": null,
            "bottom": null,
            "display": null,
            "flex": null,
            "flex_flow": null,
            "grid_area": null,
            "grid_auto_columns": null,
            "grid_auto_flow": null,
            "grid_auto_rows": null,
            "grid_column": null,
            "grid_gap": null,
            "grid_row": null,
            "grid_template_areas": null,
            "grid_template_columns": null,
            "grid_template_rows": null,
            "height": null,
            "justify_content": null,
            "justify_items": null,
            "left": null,
            "margin": null,
            "max_height": null,
            "max_width": null,
            "min_height": null,
            "min_width": null,
            "object_fit": null,
            "object_position": null,
            "order": null,
            "overflow": null,
            "overflow_x": null,
            "overflow_y": null,
            "padding": null,
            "right": null,
            "top": null,
            "visibility": null,
            "width": null
          }
        },
        "d1fed60a71a74abda13d15164540a7bc": {
          "model_module": "@jupyter-widgets/controls",
          "model_name": "ProgressStyleModel",
          "model_module_version": "1.5.0",
          "state": {
            "_model_module": "@jupyter-widgets/controls",
            "_model_module_version": "1.5.0",
            "_model_name": "ProgressStyleModel",
            "_view_count": null,
            "_view_module": "@jupyter-widgets/base",
            "_view_module_version": "1.2.0",
            "_view_name": "StyleView",
            "bar_color": null,
            "description_width": ""
          }
        },
        "5a605f9a71ec48529dad07551a9edf2f": {
          "model_module": "@jupyter-widgets/base",
          "model_name": "LayoutModel",
          "model_module_version": "1.2.0",
          "state": {
            "_model_module": "@jupyter-widgets/base",
            "_model_module_version": "1.2.0",
            "_model_name": "LayoutModel",
            "_view_count": null,
            "_view_module": "@jupyter-widgets/base",
            "_view_module_version": "1.2.0",
            "_view_name": "LayoutView",
            "align_content": null,
            "align_items": null,
            "align_self": null,
            "border": null,
            "bottom": null,
            "display": null,
            "flex": null,
            "flex_flow": null,
            "grid_area": null,
            "grid_auto_columns": null,
            "grid_auto_flow": null,
            "grid_auto_rows": null,
            "grid_column": null,
            "grid_gap": null,
            "grid_row": null,
            "grid_template_areas": null,
            "grid_template_columns": null,
            "grid_template_rows": null,
            "height": null,
            "justify_content": null,
            "justify_items": null,
            "left": null,
            "margin": null,
            "max_height": null,
            "max_width": null,
            "min_height": null,
            "min_width": null,
            "object_fit": null,
            "object_position": null,
            "order": null,
            "overflow": null,
            "overflow_x": null,
            "overflow_y": null,
            "padding": null,
            "right": null,
            "top": null,
            "visibility": null,
            "width": null
          }
        },
        "2c670c002eca4ba69f72b6597e857550": {
          "model_module": "@jupyter-widgets/controls",
          "model_name": "DescriptionStyleModel",
          "model_module_version": "1.5.0",
          "state": {
            "_model_module": "@jupyter-widgets/controls",
            "_model_module_version": "1.5.0",
            "_model_name": "DescriptionStyleModel",
            "_view_count": null,
            "_view_module": "@jupyter-widgets/base",
            "_view_module_version": "1.2.0",
            "_view_name": "StyleView",
            "description_width": ""
          }
        },
        "c34480b65835453da97e6657269aa8ab": {
          "model_module": "@jupyter-widgets/controls",
          "model_name": "HBoxModel",
          "model_module_version": "1.5.0",
          "state": {
            "_dom_classes": [],
            "_model_module": "@jupyter-widgets/controls",
            "_model_module_version": "1.5.0",
            "_model_name": "HBoxModel",
            "_view_count": null,
            "_view_module": "@jupyter-widgets/controls",
            "_view_module_version": "1.5.0",
            "_view_name": "HBoxView",
            "box_style": "",
            "children": [
              "IPY_MODEL_d77e0fae7d0f4cf58c816b34a4d07991",
              "IPY_MODEL_a1ea22534ae741658a04e6e1d0bc6729",
              "IPY_MODEL_c6672efbe5d042d6ab380a5674ef211c"
            ],
            "layout": "IPY_MODEL_00a78b25fffc4a9a88e0cd6a61debc33"
          }
        },
        "d77e0fae7d0f4cf58c816b34a4d07991": {
          "model_module": "@jupyter-widgets/controls",
          "model_name": "HTMLModel",
          "model_module_version": "1.5.0",
          "state": {
            "_dom_classes": [],
            "_model_module": "@jupyter-widgets/controls",
            "_model_module_version": "1.5.0",
            "_model_name": "HTMLModel",
            "_view_count": null,
            "_view_module": "@jupyter-widgets/controls",
            "_view_module_version": "1.5.0",
            "_view_name": "HTMLView",
            "description": "",
            "description_tooltip": null,
            "layout": "IPY_MODEL_377f873037c64a90a0a061ab6c9bcff1",
            "placeholder": "​",
            "style": "IPY_MODEL_9d8f4790a9284ffb9854205c3f7b83c8",
            "value": "Generating train split: 100%"
          }
        },
        "a1ea22534ae741658a04e6e1d0bc6729": {
          "model_module": "@jupyter-widgets/controls",
          "model_name": "FloatProgressModel",
          "model_module_version": "1.5.0",
          "state": {
            "_dom_classes": [],
            "_model_module": "@jupyter-widgets/controls",
            "_model_module_version": "1.5.0",
            "_model_name": "FloatProgressModel",
            "_view_count": null,
            "_view_module": "@jupyter-widgets/controls",
            "_view_module_version": "1.5.0",
            "_view_name": "ProgressView",
            "bar_style": "",
            "description": "",
            "description_tooltip": null,
            "layout": "IPY_MODEL_ca3bf04b35fe4c50aed1a321d8250e66",
            "max": 650000,
            "min": 0,
            "orientation": "horizontal",
            "style": "IPY_MODEL_83662dfa99ef4e1588eb588697527147",
            "value": 650000
          }
        },
        "c6672efbe5d042d6ab380a5674ef211c": {
          "model_module": "@jupyter-widgets/controls",
          "model_name": "HTMLModel",
          "model_module_version": "1.5.0",
          "state": {
            "_dom_classes": [],
            "_model_module": "@jupyter-widgets/controls",
            "_model_module_version": "1.5.0",
            "_model_name": "HTMLModel",
            "_view_count": null,
            "_view_module": "@jupyter-widgets/controls",
            "_view_module_version": "1.5.0",
            "_view_name": "HTMLView",
            "description": "",
            "description_tooltip": null,
            "layout": "IPY_MODEL_0042abc22c81443f9a7a9298284ddb41",
            "placeholder": "​",
            "style": "IPY_MODEL_38748830931e4c318afa771d4344aa44",
            "value": " 648117/650000 [00:37&lt;00:00, 21256.83 examples/s]"
          }
        },
        "00a78b25fffc4a9a88e0cd6a61debc33": {
          "model_module": "@jupyter-widgets/base",
          "model_name": "LayoutModel",
          "model_module_version": "1.2.0",
          "state": {
            "_model_module": "@jupyter-widgets/base",
            "_model_module_version": "1.2.0",
            "_model_name": "LayoutModel",
            "_view_count": null,
            "_view_module": "@jupyter-widgets/base",
            "_view_module_version": "1.2.0",
            "_view_name": "LayoutView",
            "align_content": null,
            "align_items": null,
            "align_self": null,
            "border": null,
            "bottom": null,
            "display": null,
            "flex": null,
            "flex_flow": null,
            "grid_area": null,
            "grid_auto_columns": null,
            "grid_auto_flow": null,
            "grid_auto_rows": null,
            "grid_column": null,
            "grid_gap": null,
            "grid_row": null,
            "grid_template_areas": null,
            "grid_template_columns": null,
            "grid_template_rows": null,
            "height": null,
            "justify_content": null,
            "justify_items": null,
            "left": null,
            "margin": null,
            "max_height": null,
            "max_width": null,
            "min_height": null,
            "min_width": null,
            "object_fit": null,
            "object_position": null,
            "order": null,
            "overflow": null,
            "overflow_x": null,
            "overflow_y": null,
            "padding": null,
            "right": null,
            "top": null,
            "visibility": null,
            "width": null
          }
        },
        "377f873037c64a90a0a061ab6c9bcff1": {
          "model_module": "@jupyter-widgets/base",
          "model_name": "LayoutModel",
          "model_module_version": "1.2.0",
          "state": {
            "_model_module": "@jupyter-widgets/base",
            "_model_module_version": "1.2.0",
            "_model_name": "LayoutModel",
            "_view_count": null,
            "_view_module": "@jupyter-widgets/base",
            "_view_module_version": "1.2.0",
            "_view_name": "LayoutView",
            "align_content": null,
            "align_items": null,
            "align_self": null,
            "border": null,
            "bottom": null,
            "display": null,
            "flex": null,
            "flex_flow": null,
            "grid_area": null,
            "grid_auto_columns": null,
            "grid_auto_flow": null,
            "grid_auto_rows": null,
            "grid_column": null,
            "grid_gap": null,
            "grid_row": null,
            "grid_template_areas": null,
            "grid_template_columns": null,
            "grid_template_rows": null,
            "height": null,
            "justify_content": null,
            "justify_items": null,
            "left": null,
            "margin": null,
            "max_height": null,
            "max_width": null,
            "min_height": null,
            "min_width": null,
            "object_fit": null,
            "object_position": null,
            "order": null,
            "overflow": null,
            "overflow_x": null,
            "overflow_y": null,
            "padding": null,
            "right": null,
            "top": null,
            "visibility": null,
            "width": null
          }
        },
        "9d8f4790a9284ffb9854205c3f7b83c8": {
          "model_module": "@jupyter-widgets/controls",
          "model_name": "DescriptionStyleModel",
          "model_module_version": "1.5.0",
          "state": {
            "_model_module": "@jupyter-widgets/controls",
            "_model_module_version": "1.5.0",
            "_model_name": "DescriptionStyleModel",
            "_view_count": null,
            "_view_module": "@jupyter-widgets/base",
            "_view_module_version": "1.2.0",
            "_view_name": "StyleView",
            "description_width": ""
          }
        },
        "ca3bf04b35fe4c50aed1a321d8250e66": {
          "model_module": "@jupyter-widgets/base",
          "model_name": "LayoutModel",
          "model_module_version": "1.2.0",
          "state": {
            "_model_module": "@jupyter-widgets/base",
            "_model_module_version": "1.2.0",
            "_model_name": "LayoutModel",
            "_view_count": null,
            "_view_module": "@jupyter-widgets/base",
            "_view_module_version": "1.2.0",
            "_view_name": "LayoutView",
            "align_content": null,
            "align_items": null,
            "align_self": null,
            "border": null,
            "bottom": null,
            "display": null,
            "flex": null,
            "flex_flow": null,
            "grid_area": null,
            "grid_auto_columns": null,
            "grid_auto_flow": null,
            "grid_auto_rows": null,
            "grid_column": null,
            "grid_gap": null,
            "grid_row": null,
            "grid_template_areas": null,
            "grid_template_columns": null,
            "grid_template_rows": null,
            "height": null,
            "justify_content": null,
            "justify_items": null,
            "left": null,
            "margin": null,
            "max_height": null,
            "max_width": null,
            "min_height": null,
            "min_width": null,
            "object_fit": null,
            "object_position": null,
            "order": null,
            "overflow": null,
            "overflow_x": null,
            "overflow_y": null,
            "padding": null,
            "right": null,
            "top": null,
            "visibility": null,
            "width": null
          }
        },
        "83662dfa99ef4e1588eb588697527147": {
          "model_module": "@jupyter-widgets/controls",
          "model_name": "ProgressStyleModel",
          "model_module_version": "1.5.0",
          "state": {
            "_model_module": "@jupyter-widgets/controls",
            "_model_module_version": "1.5.0",
            "_model_name": "ProgressStyleModel",
            "_view_count": null,
            "_view_module": "@jupyter-widgets/base",
            "_view_module_version": "1.2.0",
            "_view_name": "StyleView",
            "bar_color": null,
            "description_width": ""
          }
        },
        "0042abc22c81443f9a7a9298284ddb41": {
          "model_module": "@jupyter-widgets/base",
          "model_name": "LayoutModel",
          "model_module_version": "1.2.0",
          "state": {
            "_model_module": "@jupyter-widgets/base",
            "_model_module_version": "1.2.0",
            "_model_name": "LayoutModel",
            "_view_count": null,
            "_view_module": "@jupyter-widgets/base",
            "_view_module_version": "1.2.0",
            "_view_name": "LayoutView",
            "align_content": null,
            "align_items": null,
            "align_self": null,
            "border": null,
            "bottom": null,
            "display": null,
            "flex": null,
            "flex_flow": null,
            "grid_area": null,
            "grid_auto_columns": null,
            "grid_auto_flow": null,
            "grid_auto_rows": null,
            "grid_column": null,
            "grid_gap": null,
            "grid_row": null,
            "grid_template_areas": null,
            "grid_template_columns": null,
            "grid_template_rows": null,
            "height": null,
            "justify_content": null,
            "justify_items": null,
            "left": null,
            "margin": null,
            "max_height": null,
            "max_width": null,
            "min_height": null,
            "min_width": null,
            "object_fit": null,
            "object_position": null,
            "order": null,
            "overflow": null,
            "overflow_x": null,
            "overflow_y": null,
            "padding": null,
            "right": null,
            "top": null,
            "visibility": null,
            "width": null
          }
        },
        "38748830931e4c318afa771d4344aa44": {
          "model_module": "@jupyter-widgets/controls",
          "model_name": "DescriptionStyleModel",
          "model_module_version": "1.5.0",
          "state": {
            "_model_module": "@jupyter-widgets/controls",
            "_model_module_version": "1.5.0",
            "_model_name": "DescriptionStyleModel",
            "_view_count": null,
            "_view_module": "@jupyter-widgets/base",
            "_view_module_version": "1.2.0",
            "_view_name": "StyleView",
            "description_width": ""
          }
        },
        "5f840c377719427ca87f7977180ee348": {
          "model_module": "@jupyter-widgets/controls",
          "model_name": "HBoxModel",
          "model_module_version": "1.5.0",
          "state": {
            "_dom_classes": [],
            "_model_module": "@jupyter-widgets/controls",
            "_model_module_version": "1.5.0",
            "_model_name": "HBoxModel",
            "_view_count": null,
            "_view_module": "@jupyter-widgets/controls",
            "_view_module_version": "1.5.0",
            "_view_name": "HBoxView",
            "box_style": "",
            "children": [
              "IPY_MODEL_4b3ce4cbdeb34117829c1d31e3807e40",
              "IPY_MODEL_808b6d8d960a4e209a1781e0419a9bd8",
              "IPY_MODEL_b28c46b598a2417b9afdcb26c17be708"
            ],
            "layout": "IPY_MODEL_9fb5f536977e427e8717f916656bcc6d"
          }
        },
        "4b3ce4cbdeb34117829c1d31e3807e40": {
          "model_module": "@jupyter-widgets/controls",
          "model_name": "HTMLModel",
          "model_module_version": "1.5.0",
          "state": {
            "_dom_classes": [],
            "_model_module": "@jupyter-widgets/controls",
            "_model_module_version": "1.5.0",
            "_model_name": "HTMLModel",
            "_view_count": null,
            "_view_module": "@jupyter-widgets/controls",
            "_view_module_version": "1.5.0",
            "_view_name": "HTMLView",
            "description": "",
            "description_tooltip": null,
            "layout": "IPY_MODEL_b63302acb79b497e9b62c914a28fbc25",
            "placeholder": "​",
            "style": "IPY_MODEL_1494c9883c774c71a75512a0e07db35b",
            "value": "Generating test split:  98%"
          }
        },
        "808b6d8d960a4e209a1781e0419a9bd8": {
          "model_module": "@jupyter-widgets/controls",
          "model_name": "FloatProgressModel",
          "model_module_version": "1.5.0",
          "state": {
            "_dom_classes": [],
            "_model_module": "@jupyter-widgets/controls",
            "_model_module_version": "1.5.0",
            "_model_name": "FloatProgressModel",
            "_view_count": null,
            "_view_module": "@jupyter-widgets/controls",
            "_view_module_version": "1.5.0",
            "_view_name": "ProgressView",
            "bar_style": "",
            "description": "",
            "description_tooltip": null,
            "layout": "IPY_MODEL_06fb6d51f9334f568a205bb6f63fd52b",
            "max": 50000,
            "min": 0,
            "orientation": "horizontal",
            "style": "IPY_MODEL_22af8da29db74058b6a76559dcf860c2",
            "value": 50000
          }
        },
        "b28c46b598a2417b9afdcb26c17be708": {
          "model_module": "@jupyter-widgets/controls",
          "model_name": "HTMLModel",
          "model_module_version": "1.5.0",
          "state": {
            "_dom_classes": [],
            "_model_module": "@jupyter-widgets/controls",
            "_model_module_version": "1.5.0",
            "_model_name": "HTMLModel",
            "_view_count": null,
            "_view_module": "@jupyter-widgets/controls",
            "_view_module_version": "1.5.0",
            "_view_name": "HTMLView",
            "description": "",
            "description_tooltip": null,
            "layout": "IPY_MODEL_6e156a3db83c4212835887de7c81b479",
            "placeholder": "​",
            "style": "IPY_MODEL_3f9bf30493244fd48adb6f6d084fddd4",
            "value": " 49180/50000 [00:05&lt;00:00, 21568.96 examples/s]"
          }
        },
        "9fb5f536977e427e8717f916656bcc6d": {
          "model_module": "@jupyter-widgets/base",
          "model_name": "LayoutModel",
          "model_module_version": "1.2.0",
          "state": {
            "_model_module": "@jupyter-widgets/base",
            "_model_module_version": "1.2.0",
            "_model_name": "LayoutModel",
            "_view_count": null,
            "_view_module": "@jupyter-widgets/base",
            "_view_module_version": "1.2.0",
            "_view_name": "LayoutView",
            "align_content": null,
            "align_items": null,
            "align_self": null,
            "border": null,
            "bottom": null,
            "display": null,
            "flex": null,
            "flex_flow": null,
            "grid_area": null,
            "grid_auto_columns": null,
            "grid_auto_flow": null,
            "grid_auto_rows": null,
            "grid_column": null,
            "grid_gap": null,
            "grid_row": null,
            "grid_template_areas": null,
            "grid_template_columns": null,
            "grid_template_rows": null,
            "height": null,
            "justify_content": null,
            "justify_items": null,
            "left": null,
            "margin": null,
            "max_height": null,
            "max_width": null,
            "min_height": null,
            "min_width": null,
            "object_fit": null,
            "object_position": null,
            "order": null,
            "overflow": null,
            "overflow_x": null,
            "overflow_y": null,
            "padding": null,
            "right": null,
            "top": null,
            "visibility": null,
            "width": null
          }
        },
        "b63302acb79b497e9b62c914a28fbc25": {
          "model_module": "@jupyter-widgets/base",
          "model_name": "LayoutModel",
          "model_module_version": "1.2.0",
          "state": {
            "_model_module": "@jupyter-widgets/base",
            "_model_module_version": "1.2.0",
            "_model_name": "LayoutModel",
            "_view_count": null,
            "_view_module": "@jupyter-widgets/base",
            "_view_module_version": "1.2.0",
            "_view_name": "LayoutView",
            "align_content": null,
            "align_items": null,
            "align_self": null,
            "border": null,
            "bottom": null,
            "display": null,
            "flex": null,
            "flex_flow": null,
            "grid_area": null,
            "grid_auto_columns": null,
            "grid_auto_flow": null,
            "grid_auto_rows": null,
            "grid_column": null,
            "grid_gap": null,
            "grid_row": null,
            "grid_template_areas": null,
            "grid_template_columns": null,
            "grid_template_rows": null,
            "height": null,
            "justify_content": null,
            "justify_items": null,
            "left": null,
            "margin": null,
            "max_height": null,
            "max_width": null,
            "min_height": null,
            "min_width": null,
            "object_fit": null,
            "object_position": null,
            "order": null,
            "overflow": null,
            "overflow_x": null,
            "overflow_y": null,
            "padding": null,
            "right": null,
            "top": null,
            "visibility": null,
            "width": null
          }
        },
        "1494c9883c774c71a75512a0e07db35b": {
          "model_module": "@jupyter-widgets/controls",
          "model_name": "DescriptionStyleModel",
          "model_module_version": "1.5.0",
          "state": {
            "_model_module": "@jupyter-widgets/controls",
            "_model_module_version": "1.5.0",
            "_model_name": "DescriptionStyleModel",
            "_view_count": null,
            "_view_module": "@jupyter-widgets/base",
            "_view_module_version": "1.2.0",
            "_view_name": "StyleView",
            "description_width": ""
          }
        },
        "06fb6d51f9334f568a205bb6f63fd52b": {
          "model_module": "@jupyter-widgets/base",
          "model_name": "LayoutModel",
          "model_module_version": "1.2.0",
          "state": {
            "_model_module": "@jupyter-widgets/base",
            "_model_module_version": "1.2.0",
            "_model_name": "LayoutModel",
            "_view_count": null,
            "_view_module": "@jupyter-widgets/base",
            "_view_module_version": "1.2.0",
            "_view_name": "LayoutView",
            "align_content": null,
            "align_items": null,
            "align_self": null,
            "border": null,
            "bottom": null,
            "display": null,
            "flex": null,
            "flex_flow": null,
            "grid_area": null,
            "grid_auto_columns": null,
            "grid_auto_flow": null,
            "grid_auto_rows": null,
            "grid_column": null,
            "grid_gap": null,
            "grid_row": null,
            "grid_template_areas": null,
            "grid_template_columns": null,
            "grid_template_rows": null,
            "height": null,
            "justify_content": null,
            "justify_items": null,
            "left": null,
            "margin": null,
            "max_height": null,
            "max_width": null,
            "min_height": null,
            "min_width": null,
            "object_fit": null,
            "object_position": null,
            "order": null,
            "overflow": null,
            "overflow_x": null,
            "overflow_y": null,
            "padding": null,
            "right": null,
            "top": null,
            "visibility": null,
            "width": null
          }
        },
        "22af8da29db74058b6a76559dcf860c2": {
          "model_module": "@jupyter-widgets/controls",
          "model_name": "ProgressStyleModel",
          "model_module_version": "1.5.0",
          "state": {
            "_model_module": "@jupyter-widgets/controls",
            "_model_module_version": "1.5.0",
            "_model_name": "ProgressStyleModel",
            "_view_count": null,
            "_view_module": "@jupyter-widgets/base",
            "_view_module_version": "1.2.0",
            "_view_name": "StyleView",
            "bar_color": null,
            "description_width": ""
          }
        },
        "6e156a3db83c4212835887de7c81b479": {
          "model_module": "@jupyter-widgets/base",
          "model_name": "LayoutModel",
          "model_module_version": "1.2.0",
          "state": {
            "_model_module": "@jupyter-widgets/base",
            "_model_module_version": "1.2.0",
            "_model_name": "LayoutModel",
            "_view_count": null,
            "_view_module": "@jupyter-widgets/base",
            "_view_module_version": "1.2.0",
            "_view_name": "LayoutView",
            "align_content": null,
            "align_items": null,
            "align_self": null,
            "border": null,
            "bottom": null,
            "display": null,
            "flex": null,
            "flex_flow": null,
            "grid_area": null,
            "grid_auto_columns": null,
            "grid_auto_flow": null,
            "grid_auto_rows": null,
            "grid_column": null,
            "grid_gap": null,
            "grid_row": null,
            "grid_template_areas": null,
            "grid_template_columns": null,
            "grid_template_rows": null,
            "height": null,
            "justify_content": null,
            "justify_items": null,
            "left": null,
            "margin": null,
            "max_height": null,
            "max_width": null,
            "min_height": null,
            "min_width": null,
            "object_fit": null,
            "object_position": null,
            "order": null,
            "overflow": null,
            "overflow_x": null,
            "overflow_y": null,
            "padding": null,
            "right": null,
            "top": null,
            "visibility": null,
            "width": null
          }
        },
        "3f9bf30493244fd48adb6f6d084fddd4": {
          "model_module": "@jupyter-widgets/controls",
          "model_name": "DescriptionStyleModel",
          "model_module_version": "1.5.0",
          "state": {
            "_model_module": "@jupyter-widgets/controls",
            "_model_module_version": "1.5.0",
            "_model_name": "DescriptionStyleModel",
            "_view_count": null,
            "_view_module": "@jupyter-widgets/base",
            "_view_module_version": "1.2.0",
            "_view_name": "StyleView",
            "description_width": ""
          }
        }
      }
    },
    "gpuClass": "standard"
  },
  "nbformat": 4,
  "nbformat_minor": 0
}