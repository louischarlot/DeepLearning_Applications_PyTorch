{
  "cells": [
    {
      "cell_type": "markdown",
      "metadata": {
        "id": "5nvhJqpkqeQZ"
      },
      "source": [
        "# Image Classification: Implementation of ResNet from scratch\n",
        "\n",
        "In this second notebook, we implement the classification of the [CIFAR10 dataset](https://www.cs.toronto.edu/~kriz/cifar.html), containing 32x32 colour images divided into 10 classes (cats, birds, airplanes, etc.).\n",
        "\n",
        "Contrary to our first work, where we used transfer learning, here, we have to build a Residual Neuronal Newtork ([ResNet](https://arxiv.org/abs/1512.03385)) and train it by ourselves, to differentialte the different classes of the dataset.\n",
        "\n",
        "Indeed, the **pre-trained** models of *torchvision* are trained on large size images, and therefore are not adapted to smaller images like the ones of the CIFAR10 dataset (see the introductive remarks of the previous notebook).\n"
      ]
    },
    {
      "cell_type": "code",
      "execution_count": 2,
      "metadata": {
        "id": "9uM_lvsCqeQb"
      },
      "outputs": [],
      "source": [
        "import matplotlib.pyplot as plt\n",
        "import numpy as np\n",
        "\n",
        "import torch\n",
        "from torch import nn\n",
        "from torch import optim\n",
        "import torch.nn.functional as F\n",
        "from torchvision import datasets, transforms, utils\n",
        "import torchvision.models as models\n",
        "from torch.utils.data.sampler import SubsetRandomSampler\n"
      ]
    },
    {
      "cell_type": "markdown",
      "metadata": {
        "id": "GptAUUFLqeQc"
      },
      "source": [
        "We use here the **torchvision** library ([click here for more details](https://pytorch.org/vision/stable/index.html)). This library is part of the Pytorch project, and consists of popular datasets, model architectures, and common image transformations for computer vision."
      ]
    },
    {
      "cell_type": "markdown",
      "metadata": {
        "id": "IttctaFPqeQd"
      },
      "source": [
        "## Data Augmentation \n",
        "\n",
        "We randomly rotate, flip and crop the input images, in order to introduce some randomness. This will improve the training of our network, by making our predictions more robust to image transformations. "
      ]
    },
    {
      "cell_type": "code",
      "source": [
        "# number of subprocesses to use for data loading\n",
        "num_workers = 0\n",
        "# how many samples per batch to load\n",
        "batch_size = 500\n",
        "# percentage of training set to use as validation\n",
        "valid_size = 0.2\n",
        "\n",
        "# We define the transforms for the training data and testing data\n",
        "train_transform = transforms.Compose([\n",
        "    transforms.ToTensor(),\n",
        "    transforms.RandomHorizontalFlip(),\n",
        "    transforms.Normalize([0.485, 0.456, 0.406],\n",
        "                         [0.229, 0.224, 0.225])\n",
        "    ])\n",
        "\n",
        "test_transform = transforms.Compose([\n",
        "    transforms.ToTensor(),\n",
        "    transforms.Normalize([0.485, 0.456, 0.406],\n",
        "                         [0.229, 0.224, 0.225])\n",
        "    ])\n",
        "\n",
        "# We load the training and test data\n",
        "train_data = datasets.CIFAR10(root='./data', download=True, train=True, transform=train_transform)\n",
        "test_data = datasets.CIFAR10(root='./data', download=True, train=False, transform=test_transform)\n",
        "\n",
        "# We choose the indices that will be used to split the training data into train and validation\n",
        "num_train = len(train_data)\n",
        "indices = list(range(num_train))\n",
        "np.random.shuffle(indices)\n",
        "split = int(np.floor(valid_size * num_train))\n",
        "train_idx, valid_idx = indices[split:], indices[:split]\n",
        "\n",
        "# We define the samplers to choose the training and validation batches\n",
        "train_sampler = SubsetRandomSampler(train_idx)\n",
        "valid_sampler = SubsetRandomSampler(valid_idx)\n",
        "\n",
        "# We build the data loaders (combining the dataset and the sampler), \n",
        "# to get the train, validation, and test data\n",
        "trainloader = torch.utils.data.DataLoader(train_data, batch_size=batch_size,\n",
        "    sampler=train_sampler, num_workers=num_workers)\n",
        "validloader = torch.utils.data.DataLoader(train_data, batch_size=batch_size, \n",
        "    sampler=valid_sampler, num_workers=num_workers)\n",
        "testloader = torch.utils.data.DataLoader(test_data, batch_size=batch_size, \n",
        "    num_workers=num_workers)\n",
        "\n",
        "# specify the image classes\n",
        "classes = ['airplane', 'automobile', 'bird', 'cat', 'deer',\n",
        "           'dog', 'frog', 'horse', 'ship', 'truck']"
      ],
      "metadata": {
        "colab": {
          "base_uri": "https://localhost:8080/",
          "height": 104,
          "referenced_widgets": [
            "955f62b8cde24e41b456d9b3411543ad",
            "044f5ba7ee91412e84318bbf134bcc10",
            "113a6a47933f46fda648a9b6e3a1c396",
            "d7979e9e32c24a3e8473547b36550e01",
            "b70647e3ce814ee8949639e8586d81d7",
            "4ed6f79863494dd6b570758fdf37f8bb",
            "bfe5ed16f3a4485fbfaf496f066b39ab",
            "3449acee776c44c48ab695de370fb809",
            "9f5f13892e4c4fcf8e55859c9a8d4e81",
            "8e57bfdf5ea44d60b027ba5638da1e16",
            "74fdcdd3c9b444449181f2cbb15673b9"
          ]
        },
        "id": "QWXNc3hvqyVi",
        "outputId": "e19fe708-6da4-4b0f-abeb-e01a271962b2"
      },
      "execution_count": 3,
      "outputs": [
        {
          "output_type": "stream",
          "name": "stdout",
          "text": [
            "Downloading https://www.cs.toronto.edu/~kriz/cifar-10-python.tar.gz to ./data/cifar-10-python.tar.gz\n"
          ]
        },
        {
          "output_type": "display_data",
          "data": {
            "text/plain": [
              "  0%|          | 0/170498071 [00:00<?, ?it/s]"
            ],
            "application/vnd.jupyter.widget-view+json": {
              "version_major": 2,
              "version_minor": 0,
              "model_id": "955f62b8cde24e41b456d9b3411543ad"
            }
          },
          "metadata": {}
        },
        {
          "output_type": "stream",
          "name": "stdout",
          "text": [
            "Extracting ./data/cifar-10-python.tar.gz to ./data\n",
            "Files already downloaded and verified\n"
          ]
        }
      ]
    },
    {
      "cell_type": "markdown",
      "metadata": {
        "id": "NXTqzFk0qeQf"
      },
      "source": [
        "We look at a batch of images to see if they have been loaded well."
      ]
    },
    {
      "cell_type": "code",
      "execution_count": 4,
      "metadata": {
        "colab": {
          "base_uri": "https://localhost:8080/",
          "height": 240
        },
        "id": "BNu-J-McqeQf",
        "outputId": "bf1aa07c-4e31-41fc-d839-87f4f5362f5b"
      },
      "outputs": [
        {
          "output_type": "stream",
          "name": "stderr",
          "text": [
            "Clipping input data to the valid range for imshow with RGB data ([0..1] for floats or [0..255] for integers).\n"
          ]
        },
        {
          "output_type": "display_data",
          "data": {
            "text/plain": [
              "<Figure size 432x288 with 1 Axes>"
            ],
            "image/png": "[encoded data removed]"
          },
          "metadata": {
            "needs_background": "light"
          }
        }
      ],
      "source": [
        "def imshow(img):\n",
        "    npimg = img.numpy()\n",
        "    plt.imshow(np.transpose(npimg, (1, 2, 0)))  # from torch to plt image format\n",
        "    plt.show()\n",
        "\n",
        "# We get some random training images\n",
        "dataiter = iter(trainloader)\n",
        "images, labels = dataiter.next()\n",
        "\n",
        "# We show some images\n",
        "imshow(utils.make_grid(images[0:2]))"
      ]
    },
    {
      "cell_type": "markdown",
      "metadata": {
        "id": "pdG_3s2qqeQi"
      },
      "source": [
        "## ResNet Implementation\n",
        "\n",
        "We now implement our neuronal network: a ResNet model, that will permit to classify our images.\n",
        "\n",
        "More precisely, we implement the 18-layers Resnet presented in the article by [Kaiming He, Xiangyu Zhang, Shaoqing Ren, and Jian Sun](https://arxiv.org/abs/1512.03385) (2015).\n",
        "\n",
        "We implement the **convolutional block**, that will be repeated several times in the ResNet, following the recommendations of the article:\n",
        "- we use 2 *convolutional layers*,\n",
        "- each convolutional layer is followed by a *batch normalization*,\n",
        "- the first convolutional layer output is activated by a *relu*,\n",
        "- the second convolutional layer output is added to the *identity shortout connection*, before being activated by a *relu*."
      ]
    },
    {
      "cell_type": "code",
      "execution_count": 5,
      "metadata": {
        "id": "NQfODC0xqeQi"
      },
      "outputs": [],
      "source": [
        "# We implement the convalutional block just described\n",
        "\n",
        "class ConvBlock(nn.Module):\n",
        "    \n",
        "    def __init__(self, in_channels, out_channels, stride=1):\n",
        "        super(ConvBlock, self).__init__()\n",
        "        self.conv1 = nn.Conv2d(in_channels, out_channels, kernel_size=3, stride=stride, padding=1)\n",
        "        self.bn1 = nn.BatchNorm2d(out_channels)\n",
        "        self.conv2 = nn.Conv2d(out_channels, out_channels, kernel_size=3, stride=1, padding=1)\n",
        "        self.bn2 = nn.BatchNorm2d(out_channels)\n",
        "        self.relu = nn.ReLU()\n",
        "        # To avoid a dimensionality problem with the shortcut addition (when stride!=1)\n",
        "        self.shortcut = nn.Sequential()\n",
        "        if stride != 1 or in_channels != out_channels:\n",
        "            self.shortcut = nn.Sequential(\n",
        "                nn.Conv2d(in_channels, out_channels, kernel_size=1, stride=stride, bias=False),\n",
        "                nn.BatchNorm2d(out_channels)\n",
        "            )\n",
        "        \n",
        "    def forward(self, x):\n",
        "        identity = x\n",
        "        x = self.conv1(x)\n",
        "        x = self.bn1(x)\n",
        "        x = self.relu(x)\n",
        "        x = self.conv2(x)\n",
        "        x = self.bn2(x)\n",
        "        x += self.shortcut(identity)\n",
        "        x = self.relu(x)\n",
        "        return x\n"
      ]
    },
    {
      "cell_type": "markdown",
      "source": [
        "We then implement the **ResNet18** by repeating several times the convalutional block, always following [Kaiming He, Xiangyu Zhang, Shaoqing Ren, and Jian Sun](https://arxiv.org/abs/1512.03385) (2015)."
      ],
      "metadata": {
        "id": "y7mn6R0O0Hcs"
      }
    },
    {
      "cell_type": "code",
      "source": [
        "class ResNet(nn.Module):\n",
        "    \n",
        "    def __init__(self, image_channels, num_classes):\n",
        "        \n",
        "        super(ResNet, self).__init__()\n",
        "\n",
        "        #####################\n",
        "        #####################\n",
        "        # SUPPRIMER ?\n",
        "        # self.in_channels = 64\n",
        "        #####################\n",
        "        #####################\n",
        "\n",
        "        ##########################################\n",
        "        # Initial step: convolution + batch normalization + max pooling operation\n",
        "        ##########################################\n",
        "        # We have image_size = 32\n",
        "        # thus output_size = (32 + 2x1 - 3)/1 + 1 = 32\n",
        "        self.conv1 = nn.Conv2d(in_channels = image_channels, out_channels = 64, kernel_size = 3, stride = 1, padding = 1)\n",
        "        self.bn1 = nn.BatchNorm2d(64)\n",
        "        self.relu = nn.ReLU()\n",
        "        self.maxpool = nn.MaxPool2d(kernel_size=3, stride=2, padding=1)\n",
        "\n",
        "\n",
        "        ##########################################\n",
        "        # Central step: convolutional blocks \n",
        "        ##########################################\n",
        "        self.bigblock1 = nn.Sequential(\n",
        "            ConvBlock(in_channels = 64, out_channels = 64, stride = 1),\n",
        "            ConvBlock(64,64)\n",
        "        )\n",
        "        # We double the number of channels and take a stride of 2 to compensate:\n",
        "        self.bigblock2 = nn.Sequential(\n",
        "            ConvBlock(64,128, stride = 2),\n",
        "            ConvBlock(128,128)\n",
        "        )\n",
        "        self.bigblock3 = nn.Sequential(\n",
        "            ConvBlock(128,256, stride = 2),\n",
        "            ConvBlock(256,256)\n",
        "        )\n",
        "        self.bigblock4 = nn.Sequential(\n",
        "            ConvBlock(256,512, stride = 2),\n",
        "            ConvBlock(512,512)\n",
        "        )\n",
        "        \n",
        "        self.avgpool = nn.AdaptiveAvgPool2d((1, 1))\n",
        "        self.fc = nn.Linear(512, num_classes)\n",
        "\n",
        "        \n",
        "    def forward(self, x):\n",
        "        \n",
        "        x = self.conv1(x)\n",
        "        x = self.bn1(x)\n",
        "        x = self.relu(x)\n",
        "        x = self.maxpool(x)\n",
        "        \n",
        "        x = self.bigblock1(x)\n",
        "        x = self.bigblock2(x)\n",
        "        x = self.bigblock3(x)\n",
        "        x = self.bigblock4(x)\n",
        "        \n",
        "        x = self.avgpool(x)\n",
        "        x = x.view(x.shape[0], -1)\n",
        "        x = self.fc(x)\n",
        "        return x \n"
      ],
      "metadata": {
        "id": "RreoRiwh0Hy3"
      },
      "execution_count": 6,
      "outputs": []
    },
    {
      "cell_type": "markdown",
      "source": [
        "We define the ResNet model with 10 classes output."
      ],
      "metadata": {
        "id": "yaqEk-yeThxF"
      }
    },
    {
      "cell_type": "code",
      "source": [
        "model = ResNet(image_channels = 3, num_classes = 10)"
      ],
      "metadata": {
        "id": "Zp9bzI9MTaOb"
      },
      "execution_count": 7,
      "outputs": []
    },
    {
      "cell_type": "markdown",
      "metadata": {
        "id": "28jfIlR_qeQk"
      },
      "source": [
        "We use the *Cross Entropy* loss function and the *Adam* optimizer."
      ]
    },
    {
      "cell_type": "code",
      "execution_count": 8,
      "metadata": {
        "id": "u6yd1O2TqeQk"
      },
      "outputs": [],
      "source": [
        "# We define the loss criterion\n",
        "criterion = nn.CrossEntropyLoss()\n",
        "\n",
        "# Only train the classifier parameters, feature parameters are frozen\n",
        "optimizer = optim.Adam(model.parameters(), lr=0.003)\n",
        "\n",
        "# We use GPU if it's available, and the CPU otherwise\n",
        "device = torch.device(\"cuda\" if torch.cuda.is_available() else \"cpu\")\n",
        "model.to(device);"
      ]
    },
    {
      "cell_type": "markdown",
      "metadata": {
        "id": "P09i4BVKqeQl"
      },
      "source": [
        "## Training\n",
        "\n",
        "We implement the training of our model, with the training and the validation datsets.\n",
        "\n"
      ]
    },
    {
      "cell_type": "code",
      "execution_count": 9,
      "metadata": {
        "colab": {
          "base_uri": "https://localhost:8080/"
        },
        "id": "6V5SbHw_qeQl",
        "outputId": "4e37072f-f8d3-450b-fc5a-8fa470045f4e"
      },
      "outputs": [
        {
          "output_type": "stream",
          "name": "stdout",
          "text": [
            "Epoch: 1 \tTraining Loss: 1.596669 \tValidation Loss: 1.279124 \tValidation Accuracy: 0.540600\n",
            "Validation loss decreased (inf --> 1.279124).  Saving model ...\n",
            "Epoch: 2 \tTraining Loss: 1.079708 \tValidation Loss: 0.989252 \tValidation Accuracy: 0.643100\n",
            "Validation loss decreased (1.279124 --> 0.989252).  Saving model ...\n",
            "Epoch: 3 \tTraining Loss: 0.868820 \tValidation Loss: 0.954296 \tValidation Accuracy: 0.663000\n",
            "Validation loss decreased (0.989252 --> 0.954296).  Saving model ...\n",
            "Epoch: 4 \tTraining Loss: 0.709983 \tValidation Loss: 0.817408 \tValidation Accuracy: 0.725100\n",
            "Validation loss decreased (0.954296 --> 0.817408).  Saving model ...\n",
            "Epoch: 5 \tTraining Loss: 0.605233 \tValidation Loss: 0.704379 \tValidation Accuracy: 0.761300\n",
            "Validation loss decreased (0.817408 --> 0.704379).  Saving model ...\n",
            "Epoch: 6 \tTraining Loss: 0.523800 \tValidation Loss: 0.669286 \tValidation Accuracy: 0.774900\n",
            "Validation loss decreased (0.704379 --> 0.669286).  Saving model ...\n",
            "Epoch: 7 \tTraining Loss: 0.448208 \tValidation Loss: 0.701314 \tValidation Accuracy: 0.768500\n",
            "Epoch: 8 \tTraining Loss: 0.385235 \tValidation Loss: 0.685885 \tValidation Accuracy: 0.779300\n",
            "Epoch: 9 \tTraining Loss: 0.331614 \tValidation Loss: 0.627835 \tValidation Accuracy: 0.797700\n",
            "Validation loss decreased (0.669286 --> 0.627835).  Saving model ...\n",
            "Epoch: 10 \tTraining Loss: 0.280399 \tValidation Loss: 0.675528 \tValidation Accuracy: 0.796100\n",
            "Epoch: 11 \tTraining Loss: 0.244031 \tValidation Loss: 0.678633 \tValidation Accuracy: 0.797500\n",
            "Epoch: 12 \tTraining Loss: 0.210530 \tValidation Loss: 0.758053 \tValidation Accuracy: 0.788500\n",
            "Epoch: 13 \tTraining Loss: 0.176523 \tValidation Loss: 0.650265 \tValidation Accuracy: 0.810700\n",
            "Epoch: 14 \tTraining Loss: 0.153366 \tValidation Loss: 0.681500 \tValidation Accuracy: 0.820400\n",
            "Epoch: 15 \tTraining Loss: 0.138377 \tValidation Loss: 0.711324 \tValidation Accuracy: 0.810700\n",
            "Epoch: 16 \tTraining Loss: 0.109703 \tValidation Loss: 0.714082 \tValidation Accuracy: 0.814200\n",
            "Epoch: 17 \tTraining Loss: 0.097428 \tValidation Loss: 0.701670 \tValidation Accuracy: 0.824200\n",
            "Epoch: 18 \tTraining Loss: 0.084486 \tValidation Loss: 0.790421 \tValidation Accuracy: 0.816700\n",
            "Epoch: 19 \tTraining Loss: 0.080612 \tValidation Loss: 0.861510 \tValidation Accuracy: 0.804600\n",
            "Epoch: 20 \tTraining Loss: 0.072239 \tValidation Loss: 0.792033 \tValidation Accuracy: 0.823300\n"
          ]
        }
      ],
      "source": [
        "# Number of epochs used to train the model\n",
        "n_epochs = 20\n",
        "\n",
        "# Variables to keep track of the change in validation loss, to save the best model\n",
        "valid_loss_min = np.Inf \n",
        "best_accuracy = 0.0\n",
        "\n",
        "# Variables to keep the accuracies calculated at each epoch in order to plot them later\n",
        "epoch_all = []  \n",
        "valid_epoch_acc_all = []\n",
        "train_epoch_acc_all = []\n",
        "\n",
        "for epoch in range(1, n_epochs+1):\n",
        "\n",
        "    # To keep track of training and validation loss and accuracy\n",
        "    train_loss = 0.0\n",
        "    valid_loss = 0.0\n",
        "    valid_running_corrects = 0\n",
        "    train_running_corrects = 0\n",
        "    \n",
        "    ###################\n",
        "    # train the model #\n",
        "    ###################\n",
        "    model.train()\n",
        "    for images, labels in trainloader:\n",
        "        # move tensors to GPU if CUDA is available\n",
        "        images, labels = images.to(device), labels.to(device)\n",
        "        # clear the gradients of all optimized variables\n",
        "        optimizer.zero_grad()\n",
        "        # forward pass: compute predicted outputs by passing images to the model\n",
        "        output = model.forward(images)\n",
        "        # calculate the batch loss\n",
        "        loss = criterion(output, labels)\n",
        "        # backward pass: compute gradient of the loss with respect to model parameters\n",
        "        loss.backward()\n",
        "        # perform a single optimization step (parameter update)\n",
        "        optimizer.step()\n",
        "        # update training loss\n",
        "        train_loss += loss.item()*images.size(0)\n",
        "        # to calculate the training set accuracy later: \n",
        "        # take as prediction the label with highest output (highest probability)\n",
        "        _, pred = torch.max(output, 1)\n",
        "        # total number of correct predictions\n",
        "        train_running_corrects += torch.sum(pred == labels)\n",
        "        \n",
        "    ######################    \n",
        "    # validate the model #\n",
        "    ######################\n",
        "    model.eval()\n",
        "    for images, labels in validloader:\n",
        "        # move tensors to GPU if CUDA is available\n",
        "        images, labels = images.to(device), labels.to(device)\n",
        "        # forward pass: compute predicted outputs by passing images to the model\n",
        "        output = model.forward(images)\n",
        "        # calculate the batch loss\n",
        "        loss = criterion(output, labels)\n",
        "        # update average validation loss \n",
        "        valid_loss += loss.item()*images.size(0)\n",
        "        # to calculate the validation accuracy later: \n",
        "        # take as prediction the label with highest output (highest probability)\n",
        "        _, pred = torch.max(output, 1)\n",
        "        # total number of correct predictions\n",
        "        valid_running_corrects += torch.sum(pred == labels)\n",
        "    \n",
        "    # calculate average losses\n",
        "    train_loss = train_loss/len(trainloader.sampler)\n",
        "    valid_loss = valid_loss/len(validloader.sampler)\n",
        "    \n",
        "    # calculate accuracy\n",
        "    train_epoch_acc = train_running_corrects.double() / len(trainloader.sampler)\n",
        "    valid_epoch_acc = valid_running_corrects.double() / len(validloader.sampler)\n",
        "        \n",
        "    # print training/validation statistics \n",
        "    print('Epoch: {} \\tTraining Loss: {:.6f} \\tValidation Loss: {:.6f} \\tValidation Accuracy: {:.6f}'.format(\n",
        "        epoch, train_loss, valid_loss,valid_epoch_acc))\n",
        "    \n",
        "    # save model if validation loss has decreased\n",
        "    if valid_loss <= valid_loss_min:\n",
        "        print('Validation loss decreased ({:.6f} --> {:.6f}).  Saving model ...'.format(\n",
        "        valid_loss_min,\n",
        "        valid_loss))\n",
        "        torch.save(model.state_dict(), 'model_stl10.pt')\n",
        "        valid_loss_min = valid_loss\n",
        "\n",
        "    # We keep the accuracies at each epoch, to plot them later, and transfer them to the cpu\n",
        "    # in order to convert the values into a numpy array and plot them\n",
        "    epoch_all.append(epoch)    \n",
        "    valid_epoch_acc_all.append(valid_epoch_acc.cpu())\n",
        "    train_epoch_acc_all.append(train_epoch_acc.cpu())"
      ]
    },
    {
      "cell_type": "code",
      "execution_count": 10,
      "metadata": {
        "colab": {
          "base_uri": "https://localhost:8080/",
          "height": 297
        },
        "id": "PxwDvH3VqeQn",
        "outputId": "3020f8dd-b20a-4fba-ec98-2005ea57e8a5"
      },
      "outputs": [
        {
          "output_type": "display_data",
          "data": {
            "text/plain": [
              "<Figure size 432x288 with 1 Axes>"
            ],
            "image/png": "[encoded data removed]"
          },
          "metadata": {
            "needs_background": "light"
          }
        }
      ],
      "source": [
        "plt.plot(epoch_all, valid_epoch_acc_all, label=\"validation accuracy\", color=\"red\", linestyle='-.')\n",
        "#plt.plot(epoch_all, train_epoch_acc_all, label=\"training accuracy\", color=\"blue\",linestyle='-.')\n",
        "plt.title(\"ResNet model on the CIFAR10 dataset: accuracy per epoch\")\n",
        "plt.legend()\n",
        "plt.tight_layout()\n",
        "plt.show()"
      ]
    },
    {
      "cell_type": "markdown",
      "source": [
        "# Test of the model\n",
        "\n",
        "We finally implement a test of the model accuracy, on the test dataset, that has not been used in the model training."
      ],
      "metadata": {
        "id": "3h5KUn2ItLvp"
      }
    },
    {
      "cell_type": "code",
      "execution_count": 12,
      "metadata": {
        "colab": {
          "base_uri": "https://localhost:8080/"
        },
        "id": "Vi2ukfkCqeQo",
        "outputId": "bc097a66-7441-458b-dc23-bc7d4ef2f1c6"
      },
      "outputs": [
        {
          "output_type": "stream",
          "name": "stdout",
          "text": [
            "\tTest Loss: 0.649030 \tTest Accuracy: 0.791300\n"
          ]
        }
      ],
      "source": [
        "# We test our best model (the one with the lowest validation loss)\n",
        "model.load_state_dict(torch.load('model_stl10.pt'))\n",
        "\n",
        "\n",
        "# To keep track of test loss and accuracy\n",
        "test_loss = 0.0\n",
        "test_running_corrects = 0\n",
        "\n",
        "\n",
        "model.eval()\n",
        "for images, labels in testloader:\n",
        "    # move tensors to GPU if CUDA is available\n",
        "    images, labels = images.to(device), labels.to(device)\n",
        "    # forward pass: compute predicted outputs by passing images to the model\n",
        "    output = model.forward(images)\n",
        "    # calculate the batch loss\n",
        "    loss = criterion(output, labels)\n",
        "    # update average test loss \n",
        "    test_loss += loss.item()*images.size(0)\n",
        "    # to calculate the test accuracy later: \n",
        "    # take as prediction the label with highest output (highest probability)\n",
        "    _, pred = torch.max(output, 1)\n",
        "    # total number of correct predictions\n",
        "    test_running_corrects += torch.sum(pred == labels)\n",
        "\n",
        "\n",
        "# calculate average loss\n",
        "test_loss = test_loss/len(testloader.sampler)\n",
        "    \n",
        "# claculate accuracy\n",
        "test_epoch_acc = test_running_corrects.double() / len(testloader.sampler)\n",
        "        \n",
        "# print training/validation statistics \n",
        "print('\\tTest Loss: {:.6f} \\tTest Accuracy: {:.6f}'.format(\n",
        "    test_loss,test_epoch_acc))"
      ]
    },
    {
      "cell_type": "markdown",
      "source": [
        "We finally get a **79%** test accuracy with our model !"
      ],
      "metadata": {
        "id": "7zvcP9MntUcw"
      }
    }
  ],
  "metadata": {
    "kernelspec": {
      "display_name": "Python 3",
      "language": "python",
      "name": "python3"
    },
    "language_info": {
      "codemirror_mode": {
        "name": "ipython",
        "version": 3
      },
      "file_extension": ".py",
      "mimetype": "text/x-python",
      "name": "python",
      "nbconvert_exporter": "python",
      "pygments_lexer": "ipython3",
      "version": "3.8.12"
    },
    "colab": {
      "name": "Image_classification_implemented.ipynb",
      "provenance": [],
      "collapsed_sections": []
    },
    "accelerator": "GPU",
    "widgets": {
      "application/vnd.jupyter.widget-state+json": {
        "955f62b8cde24e41b456d9b3411543ad": {
          "model_module": "@jupyter-widgets/controls",
          "model_name": "HBoxModel",
          "model_module_version": "1.5.0",
          "state": {
            "_dom_classes": [],
            "_model_module": "@jupyter-widgets/controls",
            "_model_module_version": "1.5.0",
            "_model_name": "HBoxModel",
            "_view_count": null,
            "_view_module": "@jupyter-widgets/controls",
            "_view_module_version": "1.5.0",
            "_view_name": "HBoxView",
            "box_style": "",
            "children": [
              "IPY_MODEL_044f5ba7ee91412e84318bbf134bcc10",
              "IPY_MODEL_113a6a47933f46fda648a9b6e3a1c396",
              "IPY_MODEL_d7979e9e32c24a3e8473547b36550e01"
            ],
            "layout": "IPY_MODEL_b70647e3ce814ee8949639e8586d81d7"
          }
        },
        "044f5ba7ee91412e84318bbf134bcc10": {
          "model_module": "@jupyter-widgets/controls",
          "model_name": "HTMLModel",
          "model_module_version": "1.5.0",
          "state": {
            "_dom_classes": [],
            "_model_module": "@jupyter-widgets/controls",
            "_model_module_version": "1.5.0",
            "_model_name": "HTMLModel",
            "_view_count": null,
            "_view_module": "@jupyter-widgets/controls",
            "_view_module_version": "1.5.0",
            "_view_name": "HTMLView",
            "description": "",
            "description_tooltip": null,
            "layout": "IPY_MODEL_4ed6f79863494dd6b570758fdf37f8bb",
            "placeholder": "​",
            "style": "IPY_MODEL_bfe5ed16f3a4485fbfaf496f066b39ab",
            "value": ""
          }
        },
        "113a6a47933f46fda648a9b6e3a1c396": {
          "model_module": "@jupyter-widgets/controls",
          "model_name": "FloatProgressModel",
          "model_module_version": "1.5.0",
          "state": {
            "_dom_classes": [],
            "_model_module": "@jupyter-widgets/controls",
            "_model_module_version": "1.5.0",
            "_model_name": "FloatProgressModel",
            "_view_count": null,
            "_view_module": "@jupyter-widgets/controls",
            "_view_module_version": "1.5.0",
            "_view_name": "ProgressView",
            "bar_style": "success",
            "description": "",
            "description_tooltip": null,
            "layout": "IPY_MODEL_3449acee776c44c48ab695de370fb809",
            "max": 170498071,
            "min": 0,
            "orientation": "horizontal",
            "style": "IPY_MODEL_9f5f13892e4c4fcf8e55859c9a8d4e81",
            "value": 170498071
          }
        },
        "d7979e9e32c24a3e8473547b36550e01": {
          "model_module": "@jupyter-widgets/controls",
          "model_name": "HTMLModel",
          "model_module_version": "1.5.0",
          "state": {
            "_dom_classes": [],
            "_model_module": "@jupyter-widgets/controls",
            "_model_module_version": "1.5.0",
            "_model_name": "HTMLModel",
            "_view_count": null,
            "_view_module": "@jupyter-widgets/controls",
            "_view_module_version": "1.5.0",
            "_view_name": "HTMLView",
            "description": "",
            "description_tooltip": null,
            "layout": "IPY_MODEL_8e57bfdf5ea44d60b027ba5638da1e16",
            "placeholder": "​",
            "style": "IPY_MODEL_74fdcdd3c9b444449181f2cbb15673b9",
            "value": " 170499072/? [00:03&lt;00:00, 59285735.42it/s]"
          }
        },
        "b70647e3ce814ee8949639e8586d81d7": {
          "model_module": "@jupyter-widgets/base",
          "model_name": "LayoutModel",
          "model_module_version": "1.2.0",
          "state": {
            "_model_module": "@jupyter-widgets/base",
            "_model_module_version": "1.2.0",
            "_model_name": "LayoutModel",
            "_view_count": null,
            "_view_module": "@jupyter-widgets/base",
            "_view_module_version": "1.2.0",
            "_view_name": "LayoutView",
            "align_content": null,
            "align_items": null,
            "align_self": null,
            "border": null,
            "bottom": null,
            "display": null,
            "flex": null,
            "flex_flow": null,
            "grid_area": null,
            "grid_auto_columns": null,
            "grid_auto_flow": null,
            "grid_auto_rows": null,
            "grid_column": null,
            "grid_gap": null,
            "grid_row": null,
            "grid_template_areas": null,
            "grid_template_columns": null,
            "grid_template_rows": null,
            "height": null,
            "justify_content": null,
            "justify_items": null,
            "left": null,
            "margin": null,
            "max_height": null,
            "max_width": null,
            "min_height": null,
            "min_width": null,
            "object_fit": null,
            "object_position": null,
            "order": null,
            "overflow": null,
            "overflow_x": null,
            "overflow_y": null,
            "padding": null,
            "right": null,
            "top": null,
            "visibility": null,
            "width": null
          }
        },
        "4ed6f79863494dd6b570758fdf37f8bb": {
          "model_module": "@jupyter-widgets/base",
          "model_name": "LayoutModel",
          "model_module_version": "1.2.0",
          "state": {
            "_model_module": "@jupyter-widgets/base",
            "_model_module_version": "1.2.0",
            "_model_name": "LayoutModel",
            "_view_count": null,
            "_view_module": "@jupyter-widgets/base",
            "_view_module_version": "1.2.0",
            "_view_name": "LayoutView",
            "align_content": null,
            "align_items": null,
            "align_self": null,
            "border": null,
            "bottom": null,
            "display": null,
            "flex": null,
            "flex_flow": null,
            "grid_area": null,
            "grid_auto_columns": null,
            "grid_auto_flow": null,
            "grid_auto_rows": null,
            "grid_column": null,
            "grid_gap": null,
            "grid_row": null,
            "grid_template_areas": null,
            "grid_template_columns": null,
            "grid_template_rows": null,
            "height": null,
            "justify_content": null,
            "justify_items": null,
            "left": null,
            "margin": null,
            "max_height": null,
            "max_width": null,
            "min_height": null,
            "min_width": null,
            "object_fit": null,
            "object_position": null,
            "order": null,
            "overflow": null,
            "overflow_x": null,
            "overflow_y": null,
            "padding": null,
            "right": null,
            "top": null,
            "visibility": null,
            "width": null
          }
        },
        "bfe5ed16f3a4485fbfaf496f066b39ab": {
          "model_module": "@jupyter-widgets/controls",
          "model_name": "DescriptionStyleModel",
          "model_module_version": "1.5.0",
          "state": {
            "_model_module": "@jupyter-widgets/controls",
            "_model_module_version": "1.5.0",
            "_model_name": "DescriptionStyleModel",
            "_view_count": null,
            "_view_module": "@jupyter-widgets/base",
            "_view_module_version": "1.2.0",
            "_view_name": "StyleView",
            "description_width": ""
          }
        },
        "3449acee776c44c48ab695de370fb809": {
          "model_module": "@jupyter-widgets/base",
          "model_name": "LayoutModel",
          "model_module_version": "1.2.0",
          "state": {
            "_model_module": "@jupyter-widgets/base",
            "_model_module_version": "1.2.0",
            "_model_name": "LayoutModel",
            "_view_count": null,
            "_view_module": "@jupyter-widgets/base",
            "_view_module_version": "1.2.0",
            "_view_name": "LayoutView",
            "align_content": null,
            "align_items": null,
            "align_self": null,
            "border": null,
            "bottom": null,
            "display": null,
            "flex": null,
            "flex_flow": null,
            "grid_area": null,
            "grid_auto_columns": null,
            "grid_auto_flow": null,
            "grid_auto_rows": null,
            "grid_column": null,
            "grid_gap": null,
            "grid_row": null,
            "grid_template_areas": null,
            "grid_template_columns": null,
            "grid_template_rows": null,
            "height": null,
            "justify_content": null,
            "justify_items": null,
            "left": null,
            "margin": null,
            "max_height": null,
            "max_width": null,
            "min_height": null,
            "min_width": null,
            "object_fit": null,
            "object_position": null,
            "order": null,
            "overflow": null,
            "overflow_x": null,
            "overflow_y": null,
            "padding": null,
            "right": null,
            "top": null,
            "visibility": null,
            "width": null
          }
        },
        "9f5f13892e4c4fcf8e55859c9a8d4e81": {
          "model_module": "@jupyter-widgets/controls",
          "model_name": "ProgressStyleModel",
          "model_module_version": "1.5.0",
          "state": {
            "_model_module": "@jupyter-widgets/controls",
            "_model_module_version": "1.5.0",
            "_model_name": "ProgressStyleModel",
            "_view_count": null,
            "_view_module": "@jupyter-widgets/base",
            "_view_module_version": "1.2.0",
            "_view_name": "StyleView",
            "bar_color": null,
            "description_width": ""
          }
        },
        "8e57bfdf5ea44d60b027ba5638da1e16": {
          "model_module": "@jupyter-widgets/base",
          "model_name": "LayoutModel",
          "model_module_version": "1.2.0",
          "state": {
            "_model_module": "@jupyter-widgets/base",
            "_model_module_version": "1.2.0",
            "_model_name": "LayoutModel",
            "_view_count": null,
            "_view_module": "@jupyter-widgets/base",
            "_view_module_version": "1.2.0",
            "_view_name": "LayoutView",
            "align_content": null,
            "align_items": null,
            "align_self": null,
            "border": null,
            "bottom": null,
            "display": null,
            "flex": null,
            "flex_flow": null,
            "grid_area": null,
            "grid_auto_columns": null,
            "grid_auto_flow": null,
            "grid_auto_rows": null,
            "grid_column": null,
            "grid_gap": null,
            "grid_row": null,
            "grid_template_areas": null,
            "grid_template_columns": null,
            "grid_template_rows": null,
            "height": null,
            "justify_content": null,
            "justify_items": null,
            "left": null,
            "margin": null,
            "max_height": null,
            "max_width": null,
            "min_height": null,
            "min_width": null,
            "object_fit": null,
            "object_position": null,
            "order": null,
            "overflow": null,
            "overflow_x": null,
            "overflow_y": null,
            "padding": null,
            "right": null,
            "top": null,
            "visibility": null,
            "width": null
          }
        },
        "74fdcdd3c9b444449181f2cbb15673b9": {
          "model_module": "@jupyter-widgets/controls",
          "model_name": "DescriptionStyleModel",
          "model_module_version": "1.5.0",
          "state": {
            "_model_module": "@jupyter-widgets/controls",
            "_model_module_version": "1.5.0",
            "_model_name": "DescriptionStyleModel",
            "_view_count": null,
            "_view_module": "@jupyter-widgets/base",
            "_view_module_version": "1.2.0",
            "_view_name": "StyleView",
            "description_width": ""
          }
        }
      }
    }
  },
  "nbformat": 4,
  "nbformat_minor": 0
}