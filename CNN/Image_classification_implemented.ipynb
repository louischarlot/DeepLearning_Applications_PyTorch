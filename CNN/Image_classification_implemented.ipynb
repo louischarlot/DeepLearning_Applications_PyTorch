{
  "cells": [
    {
      "cell_type": "markdown",
      "metadata": {
        "id": "5nvhJqpkqeQZ"
      },
      "source": [
        "# Image Classification: Implementation of ResNet from scratch\n",
        "\n",
        "In this second notebook, we implement the classification of the [CIFAR10 dataset](https://www.cs.toronto.edu/~kriz/cifar.html), containing 32x32 colour images divided into 10 classes (cats, birds, airplanes, etc.).\n",
        "\n",
        "Contrary to our first work, where we used transfer learning, here, we have to build a Residual Neuronal Newtork ([ResNet](https://arxiv.org/abs/1512.03385)) and train it by ourselves, to differentialte the different classes of the dataset.\n",
        "\n",
        "Indeed, the **pre-trained** models of *torchvision* are trained on large size images, and therefore are not adapted to smaller images like the ones of the CIFAR10 dataset (see the introductive remarks of the previous notebook).\n"
      ]
    },
    {
      "cell_type": "code",
      "execution_count": 2,
      "metadata": {
        "id": "9uM_lvsCqeQb"
      },
      "outputs": [],
      "source": [
        "import matplotlib.pyplot as plt\n",
        "import numpy as np\n",
        "\n",
        "import torch\n",
        "from torch import nn\n",
        "from torch import optim\n",
        "import torch.nn.functional as F\n",
        "from torchvision import datasets, transforms, utils\n",
        "import torchvision.models as models\n",
        "from torch.utils.data.sampler import SubsetRandomSampler\n"
      ]
    },
    {
      "cell_type": "markdown",
      "metadata": {
        "id": "GptAUUFLqeQc"
      },
      "source": [
        "We use here the **torchvision** library ([click here for more details](https://pytorch.org/vision/stable/index.html)). This library is part of the Pytorch project, and consists of popular datasets, model architectures, and common image transformations for computer vision."
      ]
    },
    {
      "cell_type": "markdown",
      "metadata": {
        "id": "IttctaFPqeQd"
      },
      "source": [
        "## Data Augmentation \n",
        "\n",
        "We randomly rotate, flip and crop the input images, in order to introduce some randomness. This will improve the training of our network, by making our predictions more robust to image transformations. "
      ]
    },
    {
      "cell_type": "code",
      "execution_count": 3,
      "metadata": {
        "colab": {
          "base_uri": "https://localhost:8080/",
          "height": 104,
          "referenced_widgets": [
            "82922ef6aca24f83bd5ed4377d99d6ae",
            "de49f050694444398b181b4dd78dd06e",
            "037df8b1be8044cc89d2218b3a9337e2",
            "112ff4558a3c432bbab3b9a544449d80",
            "7c0313d2d70747369e4cdf0ebdafda89",
            "d269c0e0add54fe2b1319a325ec37ec3",
            "e36cc0c0139a49d6be89572516a83510",
            "e68cc9fc9caa4600a825ef9f35761ce6",
            "d230955a281941aea0ade95951534f7c",
            "e9dac5c1e74b47558ac632dd9e914012",
            "dae2edde1ddd468ea8e5ab926a8a475a"
          ]
        },
        "id": "QWXNc3hvqyVi",
        "outputId": "882ed5a9-202d-4431-d450-9d703be35ffd"
      },
      "outputs": [
        {
          "name": "stdout",
          "output_type": "stream",
          "text": [
            "Downloading https://www.cs.toronto.edu/~kriz/cifar-10-python.tar.gz to ./data/cifar-10-python.tar.gz\n"
          ]
        },
        {
          "data": {
            "application/vnd.jupyter.widget-view+json": {
              "model_id": "82922ef6aca24f83bd5ed4377d99d6ae",
              "version_major": 2,
              "version_minor": 0
            },
            "text/plain": [
              "  0%|          | 0/170498071 [00:00<?, ?it/s]"
            ]
          },
          "metadata": {},
          "output_type": "display_data"
        },
        {
          "name": "stdout",
          "output_type": "stream",
          "text": [
            "Extracting ./data/cifar-10-python.tar.gz to ./data\n",
            "Files already downloaded and verified\n"
          ]
        }
      ],
      "source": [
        "# number of subprocesses to use for data loading\n",
        "num_workers = 0\n",
        "# how many samples per batch to load\n",
        "batch_size = 100\n",
        "# percentage of training set to use as validation\n",
        "valid_size = 0.2\n",
        "\n",
        "# We define the transforms for the training data and testing data\n",
        "train_transform = transforms.Compose([\n",
        "    transforms.ToTensor(),\n",
        "    transforms.RandomHorizontalFlip(),\n",
        "    transforms.Normalize([0.485, 0.456, 0.406],\n",
        "                         [0.229, 0.224, 0.225])\n",
        "    ])\n",
        "\n",
        "test_transform = transforms.Compose([\n",
        "    transforms.ToTensor(),\n",
        "    transforms.Normalize([0.485, 0.456, 0.406],\n",
        "                         [0.229, 0.224, 0.225])\n",
        "    ])\n",
        "\n",
        "# We load the training and test data\n",
        "train_data = datasets.CIFAR10(root='./data', download=True, train=True, transform=train_transform)\n",
        "test_data = datasets.CIFAR10(root='./data', download=True, train=False, transform=test_transform)\n",
        "\n",
        "# We choose the indices that will be used to split the training data into train and validation\n",
        "num_train = len(train_data)\n",
        "indices = list(range(num_train))\n",
        "np.random.shuffle(indices)\n",
        "split = int(np.floor(valid_size * num_train))\n",
        "train_idx, valid_idx = indices[split:], indices[:split]\n",
        "\n",
        "# We define the samplers to choose the training and validation batches\n",
        "train_sampler = SubsetRandomSampler(train_idx)\n",
        "valid_sampler = SubsetRandomSampler(valid_idx)\n",
        "\n",
        "# We build the data loaders (combining the dataset and the sampler), \n",
        "# to get the train, validation, and test data\n",
        "trainloader = torch.utils.data.DataLoader(train_data, batch_size=batch_size,\n",
        "    sampler=train_sampler, num_workers=num_workers)\n",
        "validloader = torch.utils.data.DataLoader(train_data, batch_size=batch_size, \n",
        "    sampler=valid_sampler, num_workers=num_workers)\n",
        "testloader = torch.utils.data.DataLoader(test_data, batch_size=batch_size, \n",
        "    num_workers=num_workers)\n",
        "\n",
        "# specify the image classes\n",
        "classes = ['airplane', 'automobile', 'bird', 'cat', 'deer',\n",
        "           'dog', 'frog', 'horse', 'ship', 'truck']"
      ]
    },
    {
      "cell_type": "markdown",
      "metadata": {
        "id": "NXTqzFk0qeQf"
      },
      "source": [
        "We look at a batch of images to see if they have been loaded well."
      ]
    },
    {
      "cell_type": "code",
      "execution_count": 4,
      "metadata": {
        "colab": {
          "base_uri": "https://localhost:8080/",
          "height": 240
        },
        "id": "BNu-J-McqeQf",
        "outputId": "c6fae43b-be76-4b21-f570-f7d6fef47d70"
      },
      "outputs": [
        {
          "name": "stderr",
          "output_type": "stream",
          "text": [
            "Clipping input data to the valid range for imshow with RGB data ([0..1] for floats or [0..255] for integers).\n"
          ]
        },
        {
          "data": {
            "image/png": "[encoded data removed]",
            "text/plain": [
              "<Figure size 432x288 with 1 Axes>"
            ]
          },
          "metadata": {
            "needs_background": "light"
          },
          "output_type": "display_data"
        }
      ],
      "source": [
        "def imshow(img):\n",
        "    npimg = img.numpy()\n",
        "    plt.imshow(np.transpose(npimg, (1, 2, 0)))  # from torch to plt image format\n",
        "    plt.show()\n",
        "\n",
        "# We get some random training images\n",
        "dataiter = iter(trainloader)\n",
        "images, labels = dataiter.next()\n",
        "\n",
        "# We show some images\n",
        "imshow(utils.make_grid(images[0:2]))"
      ]
    },
    {
      "cell_type": "markdown",
      "metadata": {
        "id": "pdG_3s2qqeQi"
      },
      "source": [
        "## ResNet Implementation\n",
        "\n",
        "We now implement our neuronal network: a ResNet model, that will permit to classify our images.\n",
        "\n",
        "More precisely, we implement the 18-layers Resnet presented in the article by [Kaiming He, Xiangyu Zhang, Shaoqing Ren, and Jian Sun](https://arxiv.org/abs/1512.03385) (2015).\n",
        "\n",
        "We implement the **convolutional block**, that will be repeated several times in the ResNet, following the recommendations of the article:\n",
        "- we use 2 *convolutional layers*,\n",
        "- each convolutional layer is followed by a *batch normalization*,\n",
        "- the first convolutional layer output is activated by a *relu*,\n",
        "- the second convolutional layer output is added to the *identity shortout connection*, before being activated by a *relu*."
      ]
    },
    {
      "cell_type": "code",
      "execution_count": 5,
      "metadata": {
        "id": "NQfODC0xqeQi"
      },
      "outputs": [],
      "source": [
        "# We implement the convalutional block just described\n",
        "\n",
        "class ConvBlock(nn.Module):\n",
        "    \n",
        "    def __init__(self, in_channels, out_channels, stride=1):\n",
        "        super(ConvBlock, self).__init__()\n",
        "        self.conv1 = nn.Conv2d(in_channels, out_channels, kernel_size=3, stride=stride, padding=1)\n",
        "        self.bn1 = nn.BatchNorm2d(out_channels)\n",
        "        self.conv2 = nn.Conv2d(out_channels, out_channels, kernel_size=3, stride=1, padding=1)\n",
        "        self.bn2 = nn.BatchNorm2d(out_channels)\n",
        "        self.relu = nn.ReLU()\n",
        "        # To avoid a dimensionality problem with the shortcut addition (when stride!=1)\n",
        "        self.shortcut = nn.Sequential()\n",
        "        if stride != 1 or in_channels != out_channels:\n",
        "            self.shortcut = nn.Sequential(\n",
        "                nn.Conv2d(in_channels, out_channels, kernel_size=1, stride=stride, bias=False),\n",
        "                nn.BatchNorm2d(out_channels)\n",
        "            )\n",
        "        \n",
        "    def forward(self, x):\n",
        "        identity = x\n",
        "        x = self.conv1(x)\n",
        "        x = self.bn1(x)\n",
        "        x = self.relu(x)\n",
        "        x = self.conv2(x)\n",
        "        x = self.bn2(x)\n",
        "        x += self.shortcut(identity)\n",
        "        x = self.relu(x)\n",
        "        return x\n",
        " "
      ]
    },
    {
      "cell_type": "markdown",
      "metadata": {
        "id": "y7mn6R0O0Hcs"
      },
      "source": [
        "We then implement the **ResNet18** by repeating several times the convalutional block, always following [Kaiming He, Xiangyu Zhang, Shaoqing Ren, and Jian Sun](https://arxiv.org/abs/1512.03385) (2015)."
      ]
    },
    {
      "cell_type": "code",
      "execution_count": 6,
      "metadata": {
        "id": "RreoRiwh0Hy3"
      },
      "outputs": [],
      "source": [
        "class ResNet(nn.Module):\n",
        "    \n",
        "    def __init__(self, image_channels, num_classes):\n",
        "        \n",
        "        super(ResNet, self).__init__()\n",
        "\n",
        "        ##########################################\n",
        "        # Initial step: convolution + batch normalization + max pooling operation\n",
        "        ##########################################\n",
        "        # We have image_size = 32\n",
        "        # thus output_size = (32 + 2x1 - 3)/1 + 1 = 32\n",
        "        self.conv1 = nn.Conv2d(in_channels = image_channels, out_channels = 64, kernel_size = 3, stride = 1, padding = 1)\n",
        "        self.bn1 = nn.BatchNorm2d(64)\n",
        "        self.relu = nn.ReLU()\n",
        "        #self.maxpool = nn.MaxPool2d(kernel_size=3, stride=2, padding=1) => better accuracy without\n",
        "\n",
        "\n",
        "        ##########################################\n",
        "        # Central step: convolutional blocks \n",
        "        ##########################################\n",
        "        self.bigblock1 = nn.Sequential(\n",
        "            ConvBlock(in_channels = 64, out_channels = 64, stride = 1),\n",
        "            ConvBlock(64,64)\n",
        "        )\n",
        "        # We double the number of channels and take a stride of 2 to compensate for the volume increase:\n",
        "        self.bigblock2 = nn.Sequential(\n",
        "            ConvBlock(64,128, stride = 2),\n",
        "            ConvBlock(128,128)\n",
        "        )\n",
        "        self.bigblock3 = nn.Sequential(\n",
        "            ConvBlock(128,256, stride = 2),\n",
        "            ConvBlock(256,256)\n",
        "        )\n",
        "        self.bigblock4 = nn.Sequential(\n",
        "            ConvBlock(256,512, stride = 2),\n",
        "            ConvBlock(512,512)\n",
        "        )\n",
        "        \n",
        "        self.avgpool = nn.AdaptiveAvgPool2d((1, 1))\n",
        "        self.fc = nn.Linear(512, num_classes)\n",
        "\n",
        "        \n",
        "    def forward(self, x):\n",
        "        \n",
        "        x = self.conv1(x)\n",
        "        x = self.bn1(x)\n",
        "        x = self.relu(x)\n",
        "        #x = self.maxpool(x)  => better accuracy without\n",
        "        \n",
        "        x = self.bigblock1(x)\n",
        "        x = self.bigblock2(x)\n",
        "        x = self.bigblock3(x)\n",
        "        x = self.bigblock4(x)\n",
        "        \n",
        "        x = self.avgpool(x)\n",
        "        x = x.view(x.shape[0], -1)\n",
        "        x = self.fc(x)\n",
        "        return x "
      ]
    },
    {
      "cell_type": "markdown",
      "metadata": {
        "id": "yaqEk-yeThxF"
      },
      "source": [
        "We define the ResNet model with 10 classes output."
      ]
    },
    {
      "cell_type": "code",
      "execution_count": 7,
      "metadata": {
        "id": "Zp9bzI9MTaOb"
      },
      "outputs": [],
      "source": [
        "model = ResNet(image_channels = 3, num_classes = 10)"
      ]
    },
    {
      "cell_type": "markdown",
      "metadata": {
        "id": "28jfIlR_qeQk"
      },
      "source": [
        "We use the *Cross Entropy* loss function and the *Adam* optimizer."
      ]
    },
    {
      "cell_type": "code",
      "execution_count": 8,
      "metadata": {
        "id": "u6yd1O2TqeQk"
      },
      "outputs": [],
      "source": [
        "# We define the loss criterion\n",
        "criterion = nn.CrossEntropyLoss()\n",
        "\n",
        "# Only train the classifier parameters, feature parameters are frozen\n",
        "optimizer = optim.Adam(model.parameters(), lr=0.003)\n",
        "\n",
        "# We use GPU if it's available, and the CPU otherwise\n",
        "device = torch.device(\"cuda\" if torch.cuda.is_available() else \"cpu\")\n",
        "model.to(device);"
      ]
    },
    {
      "cell_type": "markdown",
      "metadata": {
        "id": "P09i4BVKqeQl"
      },
      "source": [
        "## Training\n",
        "\n",
        "We implement the training of our model, with the training and the validation datsets.\n",
        "\n"
      ]
    },
    {
      "cell_type": "code",
      "execution_count": 9,
      "metadata": {
        "colab": {
          "base_uri": "https://localhost:8080/"
        },
        "id": "6V5SbHw_qeQl",
        "outputId": "36068fa2-946a-4019-963c-bc7a54e2e02d"
      },
      "outputs": [
        {
          "name": "stdout",
          "output_type": "stream",
          "text": [
            "Epoch: 1 \tTraining Loss: 1.593154 \tValidation Loss: 1.379536 \tValidation Accuracy: 0.492300\n",
            "Validation loss decreased (inf --> 1.379536).  Saving model ...\n",
            "Epoch: 2 \tTraining Loss: 1.083668 \tValidation Loss: 0.994283 \tValidation Accuracy: 0.643600\n",
            "Validation loss decreased (1.379536 --> 0.994283).  Saving model ...\n",
            "Epoch: 3 \tTraining Loss: 0.840565 \tValidation Loss: 0.809601 \tValidation Accuracy: 0.713900\n",
            "Validation loss decreased (0.994283 --> 0.809601).  Saving model ...\n",
            "Epoch: 4 \tTraining Loss: 0.671241 \tValidation Loss: 0.663316 \tValidation Accuracy: 0.767600\n",
            "Validation loss decreased (0.809601 --> 0.663316).  Saving model ...\n",
            "Epoch: 5 \tTraining Loss: 0.562290 \tValidation Loss: 0.626984 \tValidation Accuracy: 0.785400\n",
            "Validation loss decreased (0.663316 --> 0.626984).  Saving model ...\n",
            "Epoch: 6 \tTraining Loss: 0.468723 \tValidation Loss: 0.614515 \tValidation Accuracy: 0.792600\n",
            "Validation loss decreased (0.626984 --> 0.614515).  Saving model ...\n",
            "Epoch: 7 \tTraining Loss: 0.397285 \tValidation Loss: 0.529048 \tValidation Accuracy: 0.816700\n",
            "Validation loss decreased (0.614515 --> 0.529048).  Saving model ...\n",
            "Epoch: 8 \tTraining Loss: 0.335674 \tValidation Loss: 0.539129 \tValidation Accuracy: 0.821700\n",
            "Epoch: 9 \tTraining Loss: 0.280988 \tValidation Loss: 0.491120 \tValidation Accuracy: 0.838800\n",
            "Validation loss decreased (0.529048 --> 0.491120).  Saving model ...\n",
            "Epoch: 10 \tTraining Loss: 0.232252 \tValidation Loss: 0.540399 \tValidation Accuracy: 0.832400\n",
            "Epoch: 11 \tTraining Loss: 0.188534 \tValidation Loss: 0.538176 \tValidation Accuracy: 0.835100\n",
            "Epoch: 12 \tTraining Loss: 0.163808 \tValidation Loss: 0.548542 \tValidation Accuracy: 0.840700\n",
            "Epoch: 13 \tTraining Loss: 0.135259 \tValidation Loss: 0.626922 \tValidation Accuracy: 0.827800\n",
            "Epoch: 14 \tTraining Loss: 0.117695 \tValidation Loss: 0.535326 \tValidation Accuracy: 0.851900\n",
            "Epoch: 15 \tTraining Loss: 0.095334 \tValidation Loss: 0.553274 \tValidation Accuracy: 0.855900\n",
            "Epoch: 16 \tTraining Loss: 0.090898 \tValidation Loss: 0.609751 \tValidation Accuracy: 0.845700\n",
            "Epoch: 17 \tTraining Loss: 0.076451 \tValidation Loss: 0.607349 \tValidation Accuracy: 0.849000\n",
            "Epoch: 18 \tTraining Loss: 0.068713 \tValidation Loss: 0.639941 \tValidation Accuracy: 0.843800\n",
            "Epoch: 19 \tTraining Loss: 0.062704 \tValidation Loss: 0.687531 \tValidation Accuracy: 0.839600\n",
            "Epoch: 20 \tTraining Loss: 0.054148 \tValidation Loss: 0.700290 \tValidation Accuracy: 0.849500\n",
            "Epoch: 21 \tTraining Loss: 0.057968 \tValidation Loss: 0.657691 \tValidation Accuracy: 0.845300\n",
            "Epoch: 22 \tTraining Loss: 0.045172 \tValidation Loss: 0.782084 \tValidation Accuracy: 0.843800\n",
            "Epoch: 23 \tTraining Loss: 0.048488 \tValidation Loss: 0.761293 \tValidation Accuracy: 0.842500\n",
            "Epoch: 24 \tTraining Loss: 0.047226 \tValidation Loss: 0.712385 \tValidation Accuracy: 0.845900\n",
            "Epoch: 25 \tTraining Loss: 0.044608 \tValidation Loss: 0.694188 \tValidation Accuracy: 0.852500\n",
            "Epoch: 26 \tTraining Loss: 0.034128 \tValidation Loss: 0.744876 \tValidation Accuracy: 0.853100\n",
            "Epoch: 27 \tTraining Loss: 0.033975 \tValidation Loss: 0.902128 \tValidation Accuracy: 0.829100\n",
            "Epoch: 28 \tTraining Loss: 0.041643 \tValidation Loss: 0.714571 \tValidation Accuracy: 0.859500\n",
            "Epoch: 29 \tTraining Loss: 0.038023 \tValidation Loss: 0.757370 \tValidation Accuracy: 0.845300\n",
            "Epoch: 30 \tTraining Loss: 0.031876 \tValidation Loss: 0.793143 \tValidation Accuracy: 0.848700\n",
            "Epoch: 31 \tTraining Loss: 0.032513 \tValidation Loss: 0.827431 \tValidation Accuracy: 0.847200\n",
            "Epoch: 32 \tTraining Loss: 0.036427 \tValidation Loss: 0.738520 \tValidation Accuracy: 0.853700\n",
            "Epoch: 33 \tTraining Loss: 0.025216 \tValidation Loss: 0.748133 \tValidation Accuracy: 0.854800\n",
            "Epoch: 34 \tTraining Loss: 0.029182 \tValidation Loss: 0.722157 \tValidation Accuracy: 0.857400\n",
            "Epoch: 35 \tTraining Loss: 0.029379 \tValidation Loss: 0.738718 \tValidation Accuracy: 0.858800\n",
            "Epoch: 36 \tTraining Loss: 0.027286 \tValidation Loss: 0.845980 \tValidation Accuracy: 0.845400\n",
            "Epoch: 37 \tTraining Loss: 0.027055 \tValidation Loss: 0.757725 \tValidation Accuracy: 0.860900\n",
            "Epoch: 38 \tTraining Loss: 0.025176 \tValidation Loss: 0.792041 \tValidation Accuracy: 0.852900\n",
            "Epoch: 39 \tTraining Loss: 0.023406 \tValidation Loss: 0.787201 \tValidation Accuracy: 0.860300\n",
            "Epoch: 40 \tTraining Loss: 0.027493 \tValidation Loss: 0.764262 \tValidation Accuracy: 0.854000\n"
          ]
        }
      ],
      "source": [
        "# Number of epochs used to train the model\n",
        "n_epochs = 40\n",
        "\n",
        "# Variables to keep track of the change in validation loss, to save the best model\n",
        "valid_loss_min = np.Inf \n",
        "best_accuracy = 0.0\n",
        "\n",
        "# Variables to keep the accuracies calculated at each epoch in order to plot them later\n",
        "epoch_all = []  \n",
        "valid_epoch_acc_all = []\n",
        "train_epoch_acc_all = []\n",
        "\n",
        "for epoch in range(1, n_epochs+1):\n",
        "\n",
        "    # To keep track of training and validation loss and accuracy\n",
        "    train_loss = 0.0\n",
        "    valid_loss = 0.0\n",
        "    valid_running_corrects = 0\n",
        "    train_running_corrects = 0\n",
        "    \n",
        "    ###################\n",
        "    # train the model #\n",
        "    ###################\n",
        "    model.train()\n",
        "    for images, labels in trainloader:\n",
        "        # move tensors to GPU if CUDA is available\n",
        "        images, labels = images.to(device), labels.to(device)\n",
        "        # clear the gradients of all optimized variables\n",
        "        optimizer.zero_grad()\n",
        "        # forward pass: compute predicted outputs by passing images to the model\n",
        "        output = model.forward(images)\n",
        "        # calculate the batch loss\n",
        "        loss = criterion(output, labels)\n",
        "        # backward pass: compute gradient of the loss with respect to model parameters\n",
        "        loss.backward()\n",
        "        # perform a single optimization step (parameter update)\n",
        "        optimizer.step()\n",
        "        # update training loss\n",
        "        train_loss += loss.item()*images.size(0)\n",
        "        # to calculate the training set accuracy later: \n",
        "        # take as prediction the label with highest output (highest probability)\n",
        "        _, pred = torch.max(output, 1)\n",
        "        # total number of correct predictions\n",
        "        train_running_corrects += torch.sum(pred == labels)\n",
        "        \n",
        "    ######################    \n",
        "    # validate the model #\n",
        "    ######################\n",
        "    model.eval()\n",
        "    for images, labels in validloader:\n",
        "        # move tensors to GPU if CUDA is available\n",
        "        images, labels = images.to(device), labels.to(device)\n",
        "        # forward pass: compute predicted outputs by passing images to the model\n",
        "        output = model.forward(images)\n",
        "        # calculate the batch loss\n",
        "        loss = criterion(output, labels)\n",
        "        # update average validation loss \n",
        "        valid_loss += loss.item()*images.size(0)\n",
        "        # to calculate the validation accuracy later: \n",
        "        # take as prediction the label with highest output (highest probability)\n",
        "        _, pred = torch.max(output, 1)\n",
        "        # total number of correct predictions\n",
        "        valid_running_corrects += torch.sum(pred == labels)\n",
        "    \n",
        "    # calculate average losses\n",
        "    train_loss = train_loss/len(trainloader.sampler)\n",
        "    valid_loss = valid_loss/len(validloader.sampler)\n",
        "    \n",
        "    # calculate accuracy\n",
        "    train_epoch_acc = train_running_corrects.double() / len(trainloader.sampler)\n",
        "    valid_epoch_acc = valid_running_corrects.double() / len(validloader.sampler)\n",
        "        \n",
        "    # print training/validation statistics \n",
        "    print('Epoch: {} \\tTraining Loss: {:.6f} \\tValidation Loss: {:.6f} \\tValidation Accuracy: {:.6f}'.format(\n",
        "        epoch, train_loss, valid_loss,valid_epoch_acc))\n",
        "    \n",
        "    # save model if validation loss has decreased\n",
        "    if valid_loss <= valid_loss_min:\n",
        "        print('Validation loss decreased ({:.6f} --> {:.6f}).  Saving model ...'.format(\n",
        "        valid_loss_min,\n",
        "        valid_loss))\n",
        "        torch.save(model.state_dict(), 'model_cifar10.pt')\n",
        "        valid_loss_min = valid_loss\n",
        "\n",
        "    # We keep the accuracies at each epoch, to plot them later, and transfer them to the cpu\n",
        "    # in order to convert the values into a numpy array and plot them\n",
        "    epoch_all.append(epoch)    \n",
        "    valid_epoch_acc_all.append(valid_epoch_acc.cpu())\n",
        "    train_epoch_acc_all.append(train_epoch_acc.cpu())"
      ]
    },
    {
      "cell_type": "code",
      "execution_count": 10,
      "metadata": {
        "colab": {
          "base_uri": "https://localhost:8080/",
          "height": 297
        },
        "id": "PxwDvH3VqeQn",
        "outputId": "037c6e20-95d7-4d79-c3e6-c257550c1ae4"
      },
      "outputs": [
        {
          "data": {
            "image/png": "[encoded data removed]",
            "text/plain": [
              "<Figure size 432x288 with 1 Axes>"
            ]
          },
          "metadata": {
            "needs_background": "light"
          },
          "output_type": "display_data"
        }
      ],
      "source": [
        "plt.plot(epoch_all, valid_epoch_acc_all, label=\"validation accuracy\", color=\"red\", linestyle='-.')\n",
        "#plt.plot(epoch_all, train_epoch_acc_all, label=\"training accuracy\", color=\"blue\",linestyle='-.')\n",
        "plt.title(\"ResNet model on the CIFAR10 dataset: accuracy per epoch\")\n",
        "plt.legend()\n",
        "plt.tight_layout()\n",
        "plt.show()"
      ]
    },
    {
      "cell_type": "markdown",
      "metadata": {
        "id": "3h5KUn2ItLvp"
      },
      "source": [
        "# Test of the model\n",
        "\n",
        "We finally implement a test of the model accuracy, on the test dataset, that has not been used in the model training."
      ]
    },
    {
      "cell_type": "code",
      "execution_count": 11,
      "metadata": {
        "colab": {
          "base_uri": "https://localhost:8080/"
        },
        "id": "Vi2ukfkCqeQo",
        "outputId": "10b38f20-e8fb-48f5-cf92-c648f8843d37"
      },
      "outputs": [
        {
          "name": "stdout",
          "output_type": "stream",
          "text": [
            "\tTest Loss: 0.488885 \tTest Accuracy: 0.844500\n"
          ]
        }
      ],
      "source": [
        "# We test our best model (the one with the lowest validation loss)\n",
        "model.load_state_dict(torch.load('model_cifar10.pt'))\n",
        "\n",
        "\n",
        "# To keep track of test loss and accuracy\n",
        "test_loss = 0.0\n",
        "test_running_corrects = 0\n",
        "\n",
        "\n",
        "model.eval()\n",
        "for images, labels in testloader:\n",
        "    # move tensors to GPU if CUDA is available\n",
        "    images, labels = images.to(device), labels.to(device)\n",
        "    # forward pass: compute predicted outputs by passing images to the model\n",
        "    output = model.forward(images)\n",
        "    # calculate the batch loss\n",
        "    loss = criterion(output, labels)\n",
        "    # update average test loss \n",
        "    test_loss += loss.item()*images.size(0)\n",
        "    # to calculate the test accuracy later: \n",
        "    # take as prediction the label with highest output (highest probability)\n",
        "    _, pred = torch.max(output, 1)\n",
        "    # total number of correct predictions\n",
        "    test_running_corrects += torch.sum(pred == labels)\n",
        "\n",
        "\n",
        "# calculate average loss\n",
        "test_loss = test_loss/len(testloader.sampler)\n",
        "    \n",
        "# claculate accuracy\n",
        "test_epoch_acc = test_running_corrects.double() / len(testloader.sampler)\n",
        "        \n",
        "# print training/validation statistics \n",
        "print('\\tTest Loss: {:.6f} \\tTest Accuracy: {:.6f}'.format(\n",
        "    test_loss,test_epoch_acc))"
      ]
    },
    {
      "cell_type": "markdown",
      "metadata": {
        "id": "7zvcP9MntUcw"
      },
      "source": [
        "We finally get a **84.5%** test accuracy with our model !"
      ]
    }
  ],
  "metadata": {
    "accelerator": "GPU",
    "colab": {
      "collapsed_sections": [],
      "name": "Image_classification_implemented.ipynb",
      "provenance": []
    },
    "kernelspec": {
      "display_name": "Python 3",
      "language": "python",
      "name": "python3"
    },
    "language_info": {
      "codemirror_mode": {
        "name": "ipython",
        "version": 3
      },
      "file_extension": ".py",
      "mimetype": "text/x-python",
      "name": "python",
      "nbconvert_exporter": "python",
      "pygments_lexer": "ipython3",
      "version": "3.8.12"
    },
    "widgets": {
      "application/vnd.jupyter.widget-state+json": {
        "037df8b1be8044cc89d2218b3a9337e2": {
          "model_module": "@jupyter-widgets/controls",
          "model_module_version": "1.5.0",
          "model_name": "FloatProgressModel",
          "state": {
            "_dom_classes": [],
            "_model_module": "@jupyter-widgets/controls",
            "_model_module_version": "1.5.0",
            "_model_name": "FloatProgressModel",
            "_view_count": null,
            "_view_module": "@jupyter-widgets/controls",
            "_view_module_version": "1.5.0",
            "_view_name": "ProgressView",
            "bar_style": "success",
            "description": "",
            "description_tooltip": null,
            "layout": "IPY_MODEL_e68cc9fc9caa4600a825ef9f35761ce6",
            "max": 170498071,
            "min": 0,
            "orientation": "horizontal",
            "style": "IPY_MODEL_d230955a281941aea0ade95951534f7c",
            "value": 170498071
          }
        },
        "112ff4558a3c432bbab3b9a544449d80": {
          "model_module": "@jupyter-widgets/controls",
          "model_module_version": "1.5.0",
          "model_name": "HTMLModel",
          "state": {
            "_dom_classes": [],
            "_model_module": "@jupyter-widgets/controls",
            "_model_module_version": "1.5.0",
            "_model_name": "HTMLModel",
            "_view_count": null,
            "_view_module": "@jupyter-widgets/controls",
            "_view_module_version": "1.5.0",
            "_view_name": "HTMLView",
            "description": "",
            "description_tooltip": null,
            "layout": "IPY_MODEL_e9dac5c1e74b47558ac632dd9e914012",
            "placeholder": "​",
            "style": "IPY_MODEL_dae2edde1ddd468ea8e5ab926a8a475a",
            "value": " 170499072/? [00:02&lt;00:00, 90372366.01it/s]"
          }
        },
        "7c0313d2d70747369e4cdf0ebdafda89": {
          "model_module": "@jupyter-widgets/base",
          "model_module_version": "1.2.0",
          "model_name": "LayoutModel",
          "state": {
            "_model_module": "@jupyter-widgets/base",
            "_model_module_version": "1.2.0",
            "_model_name": "LayoutModel",
            "_view_count": null,
            "_view_module": "@jupyter-widgets/base",
            "_view_module_version": "1.2.0",
            "_view_name": "LayoutView",
            "align_content": null,
            "align_items": null,
            "align_self": null,
            "border": null,
            "bottom": null,
            "display": null,
            "flex": null,
            "flex_flow": null,
            "grid_area": null,
            "grid_auto_columns": null,
            "grid_auto_flow": null,
            "grid_auto_rows": null,
            "grid_column": null,
            "grid_gap": null,
            "grid_row": null,
            "grid_template_areas": null,
            "grid_template_columns": null,
            "grid_template_rows": null,
            "height": null,
            "justify_content": null,
            "justify_items": null,
            "left": null,
            "margin": null,
            "max_height": null,
            "max_width": null,
            "min_height": null,
            "min_width": null,
            "object_fit": null,
            "object_position": null,
            "order": null,
            "overflow": null,
            "overflow_x": null,
            "overflow_y": null,
            "padding": null,
            "right": null,
            "top": null,
            "visibility": null,
            "width": null
          }
        },
        "82922ef6aca24f83bd5ed4377d99d6ae": {
          "model_module": "@jupyter-widgets/controls",
          "model_module_version": "1.5.0",
          "model_name": "HBoxModel",
          "state": {
            "_dom_classes": [],
            "_model_module": "@jupyter-widgets/controls",
            "_model_module_version": "1.5.0",
            "_model_name": "HBoxModel",
            "_view_count": null,
            "_view_module": "@jupyter-widgets/controls",
            "_view_module_version": "1.5.0",
            "_view_name": "HBoxView",
            "box_style": "",
            "children": [
              "IPY_MODEL_de49f050694444398b181b4dd78dd06e",
              "IPY_MODEL_037df8b1be8044cc89d2218b3a9337e2",
              "IPY_MODEL_112ff4558a3c432bbab3b9a544449d80"
            ],
            "layout": "IPY_MODEL_7c0313d2d70747369e4cdf0ebdafda89"
          }
        },
        "d230955a281941aea0ade95951534f7c": {
          "model_module": "@jupyter-widgets/controls",
          "model_module_version": "1.5.0",
          "model_name": "ProgressStyleModel",
          "state": {
            "_model_module": "@jupyter-widgets/controls",
            "_model_module_version": "1.5.0",
            "_model_name": "ProgressStyleModel",
            "_view_count": null,
            "_view_module": "@jupyter-widgets/base",
            "_view_module_version": "1.2.0",
            "_view_name": "StyleView",
            "bar_color": null,
            "description_width": ""
          }
        },
        "d269c0e0add54fe2b1319a325ec37ec3": {
          "model_module": "@jupyter-widgets/base",
          "model_module_version": "1.2.0",
          "model_name": "LayoutModel",
          "state": {
            "_model_module": "@jupyter-widgets/base",
            "_model_module_version": "1.2.0",
            "_model_name": "LayoutModel",
            "_view_count": null,
            "_view_module": "@jupyter-widgets/base",
            "_view_module_version": "1.2.0",
            "_view_name": "LayoutView",
            "align_content": null,
            "align_items": null,
            "align_self": null,
            "border": null,
            "bottom": null,
            "display": null,
            "flex": null,
            "flex_flow": null,
            "grid_area": null,
            "grid_auto_columns": null,
            "grid_auto_flow": null,
            "grid_auto_rows": null,
            "grid_column": null,
            "grid_gap": null,
            "grid_row": null,
            "grid_template_areas": null,
            "grid_template_columns": null,
            "grid_template_rows": null,
            "height": null,
            "justify_content": null,
            "justify_items": null,
            "left": null,
            "margin": null,
            "max_height": null,
            "max_width": null,
            "min_height": null,
            "min_width": null,
            "object_fit": null,
            "object_position": null,
            "order": null,
            "overflow": null,
            "overflow_x": null,
            "overflow_y": null,
            "padding": null,
            "right": null,
            "top": null,
            "visibility": null,
            "width": null
          }
        },
        "dae2edde1ddd468ea8e5ab926a8a475a": {
          "model_module": "@jupyter-widgets/controls",
          "model_module_version": "1.5.0",
          "model_name": "DescriptionStyleModel",
          "state": {
            "_model_module": "@jupyter-widgets/controls",
            "_model_module_version": "1.5.0",
            "_model_name": "DescriptionStyleModel",
            "_view_count": null,
            "_view_module": "@jupyter-widgets/base",
            "_view_module_version": "1.2.0",
            "_view_name": "StyleView",
            "description_width": ""
          }
        },
        "de49f050694444398b181b4dd78dd06e": {
          "model_module": "@jupyter-widgets/controls",
          "model_module_version": "1.5.0",
          "model_name": "HTMLModel",
          "state": {
            "_dom_classes": [],
            "_model_module": "@jupyter-widgets/controls",
            "_model_module_version": "1.5.0",
            "_model_name": "HTMLModel",
            "_view_count": null,
            "_view_module": "@jupyter-widgets/controls",
            "_view_module_version": "1.5.0",
            "_view_name": "HTMLView",
            "description": "",
            "description_tooltip": null,
            "layout": "IPY_MODEL_d269c0e0add54fe2b1319a325ec37ec3",
            "placeholder": "​",
            "style": "IPY_MODEL_e36cc0c0139a49d6be89572516a83510",
            "value": ""
          }
        },
        "e36cc0c0139a49d6be89572516a83510": {
          "model_module": "@jupyter-widgets/controls",
          "model_module_version": "1.5.0",
          "model_name": "DescriptionStyleModel",
          "state": {
            "_model_module": "@jupyter-widgets/controls",
            "_model_module_version": "1.5.0",
            "_model_name": "DescriptionStyleModel",
            "_view_count": null,
            "_view_module": "@jupyter-widgets/base",
            "_view_module_version": "1.2.0",
            "_view_name": "StyleView",
            "description_width": ""
          }
        },
        "e68cc9fc9caa4600a825ef9f35761ce6": {
          "model_module": "@jupyter-widgets/base",
          "model_module_version": "1.2.0",
          "model_name": "LayoutModel",
          "state": {
            "_model_module": "@jupyter-widgets/base",
            "_model_module_version": "1.2.0",
            "_model_name": "LayoutModel",
            "_view_count": null,
            "_view_module": "@jupyter-widgets/base",
            "_view_module_version": "1.2.0",
            "_view_name": "LayoutView",
            "align_content": null,
            "align_items": null,
            "align_self": null,
            "border": null,
            "bottom": null,
            "display": null,
            "flex": null,
            "flex_flow": null,
            "grid_area": null,
            "grid_auto_columns": null,
            "grid_auto_flow": null,
            "grid_auto_rows": null,
            "grid_column": null,
            "grid_gap": null,
            "grid_row": null,
            "grid_template_areas": null,
            "grid_template_columns": null,
            "grid_template_rows": null,
            "height": null,
            "justify_content": null,
            "justify_items": null,
            "left": null,
            "margin": null,
            "max_height": null,
            "max_width": null,
            "min_height": null,
            "min_width": null,
            "object_fit": null,
            "object_position": null,
            "order": null,
            "overflow": null,
            "overflow_x": null,
            "overflow_y": null,
            "padding": null,
            "right": null,
            "top": null,
            "visibility": null,
            "width": null
          }
        },
        "e9dac5c1e74b47558ac632dd9e914012": {
          "model_module": "@jupyter-widgets/base",
          "model_module_version": "1.2.0",
          "model_name": "LayoutModel",
          "state": {
            "_model_module": "@jupyter-widgets/base",
            "_model_module_version": "1.2.0",
            "_model_name": "LayoutModel",
            "_view_count": null,
            "_view_module": "@jupyter-widgets/base",
            "_view_module_version": "1.2.0",
            "_view_name": "LayoutView",
            "align_content": null,
            "align_items": null,
            "align_self": null,
            "border": null,
            "bottom": null,
            "display": null,
            "flex": null,
            "flex_flow": null,
            "grid_area": null,
            "grid_auto_columns": null,
            "grid_auto_flow": null,
            "grid_auto_rows": null,
            "grid_column": null,
            "grid_gap": null,
            "grid_row": null,
            "grid_template_areas": null,
            "grid_template_columns": null,
            "grid_template_rows": null,
            "height": null,
            "justify_content": null,
            "justify_items": null,
            "left": null,
            "margin": null,
            "max_height": null,
            "max_width": null,
            "min_height": null,
            "min_width": null,
            "object_fit": null,
            "object_position": null,
            "order": null,
            "overflow": null,
            "overflow_x": null,
            "overflow_y": null,
            "padding": null,
            "right": null,
            "top": null,
            "visibility": null,
            "width": null
          }
        }
      }
    }
  },
  "nbformat": 4,
  "nbformat_minor": 0
}
