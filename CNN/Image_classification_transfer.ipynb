{
  "cells": [
    {
      "cell_type": "markdown",
      "metadata": {
        "id": "63iBqavs7UcO"
      },
      "source": [
        "# Image Classification: Transfer Learning with ResNet\n",
        "\n",
        "In this first notebook, we implement the classification of the [STL10 dataset](https://cs.stanford.edu/~acoates/stl10/), containing 96x96 colour images divided into 10 classes (cats, birds, airplanes, etc.).\n",
        "\n",
        "We implement here **transfer learning**: we use the Residual Neuronal Newtork ([ResNet](https://arxiv.org/abs/1512.03385)) of *torchvision*, that has been **pre-trained** with the *ImageNet* dataset.\n",
        "\n",
        "This pre-trained model is built for images that have a size of at least 224x224. Given that we have 96x96 images, we decide to resize them as 224x224 images, and see whether the pre-trained model is adapted to this data or not.\n",
        "\n",
        "**Remark:**\n",
        "A first trial on the [CIFAR10 dataset](https://www.cs.toronto.edu/~kriz/cifar.html) 32x32 images dataset gave us bad prediction results (around 40\\%). It was probably because the initial images were too small before being resized (and therefore missing some details). Therefore, we try here to use the pre-trained ResNet model on the larger images of the [STL10 dataset](https://cs.stanford.edu/~acoates/stl10/), to see if we get better results."
      ]
    },
    {
      "cell_type": "code",
      "execution_count": 1,
      "metadata": {
        "id": "N6HLacWB7UcQ"
      },
      "outputs": [],
      "source": [
        "import matplotlib.pyplot as plt\n",
        "import numpy as np\n",
        "\n",
        "import torch\n",
        "from torch import nn\n",
        "from torch import optim\n",
        "import torch.nn.functional as F\n",
        "from torchvision import datasets, transforms, models, utils\n",
        "import torchvision.models as models\n",
        "from torch.utils.data.sampler import SubsetRandomSampler"
      ]
    },
    {
      "cell_type": "markdown",
      "metadata": {
        "id": "PtKzaF607UcR"
      },
      "source": [
        "We use here the **torchvision** library ([click here for more details](https://pytorch.org/vision/stable/index.html)). This library is part of the Pytorch project, and consists of popular datasets, model architectures, and common image transformations for computer vision."
      ]
    },
    {
      "cell_type": "markdown",
      "metadata": {
        "id": "1zydBQuP7UcS"
      },
      "source": [
        "## Data Augmentation and Preparation for Transfer Learning \n",
        "\n",
        "We randomly rotate, flip and crop the input images, in order to introduce some randomness. This will further train our network, and make our predictions more robust to image transformation. \n",
        "\n",
        "We also normalize the images to make them fit to the **pre-trained** XXXnet network, and thus implement transfer learning. All pre-trained models of torchvision need to be normalized the same way (with *mean = [0.485, 0.456, 0.406]* and *std = [0.229, 0.224, 0.225]*)."
      ]
    },
    {
      "cell_type": "code",
      "execution_count": 2,
      "metadata": {
        "colab": {
          "base_uri": "https://localhost:8080/",
          "height": 104,
          "referenced_widgets": [
            "8af6591c36854fc797ea2c4c8fb53038",
            "d2962bc1519340cd83ff51fe89146235",
            "cb68a5d7e8d5486f994608d61912dbbe",
            "d2a83142f98e47899726d8e97b87c355",
            "5c312296e41146a9a60c5a8d133f5f63",
            "d63843b5ede24fee8ff1f975c263f247",
            "f1a96cdd489543bc929b4e0b20f855fb",
            "a54e02f62fff4dbcb35640886f2d0966",
            "f9bc9467ee5b4a6b81e88f8c6910164e",
            "448c047c3080405aa0f8ae833be49312",
            "2db7740f7bf3487eb2ec9fa67b61bb16"
          ]
        },
        "id": "uCJuicoW7UcT",
        "outputId": "618980e3-e7b8-474b-f37c-182ccdc92e2c"
      },
      "outputs": [
        {
          "name": "stdout",
          "output_type": "stream",
          "text": [
            "Downloading http://ai.stanford.edu/~acoates/stl10/stl10_binary.tar.gz to data/stl10_binary.tar.gz\n"
          ]
        },
        {
          "data": {
            "application/vnd.jupyter.widget-view+json": {
              "model_id": "8af6591c36854fc797ea2c4c8fb53038",
              "version_major": 2,
              "version_minor": 0
            },
            "text/plain": [
              "  0%|          | 0/2640397119 [00:00<?, ?it/s]"
            ]
          },
          "metadata": {},
          "output_type": "display_data"
        },
        {
          "name": "stdout",
          "output_type": "stream",
          "text": [
            "Extracting data/stl10_binary.tar.gz to data\n",
            "Files already downloaded and verified\n"
          ]
        }
      ],
      "source": [
        "# number of subprocesses to use for data loading\n",
        "num_workers = 0\n",
        "# how many samples per batch to load\n",
        "batch_size = 500\n",
        "# percentage of training set to use as validation\n",
        "valid_size = 0.2\n",
        "\n",
        "# We define the transforms for the training data and testing data\n",
        "# The training data must fit the pre-trained model we will use for Transfer Learning\n",
        "train_transform = transforms.Compose([\n",
        "    transforms.Resize(255),\n",
        "    transforms.ToTensor(),\n",
        "    transforms.RandomHorizontalFlip(),\n",
        "    transforms.Normalize([0.485, 0.456, 0.406],\n",
        "                         [0.229, 0.224, 0.225])\n",
        "    ])\n",
        "\n",
        "test_transform = transforms.Compose([\n",
        "    transforms.Resize(255),\n",
        "    transforms.ToTensor(),\n",
        "    transforms.Normalize([0.485, 0.456, 0.406],\n",
        "                         [0.229, 0.224, 0.225])\n",
        "    ])\n",
        "\n",
        "# We load the training and test data\n",
        "train_data = datasets.STL10('data', split = 'train',\n",
        "                              download=True, transform=train_transform)\n",
        "test_data = datasets.STL10('data', split = 'test',\n",
        "                             download=True, transform=test_transform)\n",
        "\n",
        "# We choose the indices that will be used to split the training data into train and validation\n",
        "num_train = len(train_data)\n",
        "indices = list(range(num_train))\n",
        "np.random.shuffle(indices)\n",
        "split = int(np.floor(valid_size * num_train))\n",
        "train_idx, valid_idx = indices[split:], indices[:split]\n",
        "\n",
        "# We define the samplers to choose the training and validation batches\n",
        "train_sampler = SubsetRandomSampler(train_idx)\n",
        "valid_sampler = SubsetRandomSampler(valid_idx)\n",
        "\n",
        "# We build the data loaders (combining the dataset and the sampler), \n",
        "# to get the train, validation, and test data\n",
        "trainloader = torch.utils.data.DataLoader(train_data, batch_size=batch_size,\n",
        "    sampler=train_sampler, num_workers=num_workers)\n",
        "validloader = torch.utils.data.DataLoader(train_data, batch_size=batch_size, \n",
        "    sampler=valid_sampler, num_workers=num_workers)\n",
        "testloader = torch.utils.data.DataLoader(test_data, batch_size=batch_size, \n",
        "    num_workers=num_workers)\n",
        "\n",
        "# specify the image classes\n",
        "classes = ['airplane', 'automobile', 'bird', 'cat', 'deer',\n",
        "           'dog', 'frog', 'horse', 'ship', 'truck']"
      ]
    },
    {
      "cell_type": "markdown",
      "metadata": {
        "id": "wdimq42Q7UcU"
      },
      "source": [
        "We look at a batch of images to see if they have been loaded well."
      ]
    },
    {
      "cell_type": "code",
      "execution_count": 3,
      "metadata": {
        "colab": {
          "base_uri": "https://localhost:8080/",
          "height": 238
        },
        "id": "WOLIW8Lp7UcV",
        "outputId": "632dc2ec-82a7-4000-f7e0-df163e76e778"
      },
      "outputs": [
        {
          "name": "stderr",
          "output_type": "stream",
          "text": [
            "Clipping input data to the valid range for imshow with RGB data ([0..1] for floats or [0..255] for integers).\n"
          ]
        },
        {
          "data": {
            "image/png": "[encoded data removed]",
            "text/plain": [
              "<Figure size 432x288 with 1 Axes>"
            ]
          },
          "metadata": {
            "needs_background": "light"
          },
          "output_type": "display_data"
        }
      ],
      "source": [
        "def imshow(img):\n",
        "    npimg = img.numpy()\n",
        "    plt.imshow(np.transpose(npimg, (1, 2, 0)))  # from torch to plt image format\n",
        "    plt.show()\n",
        "\n",
        "# We get some random training images\n",
        "dataiter = iter(trainloader)\n",
        "images, labels = dataiter.next()\n",
        "\n",
        "# We show some images\n",
        "imshow(utils.make_grid(images[0:2]))"
      ]
    },
    {
      "cell_type": "markdown",
      "metadata": {
        "id": "gpTaPo-k7UcV"
      },
      "source": [
        "## CNN Implementation (Transfer Learning)\n",
        "\n",
        "We now implement our neuronal network, that will be divided into **2 parts**.\n",
        "\n",
        "The first part of our neuronal network is a **pre-trained model**: the [ResNet](https://arxiv.org/abs/1512.03385) model.\n",
        "This part of our network permits to detect the features of the images thanks to an efficient model that has been already trained on a lot of data.\n",
        "\n",
        "The second part of our neuronal network is the **classifier**, that takes the output of the ResNet as input, and classifies our images thanks to the observed features."
      ]
    },
    {
      "cell_type": "code",
      "execution_count": 4,
      "metadata": {
        "colab": {
          "base_uri": "https://localhost:8080/",
          "height": 1000,
          "referenced_widgets": [
            "2d92567d064f47668ef878b6d6982e9a",
            "9a05b20990624568b9a09582a2303414",
            "371299f289cd48108404f23006d5551c",
            "3bbf45c458dc4fc1a366fd13204e6cb4",
            "b00a8247b2064dc3ae2cac080a3b0170",
            "0ecd7564fc6444a4a88a24cceaa8cdb4",
            "202c5bdde04d4a14a81c0f055a24fb89",
            "2c5098481cfc47a8a40cd4c0ffe83ab4",
            "65871a55e3054092b4d5678a1a5159e7",
            "a4d86820ecb14001ae8fd1ee83ae877a",
            "2666954f4a5244029bc51dbbf83d126d"
          ]
        },
        "id": "wh7c1PrY7UcX",
        "outputId": "4c4354bc-2048-4042-9154-b24f51724267"
      },
      "outputs": [
        {
          "name": "stderr",
          "output_type": "stream",
          "text": [
            "Downloading: \"https://download.pytorch.org/models/resnet18-f37072fd.pth\" to /root/.cache/torch/hub/checkpoints/resnet18-f37072fd.pth\n"
          ]
        },
        {
          "data": {
            "application/vnd.jupyter.widget-view+json": {
              "model_id": "2d92567d064f47668ef878b6d6982e9a",
              "version_major": 2,
              "version_minor": 0
            },
            "text/plain": [
              "  0%|          | 0.00/44.7M [00:00<?, ?B/s]"
            ]
          },
          "metadata": {},
          "output_type": "display_data"
        },
        {
          "data": {
            "text/plain": [
              "ResNet(\n",
              "  (conv1): Conv2d(3, 64, kernel_size=(7, 7), stride=(2, 2), padding=(3, 3), bias=False)\n",
              "  (bn1): BatchNorm2d(64, eps=1e-05, momentum=0.1, affine=True, track_running_stats=True)\n",
              "  (relu): ReLU(inplace=True)\n",
              "  (maxpool): MaxPool2d(kernel_size=3, stride=2, padding=1, dilation=1, ceil_mode=False)\n",
              "  (layer1): Sequential(\n",
              "    (0): BasicBlock(\n",
              "      (conv1): Conv2d(64, 64, kernel_size=(3, 3), stride=(1, 1), padding=(1, 1), bias=False)\n",
              "      (bn1): BatchNorm2d(64, eps=1e-05, momentum=0.1, affine=True, track_running_stats=True)\n",
              "      (relu): ReLU(inplace=True)\n",
              "      (conv2): Conv2d(64, 64, kernel_size=(3, 3), stride=(1, 1), padding=(1, 1), bias=False)\n",
              "      (bn2): BatchNorm2d(64, eps=1e-05, momentum=0.1, affine=True, track_running_stats=True)\n",
              "    )\n",
              "    (1): BasicBlock(\n",
              "      (conv1): Conv2d(64, 64, kernel_size=(3, 3), stride=(1, 1), padding=(1, 1), bias=False)\n",
              "      (bn1): BatchNorm2d(64, eps=1e-05, momentum=0.1, affine=True, track_running_stats=True)\n",
              "      (relu): ReLU(inplace=True)\n",
              "      (conv2): Conv2d(64, 64, kernel_size=(3, 3), stride=(1, 1), padding=(1, 1), bias=False)\n",
              "      (bn2): BatchNorm2d(64, eps=1e-05, momentum=0.1, affine=True, track_running_stats=True)\n",
              "    )\n",
              "  )\n",
              "  (layer2): Sequential(\n",
              "    (0): BasicBlock(\n",
              "      (conv1): Conv2d(64, 128, kernel_size=(3, 3), stride=(2, 2), padding=(1, 1), bias=False)\n",
              "      (bn1): BatchNorm2d(128, eps=1e-05, momentum=0.1, affine=True, track_running_stats=True)\n",
              "      (relu): ReLU(inplace=True)\n",
              "      (conv2): Conv2d(128, 128, kernel_size=(3, 3), stride=(1, 1), padding=(1, 1), bias=False)\n",
              "      (bn2): BatchNorm2d(128, eps=1e-05, momentum=0.1, affine=True, track_running_stats=True)\n",
              "      (downsample): Sequential(\n",
              "        (0): Conv2d(64, 128, kernel_size=(1, 1), stride=(2, 2), bias=False)\n",
              "        (1): BatchNorm2d(128, eps=1e-05, momentum=0.1, affine=True, track_running_stats=True)\n",
              "      )\n",
              "    )\n",
              "    (1): BasicBlock(\n",
              "      (conv1): Conv2d(128, 128, kernel_size=(3, 3), stride=(1, 1), padding=(1, 1), bias=False)\n",
              "      (bn1): BatchNorm2d(128, eps=1e-05, momentum=0.1, affine=True, track_running_stats=True)\n",
              "      (relu): ReLU(inplace=True)\n",
              "      (conv2): Conv2d(128, 128, kernel_size=(3, 3), stride=(1, 1), padding=(1, 1), bias=False)\n",
              "      (bn2): BatchNorm2d(128, eps=1e-05, momentum=0.1, affine=True, track_running_stats=True)\n",
              "    )\n",
              "  )\n",
              "  (layer3): Sequential(\n",
              "    (0): BasicBlock(\n",
              "      (conv1): Conv2d(128, 256, kernel_size=(3, 3), stride=(2, 2), padding=(1, 1), bias=False)\n",
              "      (bn1): BatchNorm2d(256, eps=1e-05, momentum=0.1, affine=True, track_running_stats=True)\n",
              "      (relu): ReLU(inplace=True)\n",
              "      (conv2): Conv2d(256, 256, kernel_size=(3, 3), stride=(1, 1), padding=(1, 1), bias=False)\n",
              "      (bn2): BatchNorm2d(256, eps=1e-05, momentum=0.1, affine=True, track_running_stats=True)\n",
              "      (downsample): Sequential(\n",
              "        (0): Conv2d(128, 256, kernel_size=(1, 1), stride=(2, 2), bias=False)\n",
              "        (1): BatchNorm2d(256, eps=1e-05, momentum=0.1, affine=True, track_running_stats=True)\n",
              "      )\n",
              "    )\n",
              "    (1): BasicBlock(\n",
              "      (conv1): Conv2d(256, 256, kernel_size=(3, 3), stride=(1, 1), padding=(1, 1), bias=False)\n",
              "      (bn1): BatchNorm2d(256, eps=1e-05, momentum=0.1, affine=True, track_running_stats=True)\n",
              "      (relu): ReLU(inplace=True)\n",
              "      (conv2): Conv2d(256, 256, kernel_size=(3, 3), stride=(1, 1), padding=(1, 1), bias=False)\n",
              "      (bn2): BatchNorm2d(256, eps=1e-05, momentum=0.1, affine=True, track_running_stats=True)\n",
              "    )\n",
              "  )\n",
              "  (layer4): Sequential(\n",
              "    (0): BasicBlock(\n",
              "      (conv1): Conv2d(256, 512, kernel_size=(3, 3), stride=(2, 2), padding=(1, 1), bias=False)\n",
              "      (bn1): BatchNorm2d(512, eps=1e-05, momentum=0.1, affine=True, track_running_stats=True)\n",
              "      (relu): ReLU(inplace=True)\n",
              "      (conv2): Conv2d(512, 512, kernel_size=(3, 3), stride=(1, 1), padding=(1, 1), bias=False)\n",
              "      (bn2): BatchNorm2d(512, eps=1e-05, momentum=0.1, affine=True, track_running_stats=True)\n",
              "      (downsample): Sequential(\n",
              "        (0): Conv2d(256, 512, kernel_size=(1, 1), stride=(2, 2), bias=False)\n",
              "        (1): BatchNorm2d(512, eps=1e-05, momentum=0.1, affine=True, track_running_stats=True)\n",
              "      )\n",
              "    )\n",
              "    (1): BasicBlock(\n",
              "      (conv1): Conv2d(512, 512, kernel_size=(3, 3), stride=(1, 1), padding=(1, 1), bias=False)\n",
              "      (bn1): BatchNorm2d(512, eps=1e-05, momentum=0.1, affine=True, track_running_stats=True)\n",
              "      (relu): ReLU(inplace=True)\n",
              "      (conv2): Conv2d(512, 512, kernel_size=(3, 3), stride=(1, 1), padding=(1, 1), bias=False)\n",
              "      (bn2): BatchNorm2d(512, eps=1e-05, momentum=0.1, affine=True, track_running_stats=True)\n",
              "    )\n",
              "  )\n",
              "  (avgpool): AdaptiveAvgPool2d(output_size=(1, 1))\n",
              "  (fc): Linear(in_features=512, out_features=1000, bias=True)\n",
              ")"
            ]
          },
          "execution_count": 4,
          "metadata": {},
          "output_type": "execute_result"
        }
      ],
      "source": [
        "# We load the pre-trained model\n",
        "model = models.resnet18(pretrained=True)\n",
        "model"
      ]
    },
    {
      "cell_type": "code",
      "execution_count": 5,
      "metadata": {
        "id": "UPKhI0go7UcY"
      },
      "outputs": [],
      "source": [
        "# We freeze the parameters of the pre-trained model\n",
        "for param in model.parameters():\n",
        "    param.requires_grad = False\n",
        "    \n",
        "# Take the number of features of last layer of the pre-trained model    \n",
        "n_features = model.fc.in_features\n",
        "    \n",
        "# We write our classifier (at the position the last layer of the pre-trained model)\n",
        "model.fc = nn.Sequential(\n",
        "    nn.Linear(n_features, 256),\n",
        "    nn.ReLU(),\n",
        "    nn.Linear(256, 10)\n",
        "    )\n",
        "\n",
        "for param in model.fc.parameters():\n",
        "    param.requires_grad = True"
      ]
    },
    {
      "cell_type": "markdown",
      "metadata": {
        "id": "WictkEMA7UcZ"
      },
      "source": [
        "We use the *Cross Entropy* loss function and the *Adam* optimizer."
      ]
    },
    {
      "cell_type": "code",
      "execution_count": 6,
      "metadata": {
        "id": "yo10eDiH7UcZ"
      },
      "outputs": [],
      "source": [
        "# We define the loss criterion\n",
        "criterion = nn.CrossEntropyLoss()\n",
        "\n",
        "# Only train the classifier parameters, feature parameters are frozen\n",
        "optimizer = optim.Adam(model.fc.parameters(), lr=0.003)\n",
        "\n",
        "# We use GPU if it's available, and the CPU otherwise\n",
        "device = torch.device(\"cuda\" if torch.cuda.is_available() else \"cpu\")\n",
        "model.to(device);"
      ]
    },
    {
      "cell_type": "markdown",
      "metadata": {
        "id": "LVr9MG0n7Uca"
      },
      "source": [
        "## Training\n",
        "\n",
        "We implement the training of our model, with the training and the validation datsets."
      ]
    },
    {
      "cell_type": "code",
      "execution_count": 7,
      "metadata": {
        "colab": {
          "base_uri": "https://localhost:8080/"
        },
        "id": "LnsW2_km7Uca",
        "outputId": "83d8a990-916b-4034-b062-dca5f4dc12c3"
      },
      "outputs": [
        {
          "name": "stdout",
          "output_type": "stream",
          "text": [
            "Epoch: 1 \tTraining Loss: 1.369180 \tValidation Loss: 0.556543 \tValidation Accuracy: 0.862000\n",
            "Validation loss decreased (inf --> 0.556543).  Saving model ...\n",
            "Epoch: 2 \tTraining Loss: 0.363262 \tValidation Loss: 0.240316 \tValidation Accuracy: 0.924000\n",
            "Validation loss decreased (0.556543 --> 0.240316).  Saving model ...\n",
            "Epoch: 3 \tTraining Loss: 0.209871 \tValidation Loss: 0.209627 \tValidation Accuracy: 0.926000\n",
            "Validation loss decreased (0.240316 --> 0.209627).  Saving model ...\n",
            "Epoch: 4 \tTraining Loss: 0.169979 \tValidation Loss: 0.170181 \tValidation Accuracy: 0.935000\n",
            "Validation loss decreased (0.209627 --> 0.170181).  Saving model ...\n",
            "Epoch: 5 \tTraining Loss: 0.135738 \tValidation Loss: 0.162780 \tValidation Accuracy: 0.947000\n",
            "Validation loss decreased (0.170181 --> 0.162780).  Saving model ...\n",
            "Epoch: 6 \tTraining Loss: 0.125024 \tValidation Loss: 0.151635 \tValidation Accuracy: 0.938000\n",
            "Validation loss decreased (0.162780 --> 0.151635).  Saving model ...\n",
            "Epoch: 7 \tTraining Loss: 0.110735 \tValidation Loss: 0.158074 \tValidation Accuracy: 0.941000\n",
            "Epoch: 8 \tTraining Loss: 0.107334 \tValidation Loss: 0.154940 \tValidation Accuracy: 0.943000\n",
            "Epoch: 9 \tTraining Loss: 0.097426 \tValidation Loss: 0.150327 \tValidation Accuracy: 0.941000\n",
            "Validation loss decreased (0.151635 --> 0.150327).  Saving model ...\n",
            "Epoch: 10 \tTraining Loss: 0.096998 \tValidation Loss: 0.148949 \tValidation Accuracy: 0.946000\n",
            "Validation loss decreased (0.150327 --> 0.148949).  Saving model ...\n",
            "Epoch: 11 \tTraining Loss: 0.076884 \tValidation Loss: 0.153713 \tValidation Accuracy: 0.942000\n",
            "Epoch: 12 \tTraining Loss: 0.073855 \tValidation Loss: 0.184184 \tValidation Accuracy: 0.934000\n",
            "Epoch: 13 \tTraining Loss: 0.063825 \tValidation Loss: 0.166012 \tValidation Accuracy: 0.939000\n",
            "Epoch: 14 \tTraining Loss: 0.062872 \tValidation Loss: 0.191926 \tValidation Accuracy: 0.930000\n",
            "Epoch: 15 \tTraining Loss: 0.056803 \tValidation Loss: 0.152930 \tValidation Accuracy: 0.945000\n",
            "Epoch: 16 \tTraining Loss: 0.054626 \tValidation Loss: 0.161683 \tValidation Accuracy: 0.943000\n",
            "Epoch: 17 \tTraining Loss: 0.048158 \tValidation Loss: 0.169315 \tValidation Accuracy: 0.943000\n",
            "Epoch: 18 \tTraining Loss: 0.047969 \tValidation Loss: 0.181706 \tValidation Accuracy: 0.934000\n",
            "Epoch: 19 \tTraining Loss: 0.055782 \tValidation Loss: 0.190385 \tValidation Accuracy: 0.935000\n",
            "Epoch: 20 \tTraining Loss: 0.042179 \tValidation Loss: 0.168504 \tValidation Accuracy: 0.936000\n"
          ]
        }
      ],
      "source": [
        "# Number of epochs used to train the model\n",
        "n_epochs = 20\n",
        "\n",
        "# Variables to keep track of the change in validation loss, to save the best model\n",
        "valid_loss_min = np.Inf \n",
        "best_accuracy = 0.0\n",
        "\n",
        "# Variables to keep the accuracies calculated at each epoch in order to plot them later\n",
        "epoch_all = []  \n",
        "valid_epoch_acc_all = []\n",
        "train_epoch_acc_all = []\n",
        "\n",
        "for epoch in range(1, n_epochs+1):\n",
        "\n",
        "    # To keep track of training and validation loss and accuracy\n",
        "    train_loss = 0.0\n",
        "    valid_loss = 0.0\n",
        "    valid_running_corrects = 0\n",
        "    train_running_corrects = 0\n",
        "    \n",
        "    ###################\n",
        "    # train the model #\n",
        "    ###################\n",
        "    model.train()\n",
        "    for images, labels in trainloader:\n",
        "        # move tensors to GPU if CUDA is available\n",
        "        images, labels = images.to(device), labels.to(device)\n",
        "        # clear the gradients of all optimized variables\n",
        "        optimizer.zero_grad()\n",
        "        # forward pass: compute predicted outputs by passing images to the model\n",
        "        output = model.forward(images)\n",
        "        # calculate the batch loss\n",
        "        loss = criterion(output, labels)\n",
        "        # backward pass: compute gradient of the loss with respect to model parameters\n",
        "        loss.backward()\n",
        "        # perform a single optimization step (parameter update)\n",
        "        optimizer.step()\n",
        "        # update training loss\n",
        "        train_loss += loss.item()*images.size(0)\n",
        "        # to calculate the training set accuracy later: \n",
        "        # take as prediction the label with highest output (highest probability)\n",
        "        _, pred = torch.max(output, 1)\n",
        "        # total number of correct predictions\n",
        "        train_running_corrects += torch.sum(pred == labels)\n",
        "        \n",
        "    ######################    \n",
        "    # validate the model #\n",
        "    ######################\n",
        "    model.eval()\n",
        "    for images, labels in validloader:\n",
        "        # move tensors to GPU if CUDA is available\n",
        "        images, labels = images.to(device), labels.to(device)\n",
        "        # forward pass: compute predicted outputs by passing images to the model\n",
        "        output = model.forward(images)\n",
        "        # calculate the batch loss\n",
        "        loss = criterion(output, labels)\n",
        "        # update average validation loss \n",
        "        valid_loss += loss.item()*images.size(0)\n",
        "        # to calculate the validation accuracy later: \n",
        "        # take as prediction the label with highest output (highest probability)\n",
        "        _, pred = torch.max(output, 1)\n",
        "        # total number of correct predictions\n",
        "        valid_running_corrects += torch.sum(pred == labels)\n",
        "    \n",
        "    # calculate average losses\n",
        "    train_loss = train_loss/len(trainloader.sampler)\n",
        "    valid_loss = valid_loss/len(validloader.sampler)\n",
        "    \n",
        "    # calculate accuracy\n",
        "    train_epoch_acc = train_running_corrects.double() / len(trainloader.sampler)\n",
        "    valid_epoch_acc = valid_running_corrects.double() / len(validloader.sampler)\n",
        "        \n",
        "    # print training/validation statistics \n",
        "    print('Epoch: {} \\tTraining Loss: {:.6f} \\tValidation Loss: {:.6f} \\tValidation Accuracy: {:.6f}'.format(\n",
        "        epoch, train_loss, valid_loss,valid_epoch_acc))\n",
        "    \n",
        "    # save model if validation loss has decreased\n",
        "    if valid_loss <= valid_loss_min:\n",
        "        print('Validation loss decreased ({:.6f} --> {:.6f}).  Saving model ...'.format(\n",
        "        valid_loss_min,\n",
        "        valid_loss))\n",
        "        torch.save(model.state_dict(), 'model_stl10.pt')\n",
        "        valid_loss_min = valid_loss\n",
        "\n",
        "    # We keep the accuracies at each epoch, to plot them later, and transfer them to the cpu\n",
        "    # in order to convert the values into a numpy array and plot them\n",
        "    epoch_all.append(epoch)    \n",
        "    valid_epoch_acc_all.append(valid_epoch_acc.cpu())\n",
        "    train_epoch_acc_all.append(train_epoch_acc.cpu())"
      ]
    },
    {
      "cell_type": "code",
      "execution_count": 8,
      "metadata": {
        "colab": {
          "base_uri": "https://localhost:8080/",
          "height": 297
        },
        "id": "7rSC8nVX7Ucb",
        "outputId": "4f90ce0f-305b-4e75-ed82-01b44926f081"
      },
      "outputs": [
        {
          "data": {
            "image/png": "[encoded data removed]",
            "text/plain": [
              "<Figure size 432x288 with 1 Axes>"
            ]
          },
          "metadata": {
            "needs_background": "light"
          },
          "output_type": "display_data"
        }
      ],
      "source": [
        "plt.plot(epoch_all, valid_epoch_acc_all, label=\"validation accuracy\", color=\"red\", linestyle='-.')\n",
        "#plt.plot(epoch_all, train_epoch_acc_all, label=\"training accuracy\", color=\"blue\",linestyle='-.')\n",
        "plt.title(\"ResNet model on the STL10 dataset: accuracy per epoch\")\n",
        "plt.legend()\n",
        "plt.tight_layout()\n",
        "plt.show()"
      ]
    },
    {
      "cell_type": "markdown",
      "metadata": {
        "id": "VRwB8N2u7Ucb"
      },
      "source": [
        "# Test of the model\n",
        "\n",
        "We finally implement a test of the model accuracy, on the test dataset, that has not been used in the model training."
      ]
    },
    {
      "cell_type": "code",
      "execution_count": 10,
      "metadata": {
        "colab": {
          "base_uri": "https://localhost:8080/"
        },
        "id": "UszUmujR7Ucb",
        "outputId": "c24d7665-f114-4b47-e937-d413dc4b263e"
      },
      "outputs": [
        {
          "name": "stdout",
          "output_type": "stream",
          "text": [
            "\tTest Loss: 0.156733 \tTest Accuracy: 0.948625\n"
          ]
        }
      ],
      "source": [
        "# We test our best model (the one with the lowest validation loss)\n",
        "model.load_state_dict(torch.load('model_stl10.pt'))\n",
        "\n",
        "\n",
        "# To keep track of test loss and accuracy\n",
        "test_loss = 0.0\n",
        "test_running_corrects = 0\n",
        "\n",
        "\n",
        "model.eval()\n",
        "for images, labels in testloader:\n",
        "    # move tensors to GPU if CUDA is available\n",
        "    images, labels = images.to(device), labels.to(device)\n",
        "    # forward pass: compute predicted outputs by passing images to the model\n",
        "    output = model.forward(images)\n",
        "    # calculate the batch loss\n",
        "    loss = criterion(output, labels)\n",
        "    # update average test loss \n",
        "    test_loss += loss.item()*images.size(0)\n",
        "    # to calculate the test accuracy later: \n",
        "    # take as prediction the label with highest output (highest probability)\n",
        "    _, pred = torch.max(output, 1)\n",
        "    # total number of correct predictions\n",
        "    test_running_corrects += torch.sum(pred == labels)\n",
        "\n",
        "\n",
        "# calculate average loss\n",
        "test_loss = test_loss/len(testloader.sampler)\n",
        "    \n",
        "# claculate accuracy\n",
        "test_epoch_acc = test_running_corrects.double() / len(testloader.sampler)\n",
        "        \n",
        "# print training/validation statistics \n",
        "print('\\tTest Loss: {:.6f} \\tTest Accuracy: {:.6f}'.format(\n",
        "    test_loss,test_epoch_acc))"
      ]
    },
    {
      "cell_type": "markdown",
      "metadata": {},
      "source": [
        "We finally get a **94.9\\%** test accuracy of our model !"
      ]
    }
  ],
  "metadata": {
    "accelerator": "GPU",
    "colab": {
      "collapsed_sections": [],
      "name": "Image_classification_transfer.ipynb",
      "provenance": []
    },
    "kernelspec": {
      "display_name": "Python 3",
      "language": "python",
      "name": "python3"
    },
    "language_info": {
      "codemirror_mode": {
        "name": "ipython",
        "version": 3
      },
      "file_extension": ".py",
      "mimetype": "text/x-python",
      "name": "python",
      "nbconvert_exporter": "python",
      "pygments_lexer": "ipython3",
      "version": "3.8.12"
    },
    "widgets": {
      "application/vnd.jupyter.widget-state+json": {
        "0ecd7564fc6444a4a88a24cceaa8cdb4": {
          "model_module": "@jupyter-widgets/base",
          "model_module_version": "1.2.0",
          "model_name": "LayoutModel",
          "state": {
            "_model_module": "@jupyter-widgets/base",
            "_model_module_version": "1.2.0",
            "_model_name": "LayoutModel",
            "_view_count": null,
            "_view_module": "@jupyter-widgets/base",
            "_view_module_version": "1.2.0",
            "_view_name": "LayoutView",
            "align_content": null,
            "align_items": null,
            "align_self": null,
            "border": null,
            "bottom": null,
            "display": null,
            "flex": null,
            "flex_flow": null,
            "grid_area": null,
            "grid_auto_columns": null,
            "grid_auto_flow": null,
            "grid_auto_rows": null,
            "grid_column": null,
            "grid_gap": null,
            "grid_row": null,
            "grid_template_areas": null,
            "grid_template_columns": null,
            "grid_template_rows": null,
            "height": null,
            "justify_content": null,
            "justify_items": null,
            "left": null,
            "margin": null,
            "max_height": null,
            "max_width": null,
            "min_height": null,
            "min_width": null,
            "object_fit": null,
            "object_position": null,
            "order": null,
            "overflow": null,
            "overflow_x": null,
            "overflow_y": null,
            "padding": null,
            "right": null,
            "top": null,
            "visibility": null,
            "width": null
          }
        },
        "202c5bdde04d4a14a81c0f055a24fb89": {
          "model_module": "@jupyter-widgets/controls",
          "model_module_version": "1.5.0",
          "model_name": "DescriptionStyleModel",
          "state": {
            "_model_module": "@jupyter-widgets/controls",
            "_model_module_version": "1.5.0",
            "_model_name": "DescriptionStyleModel",
            "_view_count": null,
            "_view_module": "@jupyter-widgets/base",
            "_view_module_version": "1.2.0",
            "_view_name": "StyleView",
            "description_width": ""
          }
        },
        "2666954f4a5244029bc51dbbf83d126d": {
          "model_module": "@jupyter-widgets/controls",
          "model_module_version": "1.5.0",
          "model_name": "DescriptionStyleModel",
          "state": {
            "_model_module": "@jupyter-widgets/controls",
            "_model_module_version": "1.5.0",
            "_model_name": "DescriptionStyleModel",
            "_view_count": null,
            "_view_module": "@jupyter-widgets/base",
            "_view_module_version": "1.2.0",
            "_view_name": "StyleView",
            "description_width": ""
          }
        },
        "2c5098481cfc47a8a40cd4c0ffe83ab4": {
          "model_module": "@jupyter-widgets/base",
          "model_module_version": "1.2.0",
          "model_name": "LayoutModel",
          "state": {
            "_model_module": "@jupyter-widgets/base",
            "_model_module_version": "1.2.0",
            "_model_name": "LayoutModel",
            "_view_count": null,
            "_view_module": "@jupyter-widgets/base",
            "_view_module_version": "1.2.0",
            "_view_name": "LayoutView",
            "align_content": null,
            "align_items": null,
            "align_self": null,
            "border": null,
            "bottom": null,
            "display": null,
            "flex": null,
            "flex_flow": null,
            "grid_area": null,
            "grid_auto_columns": null,
            "grid_auto_flow": null,
            "grid_auto_rows": null,
            "grid_column": null,
            "grid_gap": null,
            "grid_row": null,
            "grid_template_areas": null,
            "grid_template_columns": null,
            "grid_template_rows": null,
            "height": null,
            "justify_content": null,
            "justify_items": null,
            "left": null,
            "margin": null,
            "max_height": null,
            "max_width": null,
            "min_height": null,
            "min_width": null,
            "object_fit": null,
            "object_position": null,
            "order": null,
            "overflow": null,
            "overflow_x": null,
            "overflow_y": null,
            "padding": null,
            "right": null,
            "top": null,
            "visibility": null,
            "width": null
          }
        },
        "2d92567d064f47668ef878b6d6982e9a": {
          "model_module": "@jupyter-widgets/controls",
          "model_module_version": "1.5.0",
          "model_name": "HBoxModel",
          "state": {
            "_dom_classes": [],
            "_model_module": "@jupyter-widgets/controls",
            "_model_module_version": "1.5.0",
            "_model_name": "HBoxModel",
            "_view_count": null,
            "_view_module": "@jupyter-widgets/controls",
            "_view_module_version": "1.5.0",
            "_view_name": "HBoxView",
            "box_style": "",
            "children": [
              "IPY_MODEL_9a05b20990624568b9a09582a2303414",
              "IPY_MODEL_371299f289cd48108404f23006d5551c",
              "IPY_MODEL_3bbf45c458dc4fc1a366fd13204e6cb4"
            ],
            "layout": "IPY_MODEL_b00a8247b2064dc3ae2cac080a3b0170"
          }
        },
        "2db7740f7bf3487eb2ec9fa67b61bb16": {
          "model_module": "@jupyter-widgets/controls",
          "model_module_version": "1.5.0",
          "model_name": "DescriptionStyleModel",
          "state": {
            "_model_module": "@jupyter-widgets/controls",
            "_model_module_version": "1.5.0",
            "_model_name": "DescriptionStyleModel",
            "_view_count": null,
            "_view_module": "@jupyter-widgets/base",
            "_view_module_version": "1.2.0",
            "_view_name": "StyleView",
            "description_width": ""
          }
        },
        "371299f289cd48108404f23006d5551c": {
          "model_module": "@jupyter-widgets/controls",
          "model_module_version": "1.5.0",
          "model_name": "FloatProgressModel",
          "state": {
            "_dom_classes": [],
            "_model_module": "@jupyter-widgets/controls",
            "_model_module_version": "1.5.0",
            "_model_name": "FloatProgressModel",
            "_view_count": null,
            "_view_module": "@jupyter-widgets/controls",
            "_view_module_version": "1.5.0",
            "_view_name": "ProgressView",
            "bar_style": "success",
            "description": "",
            "description_tooltip": null,
            "layout": "IPY_MODEL_2c5098481cfc47a8a40cd4c0ffe83ab4",
            "max": 46830571,
            "min": 0,
            "orientation": "horizontal",
            "style": "IPY_MODEL_65871a55e3054092b4d5678a1a5159e7",
            "value": 46830571
          }
        },
        "3bbf45c458dc4fc1a366fd13204e6cb4": {
          "model_module": "@jupyter-widgets/controls",
          "model_module_version": "1.5.0",
          "model_name": "HTMLModel",
          "state": {
            "_dom_classes": [],
            "_model_module": "@jupyter-widgets/controls",
            "_model_module_version": "1.5.0",
            "_model_name": "HTMLModel",
            "_view_count": null,
            "_view_module": "@jupyter-widgets/controls",
            "_view_module_version": "1.5.0",
            "_view_name": "HTMLView",
            "description": "",
            "description_tooltip": null,
            "layout": "IPY_MODEL_a4d86820ecb14001ae8fd1ee83ae877a",
            "placeholder": "​",
            "style": "IPY_MODEL_2666954f4a5244029bc51dbbf83d126d",
            "value": " 44.7M/44.7M [00:00&lt;00:00, 86.7MB/s]"
          }
        },
        "448c047c3080405aa0f8ae833be49312": {
          "model_module": "@jupyter-widgets/base",
          "model_module_version": "1.2.0",
          "model_name": "LayoutModel",
          "state": {
            "_model_module": "@jupyter-widgets/base",
            "_model_module_version": "1.2.0",
            "_model_name": "LayoutModel",
            "_view_count": null,
            "_view_module": "@jupyter-widgets/base",
            "_view_module_version": "1.2.0",
            "_view_name": "LayoutView",
            "align_content": null,
            "align_items": null,
            "align_self": null,
            "border": null,
            "bottom": null,
            "display": null,
            "flex": null,
            "flex_flow": null,
            "grid_area": null,
            "grid_auto_columns": null,
            "grid_auto_flow": null,
            "grid_auto_rows": null,
            "grid_column": null,
            "grid_gap": null,
            "grid_row": null,
            "grid_template_areas": null,
            "grid_template_columns": null,
            "grid_template_rows": null,
            "height": null,
            "justify_content": null,
            "justify_items": null,
            "left": null,
            "margin": null,
            "max_height": null,
            "max_width": null,
            "min_height": null,
            "min_width": null,
            "object_fit": null,
            "object_position": null,
            "order": null,
            "overflow": null,
            "overflow_x": null,
            "overflow_y": null,
            "padding": null,
            "right": null,
            "top": null,
            "visibility": null,
            "width": null
          }
        },
        "5c312296e41146a9a60c5a8d133f5f63": {
          "model_module": "@jupyter-widgets/base",
          "model_module_version": "1.2.0",
          "model_name": "LayoutModel",
          "state": {
            "_model_module": "@jupyter-widgets/base",
            "_model_module_version": "1.2.0",
            "_model_name": "LayoutModel",
            "_view_count": null,
            "_view_module": "@jupyter-widgets/base",
            "_view_module_version": "1.2.0",
            "_view_name": "LayoutView",
            "align_content": null,
            "align_items": null,
            "align_self": null,
            "border": null,
            "bottom": null,
            "display": null,
            "flex": null,
            "flex_flow": null,
            "grid_area": null,
            "grid_auto_columns": null,
            "grid_auto_flow": null,
            "grid_auto_rows": null,
            "grid_column": null,
            "grid_gap": null,
            "grid_row": null,
            "grid_template_areas": null,
            "grid_template_columns": null,
            "grid_template_rows": null,
            "height": null,
            "justify_content": null,
            "justify_items": null,
            "left": null,
            "margin": null,
            "max_height": null,
            "max_width": null,
            "min_height": null,
            "min_width": null,
            "object_fit": null,
            "object_position": null,
            "order": null,
            "overflow": null,
            "overflow_x": null,
            "overflow_y": null,
            "padding": null,
            "right": null,
            "top": null,
            "visibility": null,
            "width": null
          }
        },
        "65871a55e3054092b4d5678a1a5159e7": {
          "model_module": "@jupyter-widgets/controls",
          "model_module_version": "1.5.0",
          "model_name": "ProgressStyleModel",
          "state": {
            "_model_module": "@jupyter-widgets/controls",
            "_model_module_version": "1.5.0",
            "_model_name": "ProgressStyleModel",
            "_view_count": null,
            "_view_module": "@jupyter-widgets/base",
            "_view_module_version": "1.2.0",
            "_view_name": "StyleView",
            "bar_color": null,
            "description_width": ""
          }
        },
        "8af6591c36854fc797ea2c4c8fb53038": {
          "model_module": "@jupyter-widgets/controls",
          "model_module_version": "1.5.0",
          "model_name": "HBoxModel",
          "state": {
            "_dom_classes": [],
            "_model_module": "@jupyter-widgets/controls",
            "_model_module_version": "1.5.0",
            "_model_name": "HBoxModel",
            "_view_count": null,
            "_view_module": "@jupyter-widgets/controls",
            "_view_module_version": "1.5.0",
            "_view_name": "HBoxView",
            "box_style": "",
            "children": [
              "IPY_MODEL_d2962bc1519340cd83ff51fe89146235",
              "IPY_MODEL_cb68a5d7e8d5486f994608d61912dbbe",
              "IPY_MODEL_d2a83142f98e47899726d8e97b87c355"
            ],
            "layout": "IPY_MODEL_5c312296e41146a9a60c5a8d133f5f63"
          }
        },
        "9a05b20990624568b9a09582a2303414": {
          "model_module": "@jupyter-widgets/controls",
          "model_module_version": "1.5.0",
          "model_name": "HTMLModel",
          "state": {
            "_dom_classes": [],
            "_model_module": "@jupyter-widgets/controls",
            "_model_module_version": "1.5.0",
            "_model_name": "HTMLModel",
            "_view_count": null,
            "_view_module": "@jupyter-widgets/controls",
            "_view_module_version": "1.5.0",
            "_view_name": "HTMLView",
            "description": "",
            "description_tooltip": null,
            "layout": "IPY_MODEL_0ecd7564fc6444a4a88a24cceaa8cdb4",
            "placeholder": "​",
            "style": "IPY_MODEL_202c5bdde04d4a14a81c0f055a24fb89",
            "value": "100%"
          }
        },
        "a4d86820ecb14001ae8fd1ee83ae877a": {
          "model_module": "@jupyter-widgets/base",
          "model_module_version": "1.2.0",
          "model_name": "LayoutModel",
          "state": {
            "_model_module": "@jupyter-widgets/base",
            "_model_module_version": "1.2.0",
            "_model_name": "LayoutModel",
            "_view_count": null,
            "_view_module": "@jupyter-widgets/base",
            "_view_module_version": "1.2.0",
            "_view_name": "LayoutView",
            "align_content": null,
            "align_items": null,
            "align_self": null,
            "border": null,
            "bottom": null,
            "display": null,
            "flex": null,
            "flex_flow": null,
            "grid_area": null,
            "grid_auto_columns": null,
            "grid_auto_flow": null,
            "grid_auto_rows": null,
            "grid_column": null,
            "grid_gap": null,
            "grid_row": null,
            "grid_template_areas": null,
            "grid_template_columns": null,
            "grid_template_rows": null,
            "height": null,
            "justify_content": null,
            "justify_items": null,
            "left": null,
            "margin": null,
            "max_height": null,
            "max_width": null,
            "min_height": null,
            "min_width": null,
            "object_fit": null,
            "object_position": null,
            "order": null,
            "overflow": null,
            "overflow_x": null,
            "overflow_y": null,
            "padding": null,
            "right": null,
            "top": null,
            "visibility": null,
            "width": null
          }
        },
        "a54e02f62fff4dbcb35640886f2d0966": {
          "model_module": "@jupyter-widgets/base",
          "model_module_version": "1.2.0",
          "model_name": "LayoutModel",
          "state": {
            "_model_module": "@jupyter-widgets/base",
            "_model_module_version": "1.2.0",
            "_model_name": "LayoutModel",
            "_view_count": null,
            "_view_module": "@jupyter-widgets/base",
            "_view_module_version": "1.2.0",
            "_view_name": "LayoutView",
            "align_content": null,
            "align_items": null,
            "align_self": null,
            "border": null,
            "bottom": null,
            "display": null,
            "flex": null,
            "flex_flow": null,
            "grid_area": null,
            "grid_auto_columns": null,
            "grid_auto_flow": null,
            "grid_auto_rows": null,
            "grid_column": null,
            "grid_gap": null,
            "grid_row": null,
            "grid_template_areas": null,
            "grid_template_columns": null,
            "grid_template_rows": null,
            "height": null,
            "justify_content": null,
            "justify_items": null,
            "left": null,
            "margin": null,
            "max_height": null,
            "max_width": null,
            "min_height": null,
            "min_width": null,
            "object_fit": null,
            "object_position": null,
            "order": null,
            "overflow": null,
            "overflow_x": null,
            "overflow_y": null,
            "padding": null,
            "right": null,
            "top": null,
            "visibility": null,
            "width": null
          }
        },
        "b00a8247b2064dc3ae2cac080a3b0170": {
          "model_module": "@jupyter-widgets/base",
          "model_module_version": "1.2.0",
          "model_name": "LayoutModel",
          "state": {
            "_model_module": "@jupyter-widgets/base",
            "_model_module_version": "1.2.0",
            "_model_name": "LayoutModel",
            "_view_count": null,
            "_view_module": "@jupyter-widgets/base",
            "_view_module_version": "1.2.0",
            "_view_name": "LayoutView",
            "align_content": null,
            "align_items": null,
            "align_self": null,
            "border": null,
            "bottom": null,
            "display": null,
            "flex": null,
            "flex_flow": null,
            "grid_area": null,
            "grid_auto_columns": null,
            "grid_auto_flow": null,
            "grid_auto_rows": null,
            "grid_column": null,
            "grid_gap": null,
            "grid_row": null,
            "grid_template_areas": null,
            "grid_template_columns": null,
            "grid_template_rows": null,
            "height": null,
            "justify_content": null,
            "justify_items": null,
            "left": null,
            "margin": null,
            "max_height": null,
            "max_width": null,
            "min_height": null,
            "min_width": null,
            "object_fit": null,
            "object_position": null,
            "order": null,
            "overflow": null,
            "overflow_x": null,
            "overflow_y": null,
            "padding": null,
            "right": null,
            "top": null,
            "visibility": null,
            "width": null
          }
        },
        "cb68a5d7e8d5486f994608d61912dbbe": {
          "model_module": "@jupyter-widgets/controls",
          "model_module_version": "1.5.0",
          "model_name": "FloatProgressModel",
          "state": {
            "_dom_classes": [],
            "_model_module": "@jupyter-widgets/controls",
            "_model_module_version": "1.5.0",
            "_model_name": "FloatProgressModel",
            "_view_count": null,
            "_view_module": "@jupyter-widgets/controls",
            "_view_module_version": "1.5.0",
            "_view_name": "ProgressView",
            "bar_style": "success",
            "description": "",
            "description_tooltip": null,
            "layout": "IPY_MODEL_a54e02f62fff4dbcb35640886f2d0966",
            "max": 2640397119,
            "min": 0,
            "orientation": "horizontal",
            "style": "IPY_MODEL_f9bc9467ee5b4a6b81e88f8c6910164e",
            "value": 2640397119
          }
        },
        "d2962bc1519340cd83ff51fe89146235": {
          "model_module": "@jupyter-widgets/controls",
          "model_module_version": "1.5.0",
          "model_name": "HTMLModel",
          "state": {
            "_dom_classes": [],
            "_model_module": "@jupyter-widgets/controls",
            "_model_module_version": "1.5.0",
            "_model_name": "HTMLModel",
            "_view_count": null,
            "_view_module": "@jupyter-widgets/controls",
            "_view_module_version": "1.5.0",
            "_view_name": "HTMLView",
            "description": "",
            "description_tooltip": null,
            "layout": "IPY_MODEL_d63843b5ede24fee8ff1f975c263f247",
            "placeholder": "​",
            "style": "IPY_MODEL_f1a96cdd489543bc929b4e0b20f855fb",
            "value": ""
          }
        },
        "d2a83142f98e47899726d8e97b87c355": {
          "model_module": "@jupyter-widgets/controls",
          "model_module_version": "1.5.0",
          "model_name": "HTMLModel",
          "state": {
            "_dom_classes": [],
            "_model_module": "@jupyter-widgets/controls",
            "_model_module_version": "1.5.0",
            "_model_name": "HTMLModel",
            "_view_count": null,
            "_view_module": "@jupyter-widgets/controls",
            "_view_module_version": "1.5.0",
            "_view_name": "HTMLView",
            "description": "",
            "description_tooltip": null,
            "layout": "IPY_MODEL_448c047c3080405aa0f8ae833be49312",
            "placeholder": "​",
            "style": "IPY_MODEL_2db7740f7bf3487eb2ec9fa67b61bb16",
            "value": " 2640397312/? [00:55&lt;00:00, 55433193.53it/s]"
          }
        },
        "d63843b5ede24fee8ff1f975c263f247": {
          "model_module": "@jupyter-widgets/base",
          "model_module_version": "1.2.0",
          "model_name": "LayoutModel",
          "state": {
            "_model_module": "@jupyter-widgets/base",
            "_model_module_version": "1.2.0",
            "_model_name": "LayoutModel",
            "_view_count": null,
            "_view_module": "@jupyter-widgets/base",
            "_view_module_version": "1.2.0",
            "_view_name": "LayoutView",
            "align_content": null,
            "align_items": null,
            "align_self": null,
            "border": null,
            "bottom": null,
            "display": null,
            "flex": null,
            "flex_flow": null,
            "grid_area": null,
            "grid_auto_columns": null,
            "grid_auto_flow": null,
            "grid_auto_rows": null,
            "grid_column": null,
            "grid_gap": null,
            "grid_row": null,
            "grid_template_areas": null,
            "grid_template_columns": null,
            "grid_template_rows": null,
            "height": null,
            "justify_content": null,
            "justify_items": null,
            "left": null,
            "margin": null,
            "max_height": null,
            "max_width": null,
            "min_height": null,
            "min_width": null,
            "object_fit": null,
            "object_position": null,
            "order": null,
            "overflow": null,
            "overflow_x": null,
            "overflow_y": null,
            "padding": null,
            "right": null,
            "top": null,
            "visibility": null,
            "width": null
          }
        },
        "f1a96cdd489543bc929b4e0b20f855fb": {
          "model_module": "@jupyter-widgets/controls",
          "model_module_version": "1.5.0",
          "model_name": "DescriptionStyleModel",
          "state": {
            "_model_module": "@jupyter-widgets/controls",
            "_model_module_version": "1.5.0",
            "_model_name": "DescriptionStyleModel",
            "_view_count": null,
            "_view_module": "@jupyter-widgets/base",
            "_view_module_version": "1.2.0",
            "_view_name": "StyleView",
            "description_width": ""
          }
        },
        "f9bc9467ee5b4a6b81e88f8c6910164e": {
          "model_module": "@jupyter-widgets/controls",
          "model_module_version": "1.5.0",
          "model_name": "ProgressStyleModel",
          "state": {
            "_model_module": "@jupyter-widgets/controls",
            "_model_module_version": "1.5.0",
            "_model_name": "ProgressStyleModel",
            "_view_count": null,
            "_view_module": "@jupyter-widgets/base",
            "_view_module_version": "1.2.0",
            "_view_name": "StyleView",
            "bar_color": null,
            "description_width": ""
          }
        }
      }
    }
  },
  "nbformat": 4,
  "nbformat_minor": 0
}
